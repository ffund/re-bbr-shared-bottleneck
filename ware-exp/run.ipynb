{
 "cells": [
  {
   "cell_type": "markdown",
   "metadata": {},
   "source": [
    "## Reproduce results from “Modeling BBR’s Interactions with Loss-Based Congestion Control”\n",
    "\n",
    "This notebook will reproduce selected findings from\n",
    "\n",
    "> Ranysha Ware, Matthew K. Mukerjee, Srinivasan Seshan, and Justine Sherry. 2019. Modeling BBR’s Interactions with Loss-Based Congestion Control. In Proceedings of the Internet Measurement Conference (IMC ’19). Association for Computing Machinery, New York, NY, USA, 137–143. https://doi.org/10.1145/3355369.3355604\n",
    "\n",
    "specifically,\n",
    "\n",
    "-   Figure 1b and 1c (initial measurements of BBR’s empirical behaviors)\n",
    "-   Figure 2: BBR vs Cubic in a 40ms × 10Mbps network (convergence time and goodput for 1 BBR and 1 Cubic flow over varying queue sizes)\n",
    "-   Figure 3: BBR and Cubic or Reno’s queue when competing for 4 minutes over a network with a 64 BDP (1024 packet) queue"
   ],
   "id": "1c863b1b-7267-4445-b954-bdfba7563084"
  },
  {
   "cell_type": "markdown",
   "metadata": {},
   "source": [
    "The following group of cells installs prerequisites for data analysis and visualization:"
   ],
   "id": "cd4f0e35-be9f-4be1-b573-975510b4aaa6"
  },
  {
   "cell_type": "code",
   "execution_count": null,
   "metadata": {},
   "outputs": [],
   "source": [
    "!pip install seaborn"
   ],
   "id": "b3fcce08-f485-4d6f-a6cf-000278e06ba0"
  },
  {
   "cell_type": "code",
   "execution_count": null,
   "metadata": {},
   "outputs": [],
   "source": [
    "import time\n",
    "import pandas as pd\n",
    "from io import StringIO\n",
    "import seaborn as sns \n",
    "import matplotlib.pyplot as plt"
   ],
   "id": "79dfc036-e4a5-4461-995d-a61f3f2435cb"
  },
  {
   "cell_type": "markdown",
   "metadata": {},
   "source": [
    "### Configure environment"
   ],
   "id": "b37befed-2b1a-4608-8854-c74cefbd44f6"
  },
  {
   "cell_type": "code",
   "execution_count": null,
   "metadata": {},
   "outputs": [],
   "source": [
    "from fabrictestbed_extensions.fablib.fablib import FablibManager as fablib_manager\n",
    "fablib = fablib_manager() \n",
    "conf = fablib.show_config()"
   ],
   "id": "3d621b02-e934-4c92-97bd-2f0831d9675a"
  },
  {
   "cell_type": "markdown",
   "metadata": {},
   "source": [
    "### Define configuration for this experiment"
   ],
   "id": "e3ca7467-1ad8-4499-b346-a7315ad7542c"
  },
  {
   "cell_type": "code",
   "execution_count": null,
   "metadata": {},
   "outputs": [],
   "source": [
    "slice_name=\"ware-\" + fablib.get_bastion_username()\n",
    "\n",
    "node_conf = [\n",
    " {'name': \"sender\",    'cores': 2, 'ram': 4, 'disk': 10, 'image': 'default_ubuntu_22', 'packages': ['iperf3']}, \n",
    " {'name': \"receiver\",  'cores': 2, 'ram': 4, 'disk': 10, 'image': 'default_ubuntu_22', 'packages': ['iperf3']}, \n",
    " {'name': \"router\",    'cores': 2, 'ram': 4, 'disk': 10, 'image': 'default_ubuntu_22', 'packages': []}\n",
    "]\n",
    "net_conf = [\n",
    " {\"name\": \"net0\", \"subnet\": \"10.0.0.0/24\", \"nodes\": [{\"name\": \"sender\",   \"addr\": \"10.0.0.100\"}, {\"name\": \"router\", \"addr\": \"10.0.0.1\"}]},\n",
    " {\"name\": \"net1\", \"subnet\": \"10.0.1.0/24\", \"nodes\": [{\"name\": \"receiver\", \"addr\": \"10.0.1.100\"}, {\"name\": \"router\", \"addr\": \"10.0.1.1\"}]},\n",
    "]\n",
    "route_conf = [\n",
    " {\"addr\": \"10.0.1.0/24\", \"gw\": \"10.0.0.1\", \"nodes\": [\"sender\"]}, \n",
    " {\"addr\": \"10.0.0.0/24\", \"gw\": \"10.0.1.1\", \"nodes\": [\"receiver\"]}\n",
    "]\n",
    "exp_conf = {'cores': sum([ n['cores'] for n in node_conf]), 'nic': sum([len(n['nodes']) for n in net_conf]) }"
   ],
   "id": "65703e50-63fe-45cf-a77e-67097a999712"
  },
  {
   "cell_type": "markdown",
   "metadata": {},
   "source": [
    "### Reserve resources\n",
    "\n",
    "Now, we are ready to reserve resources!"
   ],
   "id": "becddaea-c410-4e09-9cfa-9504032d8738"
  },
  {
   "cell_type": "markdown",
   "metadata": {},
   "source": [
    "First, make sure you don’t already have a slice with this name:"
   ],
   "id": "a878eaf6-5b30-4d76-b6a1-54d88451a7b0"
  },
  {
   "cell_type": "code",
   "execution_count": null,
   "metadata": {},
   "outputs": [],
   "source": [
    "try:\n",
    "    slice = fablib.get_slice(slice_name)\n",
    "    print(\"You already have a slice by this name!\")\n",
    "    print(\"If you previously reserved resources, skip to the 'log in to resources' section.\")\n",
    "except:\n",
    "    print(\"You don't have a slice named %s yet.\" % slice_name)\n",
    "    print(\"Continue to the next step to make one.\")\n",
    "    slice = fablib.new_slice(name=slice_name)"
   ],
   "id": "f1e897fb-64ae-474c-819f-0081dabe3893"
  },
  {
   "cell_type": "markdown",
   "metadata": {},
   "source": [
    "We will select a random site that has sufficient resources for our experiment:"
   ],
   "id": "1cb7466d-f545-4b9d-9eed-23e0b0eb05e7"
  },
  {
   "cell_type": "code",
   "execution_count": null,
   "metadata": {},
   "outputs": [],
   "source": [
    "while True:\n",
    "    site_name = fablib.get_random_site()\n",
    "    if ( (fablib.resources.get_core_available(site_name) > 1.2*exp_conf['cores']) and\n",
    "        (fablib.resources.get_component_available(site_name, 'SharedNIC-ConnectX-6') > 1.2**exp_conf['nic']) ):\n",
    "        break\n",
    "\n",
    "fablib.show_site(site_name)"
   ],
   "id": "1b45dc0e-277a-4b94-949b-00256fd1e15b"
  },
  {
   "cell_type": "markdown",
   "metadata": {},
   "source": [
    "Then we will add hosts and network segments:"
   ],
   "id": "8beb1d7f-5f61-47a6-9fd1-68e00de3940f"
  },
  {
   "cell_type": "code",
   "execution_count": null,
   "metadata": {},
   "outputs": [],
   "source": [
    "# this cell sets up the nodes\n",
    "for n in node_conf:\n",
    "    slice.add_node(name=n['name'], site=site_name, \n",
    "                   cores=n['cores'], \n",
    "                   ram=n['ram'], \n",
    "                   disk=n['disk'], \n",
    "                   image=n['image'])"
   ],
   "id": "0df45406-0765-4d24-8a2d-b98230997f6b"
  },
  {
   "cell_type": "code",
   "execution_count": null,
   "metadata": {},
   "outputs": [],
   "source": [
    "# this cell sets up the network segments\n",
    "for n in net_conf:\n",
    "    ifaces = [slice.get_node(node[\"name\"]).add_component(model=\"NIC_Basic\", \n",
    "                                                 name=n[\"name\"]).get_interfaces()[0] for node in n['nodes'] ]\n",
    "    slice.add_l2network(name=n[\"name\"], type='L2Bridge', interfaces=ifaces)"
   ],
   "id": "9c5b7f16-7faa-48d4-87a3-b7451bc6ce9c"
  },
  {
   "cell_type": "markdown",
   "metadata": {},
   "source": [
    "The following cell submits our request to the FABRIC site. The output of this cell will update automatically as the status of our request changes.\n",
    "\n",
    "-   While it is being prepared, the “State” of the slice will appear as “Configuring”.\n",
    "-   When it is ready, the “State” of the slice will change to “StableOK”.\n",
    "\n",
    "You may prefer to walk away and come back in a few minutes (for simple slices) or a few tens of minutes (for more complicated slices with many resources)."
   ],
   "id": "4dd5c7b6-6f98-4ce9-aa15-bd9c97506677"
  },
  {
   "cell_type": "code",
   "execution_count": null,
   "metadata": {},
   "outputs": [],
   "source": [
    "slice.submit()"
   ],
   "id": "d43731b1-176c-4cfa-845f-da40ee65a43a"
  },
  {
   "cell_type": "code",
   "execution_count": null,
   "metadata": {},
   "outputs": [],
   "source": [
    "slice.get_state()\n",
    "slice.wait_ssh(progress=True)"
   ],
   "id": "f61c635b-7bbd-46f5-97a4-3c8ef0d69ba0"
  },
  {
   "cell_type": "markdown",
   "metadata": {},
   "source": [
    "### Extend your slice\n",
    "\n",
    "If you don’t plan to finish an experiment in one day, you can extend your slice. The following cell extends your reservation for 7 days."
   ],
   "id": "f1cca427-c64d-4feb-8860-229de727dee0"
  },
  {
   "cell_type": "code",
   "execution_count": null,
   "metadata": {},
   "outputs": [],
   "source": [
    "from datetime import datetime\n",
    "from datetime import timezone\n",
    "from datetime import timedelta\n",
    "\n",
    "# Set end date to 7 days from now\n",
    "end_date = (datetime.now(timezone.utc) + timedelta(days=7)).strftime(\"%Y-%m-%d %H:%M:%S %z\")\n",
    "slice.renew(end_date)"
   ],
   "id": "6d51feef-886a-4543-9cb3-1669417be683"
  },
  {
   "cell_type": "markdown",
   "metadata": {},
   "source": [
    "### Configure resources\n",
    "\n",
    "Next, we will configure the resources so they are ready to use."
   ],
   "id": "f1459cd3-3ca1-4f9b-807c-a3d51bd5f90e"
  },
  {
   "cell_type": "code",
   "execution_count": null,
   "metadata": {},
   "outputs": [],
   "source": [
    "slice = fablib.get_slice(name=slice_name)"
   ],
   "id": "3337778e-6aa2-44a5-a4d8-7cb071951092"
  },
  {
   "cell_type": "code",
   "execution_count": null,
   "metadata": {},
   "outputs": [],
   "source": [
    "# install packages\n",
    "# this will take a while and will run in background while you do other steps\n",
    "for n in node_conf:\n",
    "    if len(n['packages']):\n",
    "        node = slice.get_node(n['name'])\n",
    "        pkg = \" \".join(n['packages'])\n",
    "        node.execute_thread(\"sudo apt update; sudo DEBIAN_FRONTEND=noninteractive apt -y install %s\" % pkg)"
   ],
   "id": "63e102a8-3471-4bb4-8a8f-5de7dde38785"
  },
  {
   "cell_type": "code",
   "execution_count": null,
   "metadata": {},
   "outputs": [],
   "source": [
    "# bring interfaces up and either assign an address (if there is one) or flush address\n",
    "from ipaddress import ip_address, IPv4Address, IPv4Network\n",
    "\n",
    "for net in net_conf:\n",
    "    for n in net['nodes']:\n",
    "        if_name = n['name'] + '-' + net['name'] + '-p1'\n",
    "        iface = slice.get_interface(if_name)\n",
    "        iface.ip_link_up()\n",
    "        if n['addr']:\n",
    "            iface.ip_addr_add(addr=n['addr'], subnet=IPv4Network(net['subnet']))\n",
    "        else:\n",
    "            iface.get_node().execute(\"sudo ip addr flush dev %s\"  % iface.get_device_name())"
   ],
   "id": "2ec7cc05-a03b-422e-a969-868ffef33268"
  },
  {
   "cell_type": "code",
   "execution_count": null,
   "metadata": {},
   "outputs": [],
   "source": [
    "# make sure all interfaces are brought up\n",
    "for iface in slice.get_interfaces():\n",
    "    iface.ip_link_up()"
   ],
   "id": "fadfc33d-df2d-42e5-b759-ddd716751d9b"
  },
  {
   "cell_type": "code",
   "execution_count": null,
   "metadata": {},
   "outputs": [],
   "source": [
    "# prepare a \"hosts\" file that has names and addresses of every node\n",
    "hosts_txt = [ \"%s\\t%s\" % ( n['addr'], n['name'] ) for net in net_conf  for n in net['nodes'] if type(n) is dict and n['addr']]\n",
    "for n in slice.get_nodes():\n",
    "    for h in hosts_txt:\n",
    "        n.execute(\"echo %s | sudo tee -a /etc/hosts\" % h)"
   ],
   "id": "75daad8e-fbc3-4805-96f9-ffd9336f7758"
  },
  {
   "cell_type": "code",
   "execution_count": null,
   "metadata": {},
   "outputs": [],
   "source": [
    "# enable IPv4 forwarding on all nodes\n",
    "for n in slice.get_nodes():\n",
    "    n.execute(\"sudo sysctl -w net.ipv4.ip_forward=1\")"
   ],
   "id": "8d9e84aa-7580-416d-bdaf-9b54535ae9e0"
  },
  {
   "cell_type": "code",
   "execution_count": null,
   "metadata": {},
   "outputs": [],
   "source": [
    "# set up static routes\n",
    "for rt in route_conf:\n",
    "    for n in rt['nodes']:\n",
    "        slice.get_node(name=n).ip_route_add(subnet=IPv4Network(rt['addr']), gateway=rt['gw'])"
   ],
   "id": "cf1e6405-c126-4203-ad78-b8b0d108cbda"
  },
  {
   "cell_type": "code",
   "execution_count": null,
   "metadata": {},
   "outputs": [],
   "source": [
    "# turn off segmentation offload on interfaces\n",
    "for iface in slice.get_interfaces():\n",
    "    iface_name = iface.get_device_name()\n",
    "    n = iface.get_node()\n",
    "    offloads = [\"gro\", \"lro\", \"gso\", \"tso\"]\n",
    "    for offload in offloads:\n",
    "        n.execute(\"sudo ethtool -K %s %s off\" % (iface_name, offload))"
   ],
   "id": "091e3ef0-665c-48f6-a23a-caf94430ca23"
  },
  {
   "cell_type": "markdown",
   "metadata": {},
   "source": [
    "### Validate base network\n",
    "\n",
    "Before we run any experiment, we should check the “base” network - before adding any emulated delay or rate limiting - and make sure that it will not be a limiting factor in the experiment."
   ],
   "id": "3f399d71-2cf7-4c66-8107-cfea41b626d2"
  },
  {
   "cell_type": "code",
   "execution_count": null,
   "metadata": {},
   "outputs": [],
   "source": [
    "# check base delay\n",
    "_ = slice.get_node(\"sender\").execute(\"ping -c 5 receiver\")"
   ],
   "id": "2bff55b4-370e-4a24-81b1-87994fc3115c"
  },
  {
   "cell_type": "code",
   "execution_count": null,
   "metadata": {},
   "outputs": [],
   "source": [
    "# check base capacity (by sending 10 parallel flows, look at their sum throughput)\n",
    "import time\n",
    "_ = slice.get_node(\"receiver\").execute(\"iperf3 -s -1 -D\")\n",
    "time.sleep(5)\n",
    "_ = slice.get_node(\"sender\").execute(\"iperf3 -t 30 -i 10 -P 10 -c receiver\")"
   ],
   "id": "27a7e1b2-193b-4f70-92de-5ead31dd15d1"
  },
  {
   "cell_type": "code",
   "execution_count": null,
   "metadata": {},
   "outputs": [],
   "source": [
    "# also check Linux kernel version on sender\n",
    "_ = slice.get_node(\"sender\").execute(\"uname -a\")"
   ],
   "id": "e1101fbe-8d3c-4963-9da0-ef0ba01b4ac8"
  },
  {
   "cell_type": "markdown",
   "metadata": {},
   "source": [
    "### Draw the network topology"
   ],
   "id": "a6ab1ca7-4871-42fa-8f76-9a4f0341fb68"
  },
  {
   "cell_type": "markdown",
   "metadata": {},
   "source": [
    "The following cell will draw the network topology, for your reference. The interface name and addresses of each experiment interface will be shown on the drawing."
   ],
   "id": "c5843fe6-762c-48eb-a5b3-df1c60be9510"
  },
  {
   "cell_type": "code",
   "execution_count": null,
   "metadata": {},
   "outputs": [],
   "source": [
    "l2_nets = [(n.get_name(), {'color': 'lavender'}) for n in slice.get_l2networks() ]\n",
    "l3_nets = [(n.get_name(), {'color': 'pink'}) for n in slice.get_l3networks() ]\n",
    "hosts   =   [(n.get_name(), {'color': 'lightblue'}) for n in slice.get_nodes()]\n",
    "nodes = l2_nets + l3_nets + hosts\n",
    "ifaces = [iface.toDict() for iface in slice.get_interfaces()]\n",
    "edges = [(iface['network'], iface['node'], \n",
    "          {'label': iface['physical_dev'] + '\\n' + iface['ip_addr'] + '\\n' + iface['mac']}) for iface in ifaces]"
   ],
   "id": "a397f553-a2b0-40ea-955b-1141995a3a83"
  },
  {
   "cell_type": "code",
   "execution_count": null,
   "metadata": {},
   "outputs": [],
   "source": [
    "import networkx as nx\n",
    "import matplotlib.pyplot as plt\n",
    "plt.figure(figsize=(len(nodes),len(nodes)))\n",
    "G = nx.Graph()\n",
    "G.add_nodes_from(nodes)\n",
    "G.add_edges_from(edges)\n",
    "pos = nx.spring_layout(G)\n",
    "nx.draw(G, pos, node_shape='s',  \n",
    "        node_color=[n[1]['color'] for n in nodes], \n",
    "        node_size=[len(n[0])*400 for n in nodes],  \n",
    "        with_labels=True);\n",
    "nx.draw_networkx_edge_labels(G,pos,\n",
    "                             edge_labels=nx.get_edge_attributes(G,'label'),\n",
    "                             font_color='gray',  font_size=8, rotate=False);"
   ],
   "id": "4d06cbf5-c583-4a28-af09-5f47ec38c059"
  },
  {
   "cell_type": "markdown",
   "metadata": {},
   "source": [
    "### Log into resources"
   ],
   "id": "82f93f29-296e-487d-84f3-9574769df1d1"
  },
  {
   "cell_type": "markdown",
   "metadata": {},
   "source": [
    "Now, we are finally ready to log in to our resources over SSH! Run the following cells, and observe the table output - you will see an SSH command for each of the resources in your topology."
   ],
   "id": "3964cc59-b1b9-45e0-8f21-3a715ad9a0e6"
  },
  {
   "cell_type": "code",
   "execution_count": null,
   "metadata": {},
   "outputs": [],
   "source": [
    "import pandas as pd\n",
    "pd.set_option('display.max_colwidth', None)\n",
    "slice_info = [{'Name': n.get_name(), 'SSH command': n.get_ssh_command()} for n in slice.get_nodes()]\n",
    "pd.DataFrame(slice_info).set_index('Name')"
   ],
   "id": "838c7e28-ab43-405c-ab66-d9460139f0ae"
  },
  {
   "cell_type": "markdown",
   "metadata": {},
   "source": [
    "Now, you can open an SSH session on any of the resources as follows:\n",
    "\n",
    "-   in Jupyter, from the menu bar, use File \\> New \\> Terminal to open a new terminal.\n",
    "-   copy an SSH command from the table, and paste it into the terminal. (Note that each SSH command is a single line, even if the display wraps the text to a second line! When you copy and paste it, paste it all together.)\n",
    "\n",
    "You can repeat this process (open several terminals) to start a session on each resource. Each terminal session will have a tab in the Jupyter environment, so that you can easily switch between them."
   ],
   "id": "cdce8e11-fcf1-449c-9b5f-68064c41b6d9"
  },
  {
   "cell_type": "markdown",
   "metadata": {},
   "source": [
    "### Configure the network capacity and delay\n",
    "\n",
    "In this section, we configure the bottleneck link to have a 40Mbps capacity and 10ms delay. We will initialize the queue size to 32 BDP (although we will change this later)."
   ],
   "id": "c9a09eaf-5a63-42fd-a679-b90f99bc7c90"
  },
  {
   "cell_type": "code",
   "execution_count": null,
   "metadata": {},
   "outputs": [],
   "source": [
    "exp = {'rtt': 40, 'bandwidth': 10 }\n",
    "bdp_kbyte = exp['rtt']*exp['bandwidth']/8\n",
    "\n",
    "router_node = slice.get_node(\"router\")\n",
    "router_ingress_iface = router_node.get_interface(network_name = \"net0\")\n",
    "router_ingress_name = router_ingress_iface.get_device_name()\n",
    "router_egress_iface  = router_node.get_interface(network_name = \"net1\")\n",
    "router_egress_name = router_egress_iface.get_device_name()\n",
    "\n",
    "router_node.execute(\"sudo tc qdisc del dev \" + router_ingress_name + \" root\")\n",
    "router_node.execute(\"sudo tc qdisc del dev \" + router_egress_name + \" root\")\n",
    "\n",
    "# set up RTT\n",
    "router_node.execute(\"sudo tc qdisc replace dev \" + router_ingress_name + \" root netem delay \" + str(exp['rtt']) + \"ms limit 10000\")\n",
    "# set up rate limit, buffer limit\n",
    "router_node.execute(\"sudo tc qdisc replace dev \" + router_egress_name + \" root handle 1: htb default 3\")\n",
    "router_node.execute(\"sudo tc class add dev \" + router_egress_name + \" parent 1: classid 1:3 htb rate \" + str(exp['bandwidth']) + \"Mbit\")\n",
    "router_node.execute(\"sudo tc qdisc add dev \" + router_egress_name + \" parent 1:3 bfifo limit \" + str(bdp_kbyte*32) + \"kb\")\n"
   ],
   "id": "5ce1b105-374a-4959-b7fd-d0b6e85fe3e6"
  },
  {
   "cell_type": "markdown",
   "metadata": {},
   "source": [
    "Then, we validate the new network setting."
   ],
   "id": "fe9fabd5-1df0-4c95-8e82-0d5ef455c47f"
  },
  {
   "cell_type": "code",
   "execution_count": null,
   "metadata": {},
   "outputs": [],
   "source": [
    "# check base delay\n",
    "_ = slice.get_node(\"sender\").execute(\"ping -c 5 receiver\")"
   ],
   "id": "cd9e49d3-78e5-4404-98ed-14dd31c653b4"
  },
  {
   "cell_type": "code",
   "execution_count": null,
   "metadata": {},
   "outputs": [],
   "source": [
    "# check base capacity (by sending 10 parallel flows, look at their sum throughput)\n",
    "import time\n",
    "_ = slice.get_node(\"receiver\").execute(\"iperf3 -s -1 -D\")\n",
    "time.sleep(5)\n",
    "_ = slice.get_node(\"sender\").execute(\"iperf3 -t 30 -i 10 -P 10 -c receiver\")"
   ],
   "id": "7c14723d-c4d4-48d0-8cd7-8f547283c9ea"
  },
  {
   "cell_type": "markdown",
   "metadata": {},
   "source": [
    "### Reproduce Figure 1b"
   ],
   "id": "4234ab2f-d25b-4314-8e9c-ec502be5ca0d"
  },
  {
   "cell_type": "code",
   "execution_count": null,
   "metadata": {},
   "outputs": [],
   "source": [
    "router_node = slice.get_node(\"router\")\n",
    "sender_node = slice.get_node(\"sender\")\n",
    "receiver_node = slice.get_node(\"receiver\")"
   ],
   "id": "0fefc62c-bd25-4fe3-a8c9-865fdafb06f8"
  },
  {
   "cell_type": "code",
   "execution_count": null,
   "metadata": {},
   "outputs": [],
   "source": [
    "import itertools\n",
    "exp_factors = { \n",
    "    'bufcap': [0.25, 0.5] + [2**n for n in range(8)],\n",
    "    'duration': [240],\n",
    "    'loss_cc': ['cubic', 'reno'],\n",
    "    'trial': [1]\n",
    "}\n",
    "factor_names = [k for k in exp_factors]\n",
    "factor_lists = list(itertools.product(*exp_factors.values()))\n",
    "exp_lists = [dict(zip(factor_names, factor_l)) for factor_l in factor_lists]"
   ],
   "id": "0af37deb-a095-4268-916e-31902f096fd7"
  },
  {
   "cell_type": "code",
   "execution_count": null,
   "metadata": {},
   "outputs": [],
   "source": [
    "import time\n",
    "\n",
    "# make sure BBR is available\n",
    "sender_node.execute(\"sudo modprobe tcp_bbr\")\n",
    "\n",
    "for exp in exp_lists:\n",
    "    # set router buffer limit \n",
    "    router_node.execute(\"sudo tc qdisc replace dev \" + router_egress_name + \" parent 1:3 bfifo limit \" + str(bdp_kbyte*exp['bufcap']) + \"kb\")\n",
    "\n",
    "    # clean up\n",
    "    receiver_node.execute(\"sudo killall iperf3\")\n",
    "    sender_node.execute(\"sudo killall iperf3\")\n",
    "\n",
    "    # start an iperf3 receiver for the BBR flow\n",
    "    receiver_node.execute_thread(\"iperf3 -s -1 -i 1 -fm --logfile fig1b_bbr_\" + str(exp['bufcap']) + \"_bbrV\" + exp['loss_cc'] + \".txt\")\n",
    "    # start an iperf3 receiver for the Cubic flows\n",
    "    receiver_node.execute_thread(\"iperf3 -s -1 -i 1 -fm --logfile fig1b_\" + exp['loss_cc'] + \"_\" + str(exp['bufcap']) + \"_bbrV\" + exp['loss_cc'] + \".txt -p 5301\")\n",
    "\n",
    "    time.sleep(5) \n",
    "\n",
    "    # start an iperf3 sender for the BBR flow\n",
    "    sender_node.execute_thread(\"iperf3 -c receiver -fm -t \" + str(exp['duration']) + \" -C bbr \")\n",
    "    # start an iperf3 receiver for the Cubic flows\n",
    "    sender_node.execute_thread(\"iperf3 -c receiver -fm -t \" + str(exp['duration']) + \" -C \" + exp['loss_cc'] + \"-p 5301\")\n",
    "\n",
    "    time.sleep(exp['duration'] + 5)\n"
   ],
   "id": "69609c82-554c-443c-b414-9068d01be83c"
  },
  {
   "cell_type": "code",
   "execution_count": null,
   "metadata": {},
   "outputs": [],
   "source": [
    "df = pd.DataFrame(columns=['bufcap', 'combo', 'cc', 'goodput'])\n",
    "\n",
    "for exp in exp_lists:\n",
    "\n",
    "    bbr_file = \"fig1b_bbr_\" + str(exp['bufcap']) + \"_bbrV\" + exp['loss_cc'] + \".txt\"\n",
    "    tput_bbr = receiver_node.execute(\"cat \" + bbr_file + \" | grep 'receiver' | awk -F '-' '{print $2}' | awk '{print $5}'\", quiet=True)\n",
    "    df_dict = {'bufcap': exp['bufcap'], 'combo': \"BBR-\" + exp['loss_cc'], 'cc': 'BBR', 'goodput': float(tput_bbr[0].strip())}\n",
    "    df = pd.concat([df, pd.DataFrame(df_dict, index=[0])], ignore_index=True)\n",
    "\n",
    "\n",
    "    loss_file = \"fig1b_\" + exp['loss_cc'] + \"_\" + str(exp['bufcap']) + \"_bbrV\" + exp['loss_cc'] + \".txt\"\n",
    "    tput_loss = receiver_node.execute(\"cat \" + loss_file + \" | grep 'receiver' | awk -F '-' '{print $2}' | awk '{print $5}'\", quiet=True)\n",
    "    df_dict = {'bufcap': exp['bufcap'], 'combo': \"BBR-\" + exp['loss_cc'], 'cc': exp['loss_cc'], 'goodput': float(tput_loss[0].strip())}\n",
    "    df = pd.concat([df, pd.DataFrame(df_dict, index=[0])], ignore_index=True)\n"
   ],
   "id": "3cc7bdca-35dd-427b-b292-44df7682e64a"
  },
  {
   "cell_type": "code",
   "execution_count": null,
   "metadata": {},
   "outputs": [],
   "source": [
    "df['buf_str'] = df['bufcap'].astype(str)\n",
    "g = sns.FacetGrid(df, row=\"combo\", legend_out=True, aspect=2);\n",
    "g = g.map(sns.lineplot, \"buf_str\", \"goodput\",  hue=df.cc);\n",
    "g.set_axis_labels(\"Buffer size (BDP)\", \"Goodput (Mbps)\");\n",
    "plt.legend();"
   ],
   "id": "2fce3b9d-295a-4a36-8be9-d656e3fdd7ad"
  },
  {
   "cell_type": "markdown",
   "metadata": {},
   "source": [
    "### Reproduce Figure 1c"
   ],
   "id": "0c1f6f21-ed69-43e5-833a-90cbaec25d70"
  },
  {
   "cell_type": "code",
   "execution_count": null,
   "metadata": {},
   "outputs": [],
   "source": [
    "router_node = slice.get_node(\"router\")\n",
    "sender_node = slice.get_node(\"sender\")\n",
    "receiver_node = slice.get_node(\"receiver\")"
   ],
   "id": "3fdd922c-f1ea-4aeb-935e-25325cf3eada"
  },
  {
   "cell_type": "code",
   "execution_count": null,
   "metadata": {},
   "outputs": [],
   "source": [
    "# set router buffer limit to 32 BDP\n",
    "router_node.execute(\"sudo tc qdisc replace dev \" + router_egress_name + \" parent 1:3 bfifo limit \" + str(bdp_kbyte*32) + \"kb\")\n",
    "\n",
    "# make sure BBR is available\n",
    "sender_node.execute(\"sudo modprobe tcp_bbr\")\n",
    "\n",
    "# clean up\n",
    "receiver_node.execute(\"sudo killall iperf3\")\n",
    "receiver_node.execute(\"rm fig1c_bbr.txt\")\n",
    "receiver_node.execute(\"rm fig1c_cubic.txt\")\n",
    "\n",
    "# start an iperf3 receiver for the BBR flow\n",
    "receiver_node.execute_thread(\"iperf3 -s -1 -i 1 -fm --logfile fig1c_bbr.txt\")\n",
    "# start an iperf3 receiver for the Cubic flows\n",
    "receiver_node.execute_thread(\"iperf3 -s -1 -i 1 -fm --logfile fig1c_cubic.txt -p 5301\")\n",
    "\n",
    "time.sleep(5) \n",
    "\n",
    "# start an iperf3 sender for the BBR flow\n",
    "sender_node.execute_thread(\"iperf3 -c receiver -fm -t 300 -C bbr \")\n",
    "# start an iperf3 receiver for the Cubic flows\n",
    "sender_node.execute_thread(\"iperf3 -c receiver -fm -t 300 -C cubic -P 16 -p 5301\")\n",
    "\n",
    "time.sleep(305)"
   ],
   "id": "0591f081-58af-4317-a8a7-99baf8ad76d0"
  },
  {
   "cell_type": "code",
   "execution_count": null,
   "metadata": {},
   "outputs": [],
   "source": [
    "tput_bbr = receiver_node.execute(\"head --lines=-5 fig1c_bbr.txt | grep 'Mbits/sec' | awk -F '-' '{print $2}' | awk '{print $1\\\",\\\"$5}'\", quiet=True)\n",
    "df_bbr = pd.read_csv(StringIO(tput_bbr[0]), names = ['time','goodput'])\n",
    "\n",
    "tput_cubic = receiver_node.execute(\"head --lines=-37 fig1c_cubic.txt | grep 'SUM' | awk -F '-' '{print $2}' | awk '{print $1\\\",\\\"$5}'\", quiet=True)\n",
    "df_cubic = pd.read_csv(StringIO(tput_cubic[0]), names = ['time','goodput'])\n",
    "\n",
    "_ = plt.figure(figsize=(6,3))\n",
    "_ = plt.plot(df_bbr.time, df_bbr.goodput, label=\"1 BBR flow\")\n",
    "_ = plt.plot(df_cubic.time, df_cubic.goodput, label=\"Sum of 16 CUBIC flows\")\n",
    "_ = plt.legend(loc=\"upper center\", ncol=2)\n",
    "_ = plt.ylabel(\"Goodput (Mbps)\")\n",
    "_ = plt.xlabel(\"Time (s)\")"
   ],
   "id": "6ea731c3-41a9-4516-b5b9-8e17d457cfa0"
  },
  {
   "cell_type": "markdown",
   "metadata": {},
   "source": [
    "### Delete your slice"
   ],
   "id": "a8b600e2-d6f5-485c-a3d2-732c6c102767"
  },
  {
   "cell_type": "markdown",
   "metadata": {},
   "source": [
    "When you finish your experiment, you should delete your slice! The following cells deletes all the resources in your slice, freeing them for other experimenters."
   ],
   "id": "aa1500ba-523c-451c-8d30-1326eeccc686"
  },
  {
   "cell_type": "code",
   "execution_count": null,
   "metadata": {},
   "outputs": [],
   "source": [
    "slice = fablib.get_slice(name=slice_name)\n",
    "fablib.delete_slice(slice_name)"
   ],
   "id": "0c0ab4ca-6c1c-4753-b015-dacd41cc7fc7"
  },
  {
   "cell_type": "code",
   "execution_count": null,
   "metadata": {},
   "outputs": [],
   "source": [
    "# slice should end up in \"Dead\" state\n",
    "# re-run this cell until you see it in \"Dead\" state\n",
    "slice.update()\n",
    "_ = slice.show()"
   ],
   "id": "e7625e7a-6d09-47c3-bca3-810e27745d6c"
  }
 ],
 "nbformat": 4,
 "nbformat_minor": 5,
 "metadata": {}
}
