{
 "cells": [
  {
   "cell_type": "markdown",
   "metadata": {},
   "source": [
    "## Reproduce results from “Modeling BBR’s Interactions with Loss-Based Congestion Control”\n",
    "\n",
    "This notebook will reproduce selected findings from\n",
    "\n",
    "> Ranysha Ware, Matthew K. Mukerjee, Srinivasan Seshan, and Justine Sherry. 2019. Modeling BBR’s Interactions with Loss-Based Congestion Control. In Proceedings of the Internet Measurement Conference (IMC ’19). Association for Computing Machinery, New York, NY, USA, 137–143. https://doi.org/10.1145/3355369.3355604\n",
    "\n",
    "specifically,\n",
    "\n",
    "-   Figure 1b and 1c (initial measurements of BBR’s empirical behaviors)\n",
    "-   Figure 2: BBR vs Cubic in a 40ms × 10Mbps network (convergence time and goodput for 1 BBR and 1 Cubic flow over varying queue sizes)\n",
    "-   Figure 3: BBR and Cubic or Reno’s queue when competing for 4 minutes over a network with a 64 BDP (1024 packet) queue"
   ],
   "id": "ad8c4f25-d055-4785-abf5-f4a0558c35f7"
  },
  {
   "cell_type": "markdown",
   "metadata": {},
   "source": [
    "The following group of cells installs prerequisites for data analysis and visualization:"
   ],
   "id": "29e3d394-7fff-4b58-aba1-3a702d7c2dc7"
  },
  {
   "cell_type": "code",
   "execution_count": null,
   "metadata": {},
   "outputs": [],
   "source": [
    "!pip install seaborn"
   ],
   "id": "36bb1724-73b5-454e-a042-76f52b450f81"
  },
  {
   "cell_type": "code",
   "execution_count": null,
   "metadata": {},
   "outputs": [],
   "source": [
    "import time\n",
    "import pandas as pd\n",
    "from io import StringIO\n",
    "import seaborn as sns \n",
    "import matplotlib.pyplot as plt"
   ],
   "id": "e3aba28d-d75e-4dd4-9cdb-badbed7b1022"
  },
  {
   "cell_type": "markdown",
   "metadata": {},
   "source": [
    "### Configure environment"
   ],
   "id": "d238980c-6c80-4f29-8606-b06819fe6f3e"
  },
  {
   "cell_type": "code",
   "execution_count": null,
   "metadata": {},
   "outputs": [],
   "source": [
    "from fabrictestbed_extensions.fablib.fablib import FablibManager as fablib_manager\n",
    "fablib = fablib_manager() \n",
    "conf = fablib.show_config()"
   ],
   "id": "fe656b72-884c-4f7e-9e7b-f271bc429682"
  },
  {
   "cell_type": "markdown",
   "metadata": {},
   "source": [
    "### Define configuration for this experiment"
   ],
   "id": "574f91ba-a63e-47a4-80e0-73ad07f2291e"
  },
  {
   "cell_type": "code",
   "execution_count": null,
   "metadata": {},
   "outputs": [],
   "source": [
    "slice_name=\"ware-\" + fablib.get_bastion_username()\n",
    "\n",
    "node_conf = [\n",
    " {'name': \"sender\",    'cores': 2, 'ram': 4, 'disk': 10, 'image': 'default_ubuntu_22', 'packages': ['iperf3']}, \n",
    " {'name': \"receiver\",  'cores': 2, 'ram': 4, 'disk': 10, 'image': 'default_ubuntu_22', 'packages': ['iperf3']}, \n",
    " {'name': \"router\",    'cores': 2, 'ram': 4, 'disk': 10, 'image': 'default_ubuntu_22', 'packages': []}\n",
    "]\n",
    "net_conf = [\n",
    " {\"name\": \"net0\", \"subnet\": \"10.0.0.0/24\", \"nodes\": [{\"name\": \"sender\",   \"addr\": \"10.0.0.100\"}, {\"name\": \"router\", \"addr\": \"10.0.0.1\"}]},\n",
    " {\"name\": \"net1\", \"subnet\": \"10.0.1.0/24\", \"nodes\": [{\"name\": \"receiver\", \"addr\": \"10.0.1.100\"}, {\"name\": \"router\", \"addr\": \"10.0.1.1\"}]},\n",
    "]\n",
    "route_conf = [\n",
    " {\"addr\": \"10.0.1.0/24\", \"gw\": \"10.0.0.1\", \"nodes\": [\"sender\"]}, \n",
    " {\"addr\": \"10.0.0.0/24\", \"gw\": \"10.0.1.1\", \"nodes\": [\"receiver\"]}\n",
    "]\n",
    "exp_conf = {'cores': sum([ n['cores'] for n in node_conf]), 'nic': sum([len(n['nodes']) for n in net_conf]) }"
   ],
   "id": "20e1ec49-5984-434a-96c8-bb6775cd426c"
  },
  {
   "cell_type": "markdown",
   "metadata": {},
   "source": [
    "### Reserve resources\n",
    "\n",
    "Now, we are ready to reserve resources!"
   ],
   "id": "51bfd570-99b1-4971-ba64-f9201aaacdd0"
  },
  {
   "cell_type": "markdown",
   "metadata": {},
   "source": [
    "First, make sure you don’t already have a slice with this name:"
   ],
   "id": "a4258f9c-5f4e-479a-8aff-994822e8efd2"
  },
  {
   "cell_type": "code",
   "execution_count": null,
   "metadata": {},
   "outputs": [],
   "source": [
    "try:\n",
    "    slice = fablib.get_slice(slice_name)\n",
    "    print(\"You already have a slice by this name!\")\n",
    "    print(\"If you previously reserved resources, skip to the 'log in to resources' section.\")\n",
    "except:\n",
    "    print(\"You don't have a slice named %s yet.\" % slice_name)\n",
    "    print(\"Continue to the next step to make one.\")\n",
    "    slice = fablib.new_slice(name=slice_name)"
   ],
   "id": "8ffb49a9-f5f6-4b9c-8672-c8167aae4dbd"
  },
  {
   "cell_type": "markdown",
   "metadata": {},
   "source": [
    "We will select a random site that has sufficient resources for our experiment:"
   ],
   "id": "109213fb-2a74-45b1-9ab3-3888ac5ef853"
  },
  {
   "cell_type": "code",
   "execution_count": null,
   "metadata": {},
   "outputs": [],
   "source": [
    "while True:\n",
    "    site_name = fablib.get_random_site()\n",
    "    if ( (fablib.resources.get_core_available(site_name) > 1.2*exp_conf['cores']) and\n",
    "        (fablib.resources.get_component_available(site_name, 'SharedNIC-ConnectX-6') > 1.2**exp_conf['nic']) ):\n",
    "        break\n",
    "\n",
    "fablib.show_site(site_name)"
   ],
   "id": "5001b278-823f-42ac-905e-3adf5dd98790"
  },
  {
   "cell_type": "markdown",
   "metadata": {},
   "source": [
    "Then we will add hosts and network segments:"
   ],
   "id": "7a290d45-3804-4603-adc7-f45f725ce69a"
  },
  {
   "cell_type": "code",
   "execution_count": null,
   "metadata": {},
   "outputs": [],
   "source": [
    "# this cell sets up the nodes\n",
    "for n in node_conf:\n",
    "    slice.add_node(name=n['name'], site=site_name, \n",
    "                   cores=n['cores'], \n",
    "                   ram=n['ram'], \n",
    "                   disk=n['disk'], \n",
    "                   image=n['image'])"
   ],
   "id": "38bc5741-5121-4f7b-88fc-77cb4d9991b3"
  },
  {
   "cell_type": "code",
   "execution_count": null,
   "metadata": {},
   "outputs": [],
   "source": [
    "# this cell sets up the network segments\n",
    "for n in net_conf:\n",
    "    ifaces = [slice.get_node(node[\"name\"]).add_component(model=\"NIC_Basic\", \n",
    "                                                 name=n[\"name\"]).get_interfaces()[0] for node in n['nodes'] ]\n",
    "    slice.add_l2network(name=n[\"name\"], type='L2Bridge', interfaces=ifaces)"
   ],
   "id": "32ef094e-74ca-45b2-8741-0913933d7069"
  },
  {
   "cell_type": "markdown",
   "metadata": {},
   "source": [
    "The following cell submits our request to the FABRIC site. The output of this cell will update automatically as the status of our request changes.\n",
    "\n",
    "-   While it is being prepared, the “State” of the slice will appear as “Configuring”.\n",
    "-   When it is ready, the “State” of the slice will change to “StableOK”.\n",
    "\n",
    "You may prefer to walk away and come back in a few minutes (for simple slices) or a few tens of minutes (for more complicated slices with many resources)."
   ],
   "id": "d14c4c8f-1155-41f5-bb9c-7fae7a0e94bf"
  },
  {
   "cell_type": "code",
   "execution_count": null,
   "metadata": {},
   "outputs": [],
   "source": [
    "slice.submit()"
   ],
   "id": "fb2e1693-9820-4fb0-959b-9e4510f1aaf5"
  },
  {
   "cell_type": "code",
   "execution_count": null,
   "metadata": {},
   "outputs": [],
   "source": [
    "slice.get_state()\n",
    "slice.wait_ssh(progress=True)"
   ],
   "id": "6e26cd53-e2a6-4004-b304-41ac62418d2a"
  },
  {
   "cell_type": "markdown",
   "metadata": {},
   "source": [
    "### Extend your slice\n",
    "\n",
    "If you don’t plan to finish an experiment in one day, you can extend your slice. The following cell extends your reservation for 7 days."
   ],
   "id": "9fa1ba59-6a8a-4744-bace-78c5740deeec"
  },
  {
   "cell_type": "code",
   "execution_count": null,
   "metadata": {},
   "outputs": [],
   "source": [
    "from datetime import datetime\n",
    "from datetime import timezone\n",
    "from datetime import timedelta\n",
    "\n",
    "# Set end date to 7 days from now\n",
    "end_date = (datetime.now(timezone.utc) + timedelta(days=7)).strftime(\"%Y-%m-%d %H:%M:%S %z\")\n",
    "slice.renew(end_date)"
   ],
   "id": "07db4211-8c76-43c9-bb67-f8f8f351cd2a"
  },
  {
   "cell_type": "markdown",
   "metadata": {},
   "source": [
    "### Configure resources\n",
    "\n",
    "Next, we will configure the resources so they are ready to use."
   ],
   "id": "5f368249-d746-4fcf-9085-59be073848bb"
  },
  {
   "cell_type": "code",
   "execution_count": null,
   "metadata": {},
   "outputs": [],
   "source": [
    "slice = fablib.get_slice(name=slice_name)"
   ],
   "id": "b793f3f0-f5f0-4b89-90d3-86902f376c5b"
  },
  {
   "cell_type": "code",
   "execution_count": null,
   "metadata": {},
   "outputs": [],
   "source": [
    "# install packages\n",
    "# this will take a while and will run in background while you do other steps\n",
    "for n in node_conf:\n",
    "    if len(n['packages']):\n",
    "        node = slice.get_node(n['name'])\n",
    "        pkg = \" \".join(n['packages'])\n",
    "        node.execute_thread(\"sudo apt update; sudo DEBIAN_FRONTEND=noninteractive apt -y install %s\" % pkg)"
   ],
   "id": "7baaf84d-69b1-4458-9d82-191a3cc7aeec"
  },
  {
   "cell_type": "code",
   "execution_count": null,
   "metadata": {},
   "outputs": [],
   "source": [
    "# bring interfaces up and either assign an address (if there is one) or flush address\n",
    "from ipaddress import ip_address, IPv4Address, IPv4Network\n",
    "\n",
    "for net in net_conf:\n",
    "    for n in net['nodes']:\n",
    "        if_name = n['name'] + '-' + net['name'] + '-p1'\n",
    "        iface = slice.get_interface(if_name)\n",
    "        iface.ip_link_up()\n",
    "        if n['addr']:\n",
    "            iface.ip_addr_add(addr=n['addr'], subnet=IPv4Network(net['subnet']))\n",
    "        else:\n",
    "            iface.get_node().execute(\"sudo ip addr flush dev %s\"  % iface.get_device_name())"
   ],
   "id": "c8f3a702-0059-47f2-bb9a-fabe69dd8d48"
  },
  {
   "cell_type": "code",
   "execution_count": null,
   "metadata": {},
   "outputs": [],
   "source": [
    "# make sure all interfaces are brought up\n",
    "for iface in slice.get_interfaces():\n",
    "    iface.ip_link_up()"
   ],
   "id": "f7d94f00-eca1-4821-a70b-9cf139ce63a8"
  },
  {
   "cell_type": "code",
   "execution_count": null,
   "metadata": {},
   "outputs": [],
   "source": [
    "# prepare a \"hosts\" file that has names and addresses of every node\n",
    "hosts_txt = [ \"%s\\t%s\" % ( n['addr'], n['name'] ) for net in net_conf  for n in net['nodes'] if type(n) is dict and n['addr']]\n",
    "for n in slice.get_nodes():\n",
    "    for h in hosts_txt:\n",
    "        n.execute(\"echo %s | sudo tee -a /etc/hosts\" % h)"
   ],
   "id": "1f38bc4b-2299-4557-9f98-9b3e823af478"
  },
  {
   "cell_type": "code",
   "execution_count": null,
   "metadata": {},
   "outputs": [],
   "source": [
    "# enable IPv4 forwarding on all nodes\n",
    "for n in slice.get_nodes():\n",
    "    n.execute(\"sudo sysctl -w net.ipv4.ip_forward=1\")"
   ],
   "id": "3c19058a-0e94-485e-a388-3b94a6cb3d0f"
  },
  {
   "cell_type": "code",
   "execution_count": null,
   "metadata": {},
   "outputs": [],
   "source": [
    "# set up static routes\n",
    "for rt in route_conf:\n",
    "    for n in rt['nodes']:\n",
    "        slice.get_node(name=n).ip_route_add(subnet=IPv4Network(rt['addr']), gateway=rt['gw'])"
   ],
   "id": "ea87c468-ffc0-45e6-ac34-ff68e28df4f2"
  },
  {
   "cell_type": "code",
   "execution_count": null,
   "metadata": {},
   "outputs": [],
   "source": [
    "# turn off segmentation offload on interfaces\n",
    "for iface in slice.get_interfaces():\n",
    "    iface_name = iface.get_device_name()\n",
    "    n = iface.get_node()\n",
    "    offloads = [\"gro\", \"lro\", \"gso\", \"tso\"]\n",
    "    for offload in offloads:\n",
    "        n.execute(\"sudo ethtool -K %s %s off\" % (iface_name, offload))"
   ],
   "id": "3a3e1dd4-2cf3-437d-bc7c-7a2f3933a146"
  },
  {
   "cell_type": "markdown",
   "metadata": {},
   "source": [
    "### Validate base network\n",
    "\n",
    "Before we run any experiment, we should check the “base” network - before adding any emulated delay or rate limiting - and make sure that it will not be a limiting factor in the experiment."
   ],
   "id": "473d8c72-744c-4dda-b948-5a4f4075aa6e"
  },
  {
   "cell_type": "code",
   "execution_count": null,
   "metadata": {},
   "outputs": [],
   "source": [
    "# check base delay\n",
    "_ = slice.get_node(\"sender\").execute(\"ping -c 5 receiver\")"
   ],
   "id": "2653cabb-9f22-43cd-b984-4cd5bf0c082d"
  },
  {
   "cell_type": "code",
   "execution_count": null,
   "metadata": {},
   "outputs": [],
   "source": [
    "# check base capacity (by sending 10 parallel flows, look at their sum throughput)\n",
    "import time\n",
    "_ = slice.get_node(\"receiver\").execute(\"iperf3 -s -1 -D\")\n",
    "time.sleep(5)\n",
    "_ = slice.get_node(\"sender\").execute(\"iperf3 -t 30 -i 10 -P 10 -c receiver\")"
   ],
   "id": "f914bebe-7b75-4ae7-9839-f64f47c19d41"
  },
  {
   "cell_type": "code",
   "execution_count": null,
   "metadata": {},
   "outputs": [],
   "source": [
    "# also check Linux kernel version on sender\n",
    "_ = slice.get_node(\"sender\").execute(\"uname -a\")"
   ],
   "id": "0a28d0b0-3c69-4130-b842-af72c5407c96"
  },
  {
   "cell_type": "markdown",
   "metadata": {},
   "source": [
    "### Draw the network topology"
   ],
   "id": "f1b1aaa2-08ae-4f33-8a94-fb631219442f"
  },
  {
   "cell_type": "markdown",
   "metadata": {},
   "source": [
    "The following cell will draw the network topology, for your reference. The interface name and addresses of each experiment interface will be shown on the drawing."
   ],
   "id": "8bc973a1-422a-42f6-8111-a6e9435d92fb"
  },
  {
   "cell_type": "code",
   "execution_count": null,
   "metadata": {},
   "outputs": [],
   "source": [
    "l2_nets = [(n.get_name(), {'color': 'lavender'}) for n in slice.get_l2networks() ]\n",
    "l3_nets = [(n.get_name(), {'color': 'pink'}) for n in slice.get_l3networks() ]\n",
    "hosts   =   [(n.get_name(), {'color': 'lightblue'}) for n in slice.get_nodes()]\n",
    "nodes = l2_nets + l3_nets + hosts\n",
    "ifaces = [iface.toDict() for iface in slice.get_interfaces()]\n",
    "edges = [(iface['network'], iface['node'], \n",
    "          {'label': iface['physical_dev'] + '\\n' + iface['ip_addr'] + '\\n' + iface['mac']}) for iface in ifaces]"
   ],
   "id": "9f0dc1e4-4d56-4424-a674-693320f0286d"
  },
  {
   "cell_type": "code",
   "execution_count": null,
   "metadata": {},
   "outputs": [],
   "source": [
    "import networkx as nx\n",
    "import matplotlib.pyplot as plt\n",
    "plt.figure(figsize=(len(nodes),len(nodes)))\n",
    "G = nx.Graph()\n",
    "G.add_nodes_from(nodes)\n",
    "G.add_edges_from(edges)\n",
    "pos = nx.spring_layout(G)\n",
    "nx.draw(G, pos, node_shape='s',  \n",
    "        node_color=[n[1]['color'] for n in nodes], \n",
    "        node_size=[len(n[0])*400 for n in nodes],  \n",
    "        with_labels=True);\n",
    "nx.draw_networkx_edge_labels(G,pos,\n",
    "                             edge_labels=nx.get_edge_attributes(G,'label'),\n",
    "                             font_color='gray',  font_size=8, rotate=False);"
   ],
   "id": "0e634685-39ca-4c9d-a390-1c3a3f7aa9b3"
  },
  {
   "cell_type": "markdown",
   "metadata": {},
   "source": [
    "### Log into resources"
   ],
   "id": "7700ffbd-51bc-4506-9a79-7e288743f565"
  },
  {
   "cell_type": "markdown",
   "metadata": {},
   "source": [
    "Now, we are finally ready to log in to our resources over SSH! Run the following cells, and observe the table output - you will see an SSH command for each of the resources in your topology."
   ],
   "id": "dc86e78a-e4be-44e8-bcfe-11abfd153d92"
  },
  {
   "cell_type": "code",
   "execution_count": null,
   "metadata": {},
   "outputs": [],
   "source": [
    "import pandas as pd\n",
    "pd.set_option('display.max_colwidth', None)\n",
    "slice_info = [{'Name': n.get_name(), 'SSH command': n.get_ssh_command()} for n in slice.get_nodes()]\n",
    "pd.DataFrame(slice_info).set_index('Name')"
   ],
   "id": "35b7b0ab-0f57-42be-aedd-a442961b9f79"
  },
  {
   "cell_type": "markdown",
   "metadata": {},
   "source": [
    "Now, you can open an SSH session on any of the resources as follows:\n",
    "\n",
    "-   in Jupyter, from the menu bar, use File \\> New \\> Terminal to open a new terminal.\n",
    "-   copy an SSH command from the table, and paste it into the terminal. (Note that each SSH command is a single line, even if the display wraps the text to a second line! When you copy and paste it, paste it all together.)\n",
    "\n",
    "You can repeat this process (open several terminals) to start a session on each resource. Each terminal session will have a tab in the Jupyter environment, so that you can easily switch between them."
   ],
   "id": "937ef856-d4f7-446d-bc32-f8e36d3dd9c4"
  },
  {
   "cell_type": "markdown",
   "metadata": {},
   "source": [
    "### Configure the network capacity and delay\n",
    "\n",
    "In this section, we configure the bottleneck link to have a 40Mbps capacity and 10ms delay. We will initialize the queue size to 32 BDP (although we will change this later)."
   ],
   "id": "aacd7881-80a8-49d7-af14-8cfbdd73d5a1"
  },
  {
   "cell_type": "code",
   "execution_count": null,
   "metadata": {},
   "outputs": [],
   "source": [
    "exp = {'rtt': 10, 'bandwidth': 40 }\n",
    "bdp_kbyte = exp['rtt']*exp['bandwidth']/8\n",
    "\n",
    "router_node = slice.get_node(\"router\")\n",
    "router_ingress_iface = router_node.get_interface(network_name = \"net0\")\n",
    "router_ingress_name = router_ingress_iface.get_device_name()\n",
    "router_egress_iface  = router_node.get_interface(network_name = \"net1\")\n",
    "router_egress_name = router_egress_iface.get_device_name()\n",
    "\n",
    "router_node.execute(\"sudo tc qdisc del dev \" + router_ingress_name + \" root\")\n",
    "router_node.execute(\"sudo tc qdisc del dev \" + router_egress_name + \" root\")\n",
    "\n",
    "# set up RTT\n",
    "router_node.execute(\"sudo tc qdisc replace dev \" + router_ingress_name + \" root netem delay \" + str(exp['rtt']) + \"ms limit 10000\")\n",
    "# set up rate limit, buffer limit\n",
    "router_node.execute(\"sudo tc qdisc replace dev \" + router_egress_name + \" root handle 1: htb default 3\")\n",
    "router_node.execute(\"sudo tc class add dev \" + router_egress_name + \" parent 1: classid 1:3 htb rate \" + str(exp['bandwidth']) + \"Mbit\")\n",
    "router_node.execute(\"sudo tc qdisc add dev \" + router_egress_name + \" parent 1:3 bfifo limit \" + str(bdp_kbyte*32) + \"kb\")\n"
   ],
   "id": "f80cde74-33eb-4ffe-bf28-334b721ca4c0"
  },
  {
   "cell_type": "markdown",
   "metadata": {},
   "source": [
    "Then, we validate the new network setting."
   ],
   "id": "53086ea3-9b8c-46f6-9f04-ad71644000e5"
  },
  {
   "cell_type": "code",
   "execution_count": null,
   "metadata": {},
   "outputs": [],
   "source": [
    "# check base delay\n",
    "_ = slice.get_node(\"sender\").execute(\"ping -c 5 receiver\")"
   ],
   "id": "7bb249c8-189d-4746-ba82-f6a444ed7b9a"
  },
  {
   "cell_type": "code",
   "execution_count": null,
   "metadata": {},
   "outputs": [],
   "source": [
    "# check base capacity (by sending 10 parallel flows, look at their sum throughput)\n",
    "import time\n",
    "_ = slice.get_node(\"receiver\").execute(\"iperf3 -s -1 -D\")\n",
    "time.sleep(5)\n",
    "_ = slice.get_node(\"sender\").execute(\"iperf3 -t 30 -i 10 -P 10 -c receiver\")"
   ],
   "id": "9120480e-0785-43ca-b782-601efda428d0"
  },
  {
   "cell_type": "markdown",
   "metadata": {},
   "source": [
    "### Reproduce Figure 1b"
   ],
   "id": "3e4550f4-fab1-4125-8f2c-ce5686213c5b"
  },
  {
   "cell_type": "code",
   "execution_count": null,
   "metadata": {},
   "outputs": [],
   "source": [
    "router_node = slice.get_node(\"router\")\n",
    "sender_node = slice.get_node(\"sender\")\n",
    "receiver_node = slice.get_node(\"receiver\")"
   ],
   "id": "e3941e5a-704f-4aed-9701-bad12a9ed73b"
  },
  {
   "cell_type": "code",
   "execution_count": null,
   "metadata": {},
   "outputs": [],
   "source": [
    "import itertools\n",
    "exp_factors = { \n",
    "    'bufcap': [0.25, 0.5] + [2**n for n in range(8)],\n",
    "    'duration': [240],\n",
    "    'loss_cc': ['cubic', 'reno'],\n",
    "    'trial': [1]\n",
    "}\n",
    "factor_names = [k for k in exp_factors]\n",
    "factor_lists = list(itertools.product(*exp_factors.values()))\n",
    "exp_lists = [dict(zip(factor_names, factor_l)) for factor_l in factor_lists]"
   ],
   "id": "534e064b-9d46-473a-afef-2b18b4956041"
  },
  {
   "cell_type": "code",
   "execution_count": null,
   "metadata": {},
   "outputs": [],
   "source": [
    "import time\n",
    "\n",
    "# make sure BBR is available\n",
    "sender_node.execute(\"sudo modprobe tcp_bbr\")\n",
    "\n",
    "for exp in exp_lists:\n",
    "    # set router buffer limit \n",
    "    router_node.execute(\"sudo tc qdisc replace dev \" + router_egress_name + \" parent 1:3 bfifo limit \" + str(bdp_kbyte*exp['bufcap']) + \"kb\")\n",
    "\n",
    "    # clean up\n",
    "    receiver_node.execute(\"sudo killall iperf3\")\n",
    "    sender_node.execute(\"sudo killall iperf3\")\n",
    "\n",
    "    # start an iperf3 receiver for the BBR flow\n",
    "    receiver_node.execute_thread(\"iperf3 -s -1 -i 1 --logfile fig1b_bbr_\" + str(exp['bufcap']) + \"_bbrV\" + exp['loss_cc'] + \".txt\")\n",
    "    # start an iperf3 receiver for the Cubic flows\n",
    "    receiver_node.execute_thread(\"iperf3 -s -1 -i 1 --logfile fig1b_\" + exp['loss_cc'] + \"_\" + str(exp['bufcap']) + \"_bbrV\" + exp['loss_cc'] + \".txt -p 5301\")\n",
    "\n",
    "    time.sleep(5) \n",
    "\n",
    "    # start an iperf3 sender for the BBR flow\n",
    "    sender_node.execute_thread(\"iperf3 -c receiver -fm -t \" + str(exp['duration']) + \" -C bbr \")\n",
    "    # start an iperf3 receiver for the Cubic flows\n",
    "    sender_node.execute_thread(\"iperf3 -c receiver -fm -t \" + str(exp['duration']) + \" -C \" + exp['loss_cc'] + \"-p 5301\")\n",
    "\n",
    "    time.sleep(exp['duration'] + 5)\n"
   ],
   "id": "b34b04ab-74cb-4922-bc82-b7689342e13d"
  },
  {
   "cell_type": "code",
   "execution_count": null,
   "metadata": {},
   "outputs": [],
   "source": [
    "df = pd.DataFrame(columns=['bufcap', 'combo', 'cc', 'goodput'])\n",
    "\n",
    "for exp in exp_lists:\n",
    "\n",
    "    bbr_file = \"fig1b_bbr_\" + str(exp['bufcap']) + \"_bbrV\" + exp['loss_cc'] + \".txt\"\n",
    "    tput_bbr = receiver_node.execute(\"cat \" + bbr_file + \" | grep 'receiver' | awk -F '-' '{print $2}' | awk '{print $5}'\", quiet=True)\n",
    "    df_dict = {'bufcap': exp['bufcap'], 'combo': \"BBR-\" + exp['loss_cc'], 'cc': 'BBR', 'goodput': float(tput_bbr[0].strip())}\n",
    "    df = pd.concat([df, pd.DataFrame(df_dict, index=[0])], ignore_index=True)\n",
    "\n",
    "\n",
    "    loss_file = \"fig1b_\" + exp['loss_cc'] + \"_\" + str(exp['bufcap']) + \"_bbrV\" + exp['loss_cc'] + \".txt\"\n",
    "    tput_loss = receiver_node.execute(\"cat \" + cubic_file + \" | grep 'receiver' | awk -F '-' '{print $2}' | awk '{print $5}'\", quiet=True)\n",
    "    df_dict = {'bufcap': exp['bufcap'], 'combo': \"BBR-\" + exp['loss_cc'], 'cc': exp['loss_cc'], 'goodput': float(tput_loss[0].strip())}\n",
    "    df = pd.concat([df, pd.DataFrame(df_dict, index=[0])], ignore_index=True)\n"
   ],
   "id": "19dc4e66-556d-445e-8a71-e1a68706fcc5"
  },
  {
   "cell_type": "markdown",
   "metadata": {},
   "source": [
    "### Reproduce Figure 1c"
   ],
   "id": "e3ce45e5-d440-4a2d-b5fa-f195d1221094"
  },
  {
   "cell_type": "code",
   "execution_count": null,
   "metadata": {},
   "outputs": [],
   "source": [
    "router_node = slice.get_node(\"router\")\n",
    "sender_node = slice.get_node(\"sender\")\n",
    "receiver_node = slice.get_node(\"receiver\")"
   ],
   "id": "a448e89a-c8e6-4d65-9570-48db34479b8d"
  },
  {
   "cell_type": "code",
   "execution_count": null,
   "metadata": {},
   "outputs": [],
   "source": [
    "# set router buffer limit to 32 BDP\n",
    "router_node.execute(\"sudo tc qdisc replace dev \" + router_egress_name + \" parent 1:3 bfifo limit \" + str(bdp_kbyte*32) + \"kb\")\n",
    "\n",
    "# make sure BBR is available\n",
    "sender_node.execute(\"sudo modprobe tcp_bbr\")\n",
    "\n",
    "# clean up\n",
    "receiver_node.execute(\"sudo killall iperf3\")\n",
    "receiver_node.execute(\"rm fig1c_bbr.txt\")\n",
    "receiver_node.execute(\"rm fig1c_cubic.txt\")\n",
    "\n",
    "# start an iperf3 receiver for the BBR flow\n",
    "receiver_node.execute_thread(\"iperf3 -s -1 -i 1 --logfile fig1c_bbr.txt\")\n",
    "# start an iperf3 receiver for the Cubic flows\n",
    "receiver_node.execute_thread(\"iperf3 -s -1 -i 1 --logfile fig1c_cubic.txt -p 5301\")\n",
    "\n",
    "time.sleep(5) \n",
    "\n",
    "# start an iperf3 sender for the BBR flow\n",
    "sender_node.execute_thread(\"iperf3 -c receiver -fm -t 300 -C bbr \")\n",
    "# start an iperf3 receiver for the Cubic flows\n",
    "sender_node.execute_thread(\"iperf3 -c receiver -fm -t 300 -C cubic -P 16 -p 5301\")\n",
    "\n",
    "time.sleep(305)"
   ],
   "id": "5381a174-4af8-400c-a43b-1513805416ca"
  },
  {
   "cell_type": "code",
   "execution_count": null,
   "metadata": {},
   "outputs": [],
   "source": [
    "tput_bbr = receiver_node.execute(\"head --lines=-5 fig1c_bbr.txt | grep 'Mbits/sec' | awk -F '-' '{print $2}' | awk '{print $1\\\",\\\"$5}'\", quiet=True)\n",
    "df_bbr = pd.read_csv(StringIO(tput_bbr[0]), names = ['time','goodput'])\n",
    "\n",
    "tput_cubic = receiver_node.execute(\"head --lines=-37 fig1c_cubic.txt | grep 'SUM' | awk -F '-' '{print $2}' | awk '{print $1\\\",\\\"$5}'\", quiet=True)\n",
    "df_cubic = pd.read_csv(StringIO(tput_cubic[0]), names = ['time','goodput'])\n",
    "\n",
    "_ = plt.figure(figsize=(6,3))\n",
    "_ = plt.plot(df_bbr.time, df_bbr.goodput, label=\"1 BBR flow\")\n",
    "_ = plt.plot(df_cubic.time, df_cubic.goodput, label=\"Sum of 16 CUBIC flows\")\n",
    "_ = plt.legend(loc=\"upper center\", ncol=2)\n",
    "_ = plt.ylabel(\"Goodput (Mbps)\")\n",
    "_ = plt.xlabel(\"Time (s)\")"
   ],
   "id": "9f0b92e5-a306-4925-ad2d-3b9d134c67b6"
  },
  {
   "cell_type": "markdown",
   "metadata": {},
   "source": [
    "### Delete your slice"
   ],
   "id": "5172337c-1388-4899-b2af-34ebcae29001"
  },
  {
   "cell_type": "markdown",
   "metadata": {},
   "source": [
    "When you finish your experiment, you should delete your slice! The following cells deletes all the resources in your slice, freeing them for other experimenters."
   ],
   "id": "29696c9a-9ef6-419f-9aee-f5c6586b40e6"
  },
  {
   "cell_type": "code",
   "execution_count": null,
   "metadata": {},
   "outputs": [],
   "source": [
    "slice = fablib.get_slice(name=slice_name)\n",
    "fablib.delete_slice(slice_name)"
   ],
   "id": "c5ec7e24-8f2f-4f25-8b4d-a07dd02f65b1"
  },
  {
   "cell_type": "code",
   "execution_count": null,
   "metadata": {},
   "outputs": [],
   "source": [
    "# slice should end up in \"Dead\" state\n",
    "# re-run this cell until you see it in \"Dead\" state\n",
    "slice.update()\n",
    "_ = slice.show()"
   ],
   "id": "332199c2-ef5f-4cf8-a058-3794f8106914"
  }
 ],
 "nbformat": 4,
 "nbformat_minor": 5,
 "metadata": {}
}
