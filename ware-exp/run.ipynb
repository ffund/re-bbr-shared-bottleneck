{
 "cells": [
  {
   "cell_type": "markdown",
   "metadata": {},
   "source": [
    "## Reproduce results from “Modeling BBR’s Interactions with Loss-Based Congestion Control”\n",
    "\n",
    "This notebook will reproduce selected findings from\n",
    "\n",
    "> Ranysha Ware, Matthew K. Mukerjee, Srinivasan Seshan, and Justine Sherry. 2019. Modeling BBR’s Interactions with Loss-Based Congestion Control. In Proceedings of the Internet Measurement Conference (IMC ’19). Association for Computing Machinery, New York, NY, USA, 137–143. https://doi.org/10.1145/3355369.3355604\n",
    "\n",
    "specifically,\n",
    "\n",
    "-   Figure 1b and 1c (initial measurements of BBR’s empirical behaviors)\n",
    "-   Figure 2: BBR vs Cubic in a 40ms × 10Mbps network (convergence time and goodput for 1 BBR and 1 Cubic flow over varying queue sizes)\n",
    "-   Figure 3: BBR and Cubic or Reno’s queue when competing for 4 minutes over a network with a 64 BDP (1024 packet) queue"
   ],
   "id": "0da71a96-8ce5-4a10-b45e-b65f07a4bf81"
  },
  {
   "cell_type": "markdown",
   "metadata": {},
   "source": [
    "The following group of cells installs prerequisites for data analysis and visualization:"
   ],
   "id": "dd0513a6-32a0-42d5-ba61-bdd074f2f39c"
  },
  {
   "cell_type": "code",
   "execution_count": null,
   "metadata": {},
   "outputs": [],
   "source": [
    "!pip install seaborn"
   ],
   "id": "ed941ef8-bcb9-4a64-94b9-6f75c73d2513"
  },
  {
   "cell_type": "code",
   "execution_count": null,
   "metadata": {},
   "outputs": [],
   "source": [
    "import time\n",
    "import pandas as pd\n",
    "from io import StringIO\n",
    "import seaborn as sns \n",
    "import matplotlib.pyplot as plt"
   ],
   "id": "b2b27e15-ceb4-4f3a-9b97-3d01a4acd7b1"
  },
  {
   "cell_type": "markdown",
   "metadata": {},
   "source": [
    "### Configure environment"
   ],
   "id": "b82993d8-1124-4668-af0e-f30112d77353"
  },
  {
   "cell_type": "code",
   "execution_count": null,
   "metadata": {},
   "outputs": [],
   "source": [
    "from fabrictestbed_extensions.fablib.fablib import FablibManager as fablib_manager\n",
    "fablib = fablib_manager() \n",
    "conf = fablib.show_config()"
   ],
   "id": "c4b1966c-7a01-467a-89b1-13b7e1f74155"
  },
  {
   "cell_type": "markdown",
   "metadata": {},
   "source": [
    "### Define configuration for this experiment"
   ],
   "id": "9b554609-35ed-4131-84b8-bf61c0dfa8b4"
  },
  {
   "cell_type": "code",
   "execution_count": null,
   "metadata": {},
   "outputs": [],
   "source": [
    "slice_name=\"ware\" + fablib.get_bastion_username()\n",
    "\n",
    "node_conf = [\n",
    " {'name': \"sender\",    'cores': 2, 'ram': 4, 'disk': 10, 'image': 'default_ubuntu_22', 'packages': ['iperf3']}, \n",
    " {'name': \"receiver\",  'cores': 2, 'ram': 4, 'disk': 10, 'image': 'default_ubuntu_22', 'packages': ['iperf3']}, \n",
    " {'name': \"router\",    'cores': 2, 'ram': 4, 'disk': 10, 'image': 'default_ubuntu_22', 'packages': []}\n",
    "]\n",
    "net_conf = [\n",
    " {\"name\": \"net0\", \"subnet\": \"10.0.0.0/24\", \"nodes\": [{\"name\": \"sender\",   \"addr\": \"10.0.0.100\"}, {\"name\": \"router\", \"addr\": \"10.0.0.1\"}]},\n",
    " {\"name\": \"net1\", \"subnet\": \"10.0.1.0/24\", \"nodes\": [{\"name\": \"receiver\", \"addr\": \"10.0.1.100\"}, {\"name\": \"router\", \"addr\": \"10.0.1.1\"}]},\n",
    "]\n",
    "route_conf = [\n",
    " {\"addr\": \"10.0.1.0/24\", \"gw\": \"10.0.0.1\", \"nodes\": [\"sender\"]}, \n",
    " {\"addr\": \"10.0.0.0/24\", \"gw\": \"10.0.1.1\", \"nodes\": [\"receiver\"]}\n",
    "]\n",
    "exp_conf = {'cores': sum([ n['cores'] for n in node_conf]), 'nic': sum([len(n['nodes']) for n in net_conf]) }"
   ],
   "id": "e02db27b-b28e-4cf3-b279-352ca23a83ac"
  },
  {
   "cell_type": "markdown",
   "metadata": {},
   "source": [
    "### Reserve resources\n",
    "\n",
    "Now, we are ready to reserve resources!"
   ],
   "id": "357718b4-fe3c-4a38-a292-6b6833ca6206"
  },
  {
   "cell_type": "markdown",
   "metadata": {},
   "source": [
    "First, make sure you don’t already have a slice with this name:"
   ],
   "id": "8db4bd1c-2b0a-46d6-a020-635b45512569"
  },
  {
   "cell_type": "code",
   "execution_count": null,
   "metadata": {},
   "outputs": [],
   "source": [
    "try:\n",
    "    slice = fablib.get_slice(slice_name)\n",
    "    print(\"You already have a slice by this name!\")\n",
    "    print(\"If you previously reserved resources, skip to the 'log in to resources' section.\")\n",
    "except:\n",
    "    print(\"You don't have a slice named %s yet.\" % slice_name)\n",
    "    print(\"Continue to the next step to make one.\")\n",
    "    slice = fablib.new_slice(name=slice_name)"
   ],
   "id": "5e6c5426-1b0c-44f3-a6c3-c1c3dabc12cb"
  },
  {
   "cell_type": "markdown",
   "metadata": {},
   "source": [
    "We will select a random site that has sufficient resources for our experiment:"
   ],
   "id": "4cf9c218-523f-4518-9c4a-eb7600e306fc"
  },
  {
   "cell_type": "code",
   "execution_count": null,
   "metadata": {},
   "outputs": [],
   "source": [
    "while True:\n",
    "    site_name = fablib.get_random_site()\n",
    "    if ( (fablib.resources.get_core_available(site_name) > 1.2*exp_conf['cores']) and\n",
    "        (fablib.resources.get_component_available(site_name, 'SharedNIC-ConnectX-6') > 1.2**exp_conf['nic']) ):\n",
    "        break\n",
    "\n",
    "fablib.show_site(site_name)"
   ],
   "id": "83e19d2c-342f-410a-8328-8240624ec796"
  },
  {
   "cell_type": "markdown",
   "metadata": {},
   "source": [
    "Then we will add hosts and network segments:"
   ],
   "id": "1fc9e086-946f-4d37-b52e-e8014970809a"
  },
  {
   "cell_type": "code",
   "execution_count": null,
   "metadata": {},
   "outputs": [],
   "source": [
    "# this cell sets up the nodes\n",
    "for n in node_conf:\n",
    "    slice.add_node(name=n['name'], site=site_name, \n",
    "                   cores=n['cores'], \n",
    "                   ram=n['ram'], \n",
    "                   disk=n['disk'], \n",
    "                   image=n['image'])"
   ],
   "id": "64f95198-77f2-423d-8956-4343d660754a"
  },
  {
   "cell_type": "code",
   "execution_count": null,
   "metadata": {},
   "outputs": [],
   "source": [
    "# this cell sets up the network segments\n",
    "for n in net_conf:\n",
    "    ifaces = [slice.get_node(node[\"name\"]).add_component(model=\"NIC_Basic\", \n",
    "                                                 name=n[\"name\"]).get_interfaces()[0] for node in n['nodes'] ]\n",
    "    slice.add_l2network(name=n[\"name\"], type='L2Bridge', interfaces=ifaces)"
   ],
   "id": "1a130995-8699-40aa-8e67-a8fa0405ea8e"
  },
  {
   "cell_type": "markdown",
   "metadata": {},
   "source": [
    "The following cell submits our request to the FABRIC site. The output of this cell will update automatically as the status of our request changes.\n",
    "\n",
    "-   While it is being prepared, the “State” of the slice will appear as “Configuring”.\n",
    "-   When it is ready, the “State” of the slice will change to “StableOK”.\n",
    "\n",
    "You may prefer to walk away and come back in a few minutes (for simple slices) or a few tens of minutes (for more complicated slices with many resources)."
   ],
   "id": "bdb9f9e3-eb71-4ca8-a5ae-6ea02d973bbd"
  },
  {
   "cell_type": "code",
   "execution_count": null,
   "metadata": {},
   "outputs": [],
   "source": [
    "slice.submit()"
   ],
   "id": "424b838a-f3ff-4cd5-8803-15fade01ea61"
  },
  {
   "cell_type": "code",
   "execution_count": null,
   "metadata": {},
   "outputs": [],
   "source": [
    "slice.get_state()\n",
    "slice.wait_ssh(progress=True)"
   ],
   "id": "bf745bbb-3335-479c-b64a-242b42534caa"
  },
  {
   "cell_type": "markdown",
   "metadata": {},
   "source": [
    "### Configure resources\n",
    "\n",
    "Next, we will configure the resources so they are ready to use."
   ],
   "id": "09b71564-b5df-4839-ae5e-a60627b1df8c"
  },
  {
   "cell_type": "code",
   "execution_count": null,
   "metadata": {},
   "outputs": [],
   "source": [
    "slice = fablib.get_slice(name=slice_name)"
   ],
   "id": "1c5d42b3-8209-4b6f-9cc8-b6b7ef9e9662"
  },
  {
   "cell_type": "code",
   "execution_count": null,
   "metadata": {},
   "outputs": [],
   "source": [
    "# install packages\n",
    "# this will take a while and will run in background while you do other steps\n",
    "for n in node_conf:\n",
    "    if len(n['packages']):\n",
    "        node = slice.get_node(n['name'])\n",
    "        pkg = \" \".join(n['packages'])\n",
    "        node.execute_thread(\"sudo apt update; sudo DEBIAN_FRONTEND=noninteractive apt -y install %s\" % pkg)"
   ],
   "id": "da9961e9-08b3-4a55-a3d8-cec49bb4d0ef"
  },
  {
   "cell_type": "code",
   "execution_count": null,
   "metadata": {},
   "outputs": [],
   "source": [
    "# bring interfaces up and either assign an address (if there is one) or flush address\n",
    "from ipaddress import ip_address, IPv4Address, IPv4Network\n",
    "\n",
    "for net in net_conf:\n",
    "    for n in net['nodes']:\n",
    "        if_name = n['name'] + '-' + net['name'] + '-p1'\n",
    "        iface = slice.get_interface(if_name)\n",
    "        iface.ip_link_up()\n",
    "        if n['addr']:\n",
    "            iface.ip_addr_add(addr=n['addr'], subnet=IPv4Network(net['subnet']))\n",
    "        else:\n",
    "            iface.get_node().execute(\"sudo ip addr flush dev %s\"  % iface.get_device_name())"
   ],
   "id": "8b7c8cad-c310-4fcf-b96e-23b1836d7079"
  },
  {
   "cell_type": "code",
   "execution_count": null,
   "metadata": {},
   "outputs": [],
   "source": [
    "# make sure all interfaces are brought up\n",
    "for iface in slice.get_interfaces():\n",
    "    iface.ip_link_up()"
   ],
   "id": "e029dbcc-0eaf-47ea-b7c1-af67ef8d8d74"
  },
  {
   "cell_type": "code",
   "execution_count": null,
   "metadata": {},
   "outputs": [],
   "source": [
    "# prepare a \"hosts\" file that has names and addresses of every node\n",
    "hosts_txt = [ \"%s\\t%s\" % ( n['addr'], n['name'] ) for net in net_conf  for n in net['nodes'] if type(n) is dict and n['addr']]\n",
    "for n in slice.get_nodes():\n",
    "    for h in hosts_txt:\n",
    "        n.execute(\"echo %s | sudo tee -a /etc/hosts\" % h)"
   ],
   "id": "0d3a0aa4-ad28-4cd1-b44b-94040616eac2"
  },
  {
   "cell_type": "code",
   "execution_count": null,
   "metadata": {},
   "outputs": [],
   "source": [
    "# enable IPv4 forwarding on all nodes\n",
    "for n in slice.get_nodes():\n",
    "    n.execute(\"sudo sysctl -w net.ipv4.ip_forward=1\")"
   ],
   "id": "1c40375a-2f27-419c-80ba-6e7d8d31f111"
  },
  {
   "cell_type": "code",
   "execution_count": null,
   "metadata": {},
   "outputs": [],
   "source": [
    "# set up static routes\n",
    "for rt in route_conf:\n",
    "    for n in rt['nodes']:\n",
    "        slice.get_node(name=n).ip_route_add(subnet=IPv4Network(rt['addr']), gateway=rt['gw'])"
   ],
   "id": "7859a041-74f3-4b29-ac7c-701bbad153d7"
  },
  {
   "cell_type": "code",
   "execution_count": null,
   "metadata": {},
   "outputs": [],
   "source": [
    "# turn off segmentation offload on interfaces\n",
    "for iface in slice.get_interfaces():\n",
    "    iface_name = iface.get_device_name()\n",
    "    n = iface.get_node()\n",
    "    offloads = [\"gro\", \"lro\", \"gso\", \"tso\"]\n",
    "    for offload in offloads:\n",
    "        n.execute(\"sudo ethtool -K %s %s off\" % (iface_name, offload))"
   ],
   "id": "daf3e556-c699-4c92-93a5-6dbf1fc7a5c4"
  },
  {
   "cell_type": "markdown",
   "metadata": {},
   "source": [
    "### Validate base network\n",
    "\n",
    "Before we run any experiment, we should check the “base” network - before adding any emulated delay or rate limiting - and make sure that it will not be a limiting factor in the experiment."
   ],
   "id": "b29a981e-60ff-48ae-adac-67d748a89e6d"
  },
  {
   "cell_type": "code",
   "execution_count": null,
   "metadata": {},
   "outputs": [],
   "source": [
    "# check base delay\n",
    "_ = slice.get_node(\"sender\").execute(\"ping -c 5 receiver\")"
   ],
   "id": "c6f50d2e-a3f1-479a-b2ac-a991027334a4"
  },
  {
   "cell_type": "code",
   "execution_count": null,
   "metadata": {},
   "outputs": [],
   "source": [
    "# check base capacity (by sending 10 parallel flows, look at their sum throughput)\n",
    "import time\n",
    "_ = slice.get_node(\"receiver\").execute(\"iperf3 -s -1 -D\")\n",
    "time.sleep(5)\n",
    "_ = slice.get_node(\"sender\").execute(\"iperf3 -t 30 -i 10 -P 10 -c receiver\")"
   ],
   "id": "55092493-2d24-4230-b358-f32d5069c7de"
  },
  {
   "cell_type": "code",
   "execution_count": null,
   "metadata": {},
   "outputs": [],
   "source": [
    "# also check Linux kernel version on sender\n",
    "_ = slice.get_node(\"sender\").execute(\"uname -a\")"
   ],
   "id": "78313c79-6f6b-464a-9093-db1c24ab83a3"
  },
  {
   "cell_type": "markdown",
   "metadata": {},
   "source": [
    "### Draw the network topology"
   ],
   "id": "db3c88df-b125-45af-92af-6fcaea6aaf4a"
  },
  {
   "cell_type": "markdown",
   "metadata": {},
   "source": [
    "The following cell will draw the network topology, for your reference. The interface name and addresses of each experiment interface will be shown on the drawing."
   ],
   "id": "2d6a95b3-3f6e-4522-9bc2-383ec8a4165f"
  },
  {
   "cell_type": "code",
   "execution_count": null,
   "metadata": {},
   "outputs": [],
   "source": [
    "l2_nets = [(n.get_name(), {'color': 'lavender'}) for n in slice.get_l2networks() ]\n",
    "l3_nets = [(n.get_name(), {'color': 'pink'}) for n in slice.get_l3networks() ]\n",
    "hosts   =   [(n.get_name(), {'color': 'lightblue'}) for n in slice.get_nodes()]\n",
    "nodes = l2_nets + l3_nets + hosts\n",
    "ifaces = [iface.toDict() for iface in slice.get_interfaces()]\n",
    "edges = [(iface['network'], iface['node'], \n",
    "          {'label': iface['physical_dev'] + '\\n' + iface['ip_addr'] + '\\n' + iface['mac']}) for iface in ifaces]"
   ],
   "id": "a87975d5-9bb3-403e-96f8-2c286bf4c8f2"
  },
  {
   "cell_type": "code",
   "execution_count": null,
   "metadata": {},
   "outputs": [],
   "source": [
    "import networkx as nx\n",
    "import matplotlib.pyplot as plt\n",
    "plt.figure(figsize=(len(nodes),len(nodes)))\n",
    "G = nx.Graph()\n",
    "G.add_nodes_from(nodes)\n",
    "G.add_edges_from(edges)\n",
    "pos = nx.spring_layout(G)\n",
    "nx.draw(G, pos, node_shape='s',  \n",
    "        node_color=[n[1]['color'] for n in nodes], \n",
    "        node_size=[len(n[0])*400 for n in nodes],  \n",
    "        with_labels=True);\n",
    "nx.draw_networkx_edge_labels(G,pos,\n",
    "                             edge_labels=nx.get_edge_attributes(G,'label'),\n",
    "                             font_color='gray',  font_size=8, rotate=False);"
   ],
   "id": "d1d20fc3-ca24-4533-8869-defe39aadb59"
  },
  {
   "cell_type": "markdown",
   "metadata": {},
   "source": [
    "### Log into resources"
   ],
   "id": "b53d0960-cb0e-47a1-8a0e-93c92efcd6d3"
  },
  {
   "cell_type": "markdown",
   "metadata": {},
   "source": [
    "Now, we are finally ready to log in to our resources over SSH! Run the following cells, and observe the table output - you will see an SSH command for each of the resources in your topology."
   ],
   "id": "5565e088-212a-441a-8ae1-cf1bb9c23821"
  },
  {
   "cell_type": "code",
   "execution_count": null,
   "metadata": {},
   "outputs": [],
   "source": [
    "import pandas as pd\n",
    "pd.set_option('display.max_colwidth', None)\n",
    "slice_info = [{'Name': n.get_name(), 'SSH command': n.get_ssh_command()} for n in slice.get_nodes()]\n",
    "pd.DataFrame(slice_info).set_index('Name')"
   ],
   "id": "ccd134bf-4973-45b3-87a2-515d88ff381d"
  },
  {
   "cell_type": "markdown",
   "metadata": {},
   "source": [
    "Now, you can open an SSH session on any of the resources as follows:\n",
    "\n",
    "-   in Jupyter, from the menu bar, use File \\> New \\> Terminal to open a new terminal.\n",
    "-   copy an SSH command from the table, and paste it into the terminal. (Note that each SSH command is a single line, even if the display wraps the text to a second line! When you copy and paste it, paste it all together.)\n",
    "\n",
    "You can repeat this process (open several terminals) to start a session on each resource. Each terminal session will have a tab in the Jupyter environment, so that you can easily switch between them."
   ],
   "id": "a2b5f581-4992-482f-838a-2596aabfaba8"
  },
  {
   "cell_type": "markdown",
   "metadata": {},
   "source": [
    "### Configure the network capacity and delay\n",
    "\n",
    "In this section, we configure the bottleneck link to have a 40Mbps capacity and 10ms delay. We will initialize the queue size to 32 BDP (although we will change this later)."
   ],
   "id": "5922ce1a-b0b4-40ac-a8b3-bc550dcc2c3b"
  },
  {
   "cell_type": "code",
   "execution_count": null,
   "metadata": {},
   "outputs": [],
   "source": [
    "exp = {'rtt': 10, 'bandwidth': 40 }\n",
    "bdp_kbyte = exp['rtt']*exp['bandwidth']/8\n",
    "\n",
    "router_node = slice.get_node(\"router\")\n",
    "router_ingress_iface = router_node.get_interface(network_name = \"net0\")\n",
    "router_ingress_name = router_ingress_iface.get_device_name()\n",
    "router_egress_iface  = router_node.get_interface(network_name = \"net1\")\n",
    "router_egress_name = router_egress_iface.get_device_name()\n",
    "\n",
    "router_node.execute(\"sudo tc qdisc del dev \" + router_ingress_name + \" root\")\n",
    "router_node.execute(\"sudo tc qdisc del dev \" + router_egress_name + \" root\")\n",
    "\n",
    "# set up RTT\n",
    "router_node.execute(\"sudo tc qdisc replace dev \" + router_ingress_name + \" root netem delay \" + str(exp['rtt']) + \"ms limit 10000\")\n",
    "# set up rate limit, buffer limit\n",
    "router_node.execute(\"sudo tc qdisc replace dev \" + router_egress_name + \" root handle 1: htb default 3\")\n",
    "router_node.execute(\"sudo tc class add dev \" + router_egress_name + \" parent 1: classid 1:3 htb rate \" + str(exp['bandwidth']) + \"Mbit\")\n",
    "router_node.execute(\"sudo tc qdisc add dev \" + router_egress_name + \" parent 1:3 bfifo limit \" + str(bdp_kbyte*32) + \"kb\")\n"
   ],
   "id": "920c93ca-6183-4a57-a2dd-4b309351f584"
  },
  {
   "cell_type": "markdown",
   "metadata": {},
   "source": [
    "Then, we validate the new network setting."
   ],
   "id": "2a7e2f9d-9bb8-4b8f-b7ca-60687482dcfc"
  },
  {
   "cell_type": "code",
   "execution_count": null,
   "metadata": {},
   "outputs": [],
   "source": [
    "# check base delay\n",
    "_ = slice.get_node(\"sender\").execute(\"ping -c 5 receiver\")"
   ],
   "id": "1bd156f4-fd9d-476a-b07e-9053ca22f119"
  },
  {
   "cell_type": "code",
   "execution_count": null,
   "metadata": {},
   "outputs": [],
   "source": [
    "# check base capacity (by sending 10 parallel flows, look at their sum throughput)\n",
    "import time\n",
    "_ = slice.get_node(\"receiver\").execute(\"iperf3 -s -1 -D\")\n",
    "time.sleep(5)\n",
    "_ = slice.get_node(\"sender\").execute(\"iperf3 -t 30 -i 10 -P 10 -c receiver\")"
   ],
   "id": "eddd4d8c-26ef-416e-b862-e05eadcc21a3"
  },
  {
   "cell_type": "markdown",
   "metadata": {},
   "source": [
    "### Reproduce Figure 1b"
   ],
   "id": "9b9aeab4-1dd2-4f19-a3e2-5e9bd4313b40"
  },
  {
   "cell_type": "code",
   "execution_count": null,
   "metadata": {},
   "outputs": [],
   "source": [
    "router_node = slice.get_node(\"router\")\n",
    "sender_node = slice.get_node(\"sender\")\n",
    "receiver_node = slice.get_node(\"receiver\")"
   ],
   "id": "acf8f9d2-5a6a-486d-bdbf-185e0148e32b"
  },
  {
   "cell_type": "code",
   "execution_count": null,
   "metadata": {},
   "outputs": [],
   "source": [
    "import itertools\n",
    "exp_factors = { \n",
    "    'bufcap': [0.25, 0.5] + [2**n for n in range(8)],\n",
    "    'duration': [240],\n",
    "    'loss_cc': ['cubic', 'reno']\n",
    "    'trial': [1]\n",
    "}\n",
    "factor_names = [k for k in exp_factors]\n",
    "factor_lists = list(itertools.product(*exp_factors.values()))\n",
    "exp_lists = [dict(zip(factor_names, factor_l)) for factor_l in factor_lists]"
   ],
   "id": "56d2d70e-2038-4645-b650-e3b36580c359"
  },
  {
   "cell_type": "code",
   "execution_count": null,
   "metadata": {},
   "outputs": [],
   "source": [
    "import time # to allow resume\n",
    "for exp in exp_lists:\n",
    "    # set router buffer limit \n",
    "    router_node.execute(\"sudo tc qdisc replace dev \" + router_egress_name + \" parent 1:3 bfifo limit \" + str(bdp_kbyte*exp['bufcap']) + \"kb\")\n",
    "\n",
    "    # make sure BBR is available\n",
    "    sender_node.execute(\"sudo modprobe tcp_bbr\")\n",
    "\n",
    "    # clean up\n",
    "    receiver_node.execute(\"sudo killall iperf3\")\n",
    "    receiver_node.execute(\"rm fig1c_bbr.txt\")\n",
    "    receiver_node.execute(\"rm fig1c_cubic.txt\")\n",
    "\n",
    "    # start an iperf3 receiver for the BBR flow\n",
    "    receiver_node.execute_thread(\"iperf3 -s -1 -i 1 --logfile fig1b_bbr_\" + str(exp['bufcap']) + \"_bbrV\" + exp['loss_cc'] + \".txt\")\n",
    "    # start an iperf3 receiver for the Cubic flows\n",
    "    receiver_node.execute_thread(\"iperf3 -s -1 -i 1 --logfile fig1b_\" + exp['loss_cc'] + \"_bbrV\" + str(exp['bufcap']) + \"_\" + exp['loss_cc'] + \".txt -p 5301\")\n",
    "\n",
    "    time.sleep(5) \n",
    "\n",
    "    # start an iperf3 sender for the BBR flow\n",
    "    sender_node.execute_thread(\"iperf3 -c receiver -fm -t \" + exp['duration'] + \" -C bbr \")\n",
    "    # start an iperf3 receiver for the Cubic flows\n",
    "    sender_node.execute_thread(\"iperf3 -c receiver -fm -t \" + exp['duration'] + \" -C \" + exp['loss_cc'] + \"-p 5301\")\n",
    "\n",
    "    time.sleep(305)\n"
   ],
   "id": "4fa1f242-c9ec-44fb-aebb-e21774253a63"
  },
  {
   "cell_type": "markdown",
   "metadata": {},
   "source": [
    "### Reproduce Figure 1c"
   ],
   "id": "5e139102-1f43-4ac6-9a6b-51fcd9dd4dc9"
  },
  {
   "cell_type": "code",
   "execution_count": null,
   "metadata": {},
   "outputs": [],
   "source": [
    "router_node = slice.get_node(\"router\")\n",
    "sender_node = slice.get_node(\"sender\")\n",
    "receiver_node = slice.get_node(\"receiver\")"
   ],
   "id": "7f46b374-8e5e-45d6-aeab-9471c3369fc1"
  },
  {
   "cell_type": "code",
   "execution_count": null,
   "metadata": {},
   "outputs": [],
   "source": [
    "# set router buffer limit to 32 BDP\n",
    "router_node.execute(\"sudo tc qdisc replace dev \" + router_egress_name + \" parent 1:3 bfifo limit \" + str(bdp_kbyte*32) + \"kb\")\n",
    "\n",
    "# make sure BBR is available\n",
    "sender_node.execute(\"sudo modprobe tcp_bbr\")\n",
    "\n",
    "# clean up\n",
    "receiver_node.execute(\"sudo killall iperf3\")\n",
    "receiver_node.execute(\"rm fig1c_bbr.txt\")\n",
    "receiver_node.execute(\"rm fig1c_cubic.txt\")\n",
    "\n",
    "# start an iperf3 receiver for the BBR flow\n",
    "receiver_node.execute_thread(\"iperf3 -s -1 -i 1 --logfile fig1c_bbr.txt\")\n",
    "# start an iperf3 receiver for the Cubic flows\n",
    "receiver_node.execute_thread(\"iperf3 -s -1 -i 1 --logfile fig1c_cubic.txt -p 5301\")\n",
    "\n",
    "time.sleep(5) \n",
    "\n",
    "# start an iperf3 sender for the BBR flow\n",
    "sender_node.execute_thread(\"iperf3 -c receiver -fm -t 300 -C bbr \")\n",
    "# start an iperf3 receiver for the Cubic flows\n",
    "sender_node.execute_thread(\"iperf3 -c receiver -fm -t 300 -C cubic -P 16 -p 5301\")\n",
    "\n",
    "time.sleep(305)"
   ],
   "id": "fa461761-908c-4be7-a3d2-de535ea3ca0a"
  },
  {
   "cell_type": "code",
   "execution_count": null,
   "metadata": {},
   "outputs": [],
   "source": [
    "tput_bbr = receiver_node.execute(\"head --lines=-5 fig1c_bbr.txt | grep 'Mbits/sec' | awk -F '-' '{print $2}' | awk '{print $1\\\",\\\"$5}'\", quiet=True)\n",
    "df_bbr = pd.read_csv(StringIO(tput_bbr[0]), names = ['time','goodput'])\n",
    "\n",
    "tput_cubic = receiver_node.execute(\"head --lines=-37 fig1c_cubic.txt | grep 'SUM' | awk -F '-' '{print $2}' | awk '{print $1\\\",\\\"$5}'\", quiet=True)\n",
    "df_cubic = pd.read_csv(StringIO(tput_cubic[0]), names = ['time','goodput'])\n",
    "\n",
    "_ = plt.figure(figsize=(6,3))\n",
    "_ = plt.plot(df_bbr.time, df_bbr.goodput, label=\"1 BBR flow\")\n",
    "_ = plt.plot(df_cubic.time, df_cubic.goodput, label=\"Sum of 16 CUBIC flows\")\n",
    "_ = plt.legend(loc=\"upper center\", ncol=2)\n",
    "_ = plt.ylabel(\"Goodput (Mbps)\")\n",
    "_ = plt.xlabel(\"Time (s)\")"
   ],
   "id": "ef5259c3-0b29-464e-af34-522c96827dad"
  },
  {
   "cell_type": "markdown",
   "metadata": {},
   "source": [
    "### Delete your slice"
   ],
   "id": "dda8f7d9-dbe5-4015-bc36-63d5607528fc"
  },
  {
   "cell_type": "markdown",
   "metadata": {},
   "source": [
    "When you finish your experiment, you should delete your slice! The following cells deletes all the resources in your slice, freeing them for other experimenters."
   ],
   "id": "94e85844-30b8-4c0f-a5f2-9ae9cf607f87"
  },
  {
   "cell_type": "code",
   "execution_count": null,
   "metadata": {},
   "outputs": [],
   "source": [
    "slice = fablib.get_slice(name=slice_name)\n",
    "fablib.delete_slice(slice_name)"
   ],
   "id": "e75b989c-b4e6-47af-bd2a-1eeab0bed5ec"
  },
  {
   "cell_type": "code",
   "execution_count": null,
   "metadata": {},
   "outputs": [],
   "source": [
    "# slice should end up in \"Dead\" state\n",
    "# re-run this cell until you see it in \"Dead\" state\n",
    "slice.update()\n",
    "_ = slice.show()"
   ],
   "id": "f1593aa1-2d3f-4122-98a8-a1cac28d912e"
  }
 ],
 "nbformat": 4,
 "nbformat_minor": 5,
 "metadata": {}
}
