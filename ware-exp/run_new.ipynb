{
 "cells": [
  {
   "cell_type": "markdown",
   "id": "1c863b1b-7267-4445-b954-bdfba7563084",
   "metadata": {},
   "source": [
    "## Reproduce results from “Modeling BBR’s Interactions with Loss-Based Congestion Control”\n",
    "\n",
    "This notebook will reproduce selected findings from\n",
    "\n",
    "> Ranysha Ware, Matthew K. Mukerjee, Srinivasan Seshan, and Justine Sherry. 2019. Modeling BBR’s Interactions with Loss-Based Congestion Control. In Proceedings of the Internet Measurement Conference (IMC ’19). Association for Computing Machinery, New York, NY, USA, 137–143. https://doi.org/10.1145/3355369.3355604\n",
    "\n",
    "specifically,\n",
    "\n",
    "-   Figure 1b and 1c (initial measurements of BBR’s empirical behaviors)\n",
    "-   Figure 2: BBR vs Cubic in a 40ms × 10Mbps network (convergence time and goodput for 1 BBR and 1 Cubic flow over varying queue sizes)\n",
    "-   Figure 3: BBR and Cubic or Reno’s queue when competing for 4 minutes over a network with a 64 BDP (1024 packet) queue"
   ]
  },
  {
   "cell_type": "markdown",
   "id": "cd4f0e35-be9f-4be1-b573-975510b4aaa6",
   "metadata": {},
   "source": [
    "The following group of cells installs prerequisites for data analysis and visualization:"
   ]
  },
  {
   "cell_type": "code",
   "execution_count": 1,
   "id": "b3fcce08-f485-4d6f-a6cf-000278e06ba0",
   "metadata": {},
   "outputs": [
    {
     "name": "stdout",
     "output_type": "stream",
     "text": [
      "Collecting seaborn\n",
      "  Downloading seaborn-0.13.2-py3-none-any.whl (294 kB)\n",
      "\u001b[2K     \u001b[90m━━━━━━━━━━━━━━━━━━━━━━━━━━━━━━━━━━━━━━━\u001b[0m \u001b[32m294.9/294.9 kB\u001b[0m \u001b[31m2.1 MB/s\u001b[0m eta \u001b[36m0:00:00\u001b[0ma \u001b[36m0:00:01\u001b[0m\n",
      "\u001b[?25hRequirement already satisfied: matplotlib!=3.6.1,>=3.4 in /opt/conda/lib/python3.10/site-packages (from seaborn) (3.8.4)\n",
      "Requirement already satisfied: pandas>=1.2 in /opt/conda/lib/python3.10/site-packages (from seaborn) (2.2.2)\n",
      "Requirement already satisfied: numpy!=1.24.0,>=1.20 in /opt/conda/lib/python3.10/site-packages (from seaborn) (1.26.4)\n",
      "Requirement already satisfied: packaging>=20.0 in /opt/conda/lib/python3.10/site-packages (from matplotlib!=3.6.1,>=3.4->seaborn) (24.0)\n",
      "Requirement already satisfied: kiwisolver>=1.3.1 in /opt/conda/lib/python3.10/site-packages (from matplotlib!=3.6.1,>=3.4->seaborn) (1.4.5)\n",
      "Requirement already satisfied: fonttools>=4.22.0 in /opt/conda/lib/python3.10/site-packages (from matplotlib!=3.6.1,>=3.4->seaborn) (4.51.0)\n",
      "Requirement already satisfied: pillow>=8 in /opt/conda/lib/python3.10/site-packages (from matplotlib!=3.6.1,>=3.4->seaborn) (10.3.0)\n",
      "Requirement already satisfied: python-dateutil>=2.7 in /opt/conda/lib/python3.10/site-packages (from matplotlib!=3.6.1,>=3.4->seaborn) (2.9.0.post0)\n",
      "Requirement already satisfied: cycler>=0.10 in /opt/conda/lib/python3.10/site-packages (from matplotlib!=3.6.1,>=3.4->seaborn) (0.12.1)\n",
      "Requirement already satisfied: pyparsing>=2.3.1 in /opt/conda/lib/python3.10/site-packages (from matplotlib!=3.6.1,>=3.4->seaborn) (3.1.2)\n",
      "Requirement already satisfied: contourpy>=1.0.1 in /opt/conda/lib/python3.10/site-packages (from matplotlib!=3.6.1,>=3.4->seaborn) (1.2.1)\n",
      "Requirement already satisfied: tzdata>=2022.7 in /opt/conda/lib/python3.10/site-packages (from pandas>=1.2->seaborn) (2024.1)\n",
      "Requirement already satisfied: pytz>=2020.1 in /opt/conda/lib/python3.10/site-packages (from pandas>=1.2->seaborn) (2024.1)\n",
      "Requirement already satisfied: six>=1.5 in /opt/conda/lib/python3.10/site-packages (from python-dateutil>=2.7->matplotlib!=3.6.1,>=3.4->seaborn) (1.16.0)\n",
      "Installing collected packages: seaborn\n",
      "Successfully installed seaborn-0.13.2\n"
     ]
    }
   ],
   "source": [
    "!pip install seaborn"
   ]
  },
  {
   "cell_type": "code",
   "execution_count": 2,
   "id": "79dfc036-e4a5-4461-995d-a61f3f2435cb",
   "metadata": {},
   "outputs": [],
   "source": [
    "import time\n",
    "import pandas as pd\n",
    "from io import StringIO\n",
    "import seaborn as sns \n",
    "import matplotlib.pyplot as plt"
   ]
  },
  {
   "cell_type": "markdown",
   "id": "b37befed-2b1a-4608-8854-c74cefbd44f6",
   "metadata": {},
   "source": [
    "### Configure environment"
   ]
  },
  {
   "cell_type": "code",
   "execution_count": 3,
   "id": "3d621b02-e934-4c92-97bd-2f0831d9675a",
   "metadata": {},
   "outputs": [
    {
     "data": {
      "text/html": [
       "<style type=\"text/css\">\n",
       "#T_759c5 tr:nth-child(even) {\n",
       "  background: #dbf3ff;\n",
       "  color: #231f20;\n",
       "}\n",
       "#T_759c5 tr:nth-child(odd) {\n",
       "  background: #ffffff;\n",
       "  color: #231f20;\n",
       "}\n",
       "#T_759c5 caption {\n",
       "  text-align: center;\n",
       "  font-size: 150%;\n",
       "}\n",
       "#T_759c5_row0_col0, #T_759c5_row0_col1, #T_759c5_row1_col0, #T_759c5_row1_col1, #T_759c5_row2_col0, #T_759c5_row2_col1, #T_759c5_row3_col0, #T_759c5_row3_col1, #T_759c5_row4_col0, #T_759c5_row4_col1, #T_759c5_row5_col0, #T_759c5_row5_col1, #T_759c5_row6_col0, #T_759c5_row6_col1, #T_759c5_row7_col0, #T_759c5_row7_col1, #T_759c5_row8_col0, #T_759c5_row8_col1, #T_759c5_row9_col0, #T_759c5_row9_col1, #T_759c5_row10_col0, #T_759c5_row10_col1, #T_759c5_row11_col0, #T_759c5_row11_col1, #T_759c5_row12_col0, #T_759c5_row12_col1, #T_759c5_row13_col0, #T_759c5_row13_col1, #T_759c5_row14_col0, #T_759c5_row14_col1, #T_759c5_row15_col0, #T_759c5_row15_col1, #T_759c5_row16_col0, #T_759c5_row16_col1 {\n",
       "  text-align: left;\n",
       "  border: 1px #231f20 solid !important;\n",
       "  overwrite: False;\n",
       "}\n",
       "</style>\n",
       "<table id=\"T_759c5\">\n",
       "  <caption>FABlib Config</caption>\n",
       "  <thead>\n",
       "  </thead>\n",
       "  <tbody>\n",
       "    <tr>\n",
       "      <td id=\"T_759c5_row0_col0\" class=\"data row0 col0\" >Credential Manager</td>\n",
       "      <td id=\"T_759c5_row0_col1\" class=\"data row0 col1\" >cm.fabric-testbed.net</td>\n",
       "    </tr>\n",
       "    <tr>\n",
       "      <td id=\"T_759c5_row1_col0\" class=\"data row1 col0\" >Orchestrator</td>\n",
       "      <td id=\"T_759c5_row1_col1\" class=\"data row1 col1\" >orchestrator.fabric-testbed.net</td>\n",
       "    </tr>\n",
       "    <tr>\n",
       "      <td id=\"T_759c5_row2_col0\" class=\"data row2 col0\" >Project ID</td>\n",
       "      <td id=\"T_759c5_row2_col1\" class=\"data row2 col1\" >073ee843-2310-45bd-a01f-a15d808827dc</td>\n",
       "    </tr>\n",
       "    <tr>\n",
       "      <td id=\"T_759c5_row3_col0\" class=\"data row3 col0\" >Token File</td>\n",
       "      <td id=\"T_759c5_row3_col1\" class=\"data row3 col1\" >/home/fabric/.tokens.json</td>\n",
       "    </tr>\n",
       "    <tr>\n",
       "      <td id=\"T_759c5_row4_col0\" class=\"data row4 col0\" >Bastion Host</td>\n",
       "      <td id=\"T_759c5_row4_col1\" class=\"data row4 col1\" >bastion.fabric-testbed.net</td>\n",
       "    </tr>\n",
       "    <tr>\n",
       "      <td id=\"T_759c5_row5_col0\" class=\"data row5 col0\" >Bastion Username</td>\n",
       "      <td id=\"T_759c5_row5_col1\" class=\"data row5 col1\" >fbs6417_0000066146</td>\n",
       "    </tr>\n",
       "    <tr>\n",
       "      <td id=\"T_759c5_row6_col0\" class=\"data row6 col0\" >Bastion Private Key File</td>\n",
       "      <td id=\"T_759c5_row6_col1\" class=\"data row6 col1\" >/home/fabric/work/fabric_config/fabric_bastion_key</td>\n",
       "    </tr>\n",
       "    <tr>\n",
       "      <td id=\"T_759c5_row7_col0\" class=\"data row7 col0\" >Slice Private Key File</td>\n",
       "      <td id=\"T_759c5_row7_col1\" class=\"data row7 col1\" >/home/fabric/work/fabric_config/slice_key</td>\n",
       "    </tr>\n",
       "    <tr>\n",
       "      <td id=\"T_759c5_row8_col0\" class=\"data row8 col0\" >Slice Public Key File</td>\n",
       "      <td id=\"T_759c5_row8_col1\" class=\"data row8 col1\" >/home/fabric/work/fabric_config/slice_key.pub</td>\n",
       "    </tr>\n",
       "    <tr>\n",
       "      <td id=\"T_759c5_row9_col0\" class=\"data row9 col0\" >Log File</td>\n",
       "      <td id=\"T_759c5_row9_col1\" class=\"data row9 col1\" >/tmp/fablib/fablib.log</td>\n",
       "    </tr>\n",
       "    <tr>\n",
       "      <td id=\"T_759c5_row10_col0\" class=\"data row10 col0\" >Log Level</td>\n",
       "      <td id=\"T_759c5_row10_col1\" class=\"data row10 col1\" >INFO</td>\n",
       "    </tr>\n",
       "    <tr>\n",
       "      <td id=\"T_759c5_row11_col0\" class=\"data row11 col0\" >Sites to avoid</td>\n",
       "      <td id=\"T_759c5_row11_col1\" class=\"data row11 col1\" ></td>\n",
       "    </tr>\n",
       "    <tr>\n",
       "      <td id=\"T_759c5_row12_col0\" class=\"data row12 col0\" >SSH Command Line</td>\n",
       "      <td id=\"T_759c5_row12_col1\" class=\"data row12 col1\" >ssh -i {{ _self_.private_ssh_key_file }} -F /home/fabric/work/fabric_config/ssh_config {{ _self_.username }}@{{ _self_.management_ip }}</td>\n",
       "    </tr>\n",
       "    <tr>\n",
       "      <td id=\"T_759c5_row13_col0\" class=\"data row13 col0\" >Version</td>\n",
       "      <td id=\"T_759c5_row13_col1\" class=\"data row13 col1\" >1.6.2</td>\n",
       "    </tr>\n",
       "    <tr>\n",
       "      <td id=\"T_759c5_row14_col0\" class=\"data row14 col0\" >Data directory</td>\n",
       "      <td id=\"T_759c5_row14_col1\" class=\"data row14 col1\" >/tmp/fablib</td>\n",
       "    </tr>\n",
       "    <tr>\n",
       "      <td id=\"T_759c5_row15_col0\" class=\"data row15 col0\" >Core API</td>\n",
       "      <td id=\"T_759c5_row15_col1\" class=\"data row15 col1\" >uis.fabric-testbed.net</td>\n",
       "    </tr>\n",
       "    <tr>\n",
       "      <td id=\"T_759c5_row16_col0\" class=\"data row16 col0\" >Bastion SSH Config File</td>\n",
       "      <td id=\"T_759c5_row16_col1\" class=\"data row16 col1\" >/home/fabric/work/fabric_config/ssh_config</td>\n",
       "    </tr>\n",
       "  </tbody>\n",
       "</table>\n"
      ],
      "text/plain": [
       "<pandas.io.formats.style.Styler at 0x7f753fd57c70>"
      ]
     },
     "metadata": {},
     "output_type": "display_data"
    }
   ],
   "source": [
    "from fabrictestbed_extensions.fablib.fablib import FablibManager as fablib_manager\n",
    "fablib = fablib_manager() \n",
    "conf = fablib.show_config()"
   ]
  },
  {
   "cell_type": "markdown",
   "id": "e3ca7467-1ad8-4499-b346-a7315ad7542c",
   "metadata": {},
   "source": [
    "### Define configuration for this experiment"
   ]
  },
  {
   "cell_type": "code",
   "execution_count": 4,
   "id": "65703e50-63fe-45cf-a77e-67097a999712",
   "metadata": {},
   "outputs": [],
   "source": [
    "slice_name=\"ware-\" + fablib.get_bastion_username()\n",
    "\n",
    "node_conf = [\n",
    " {'name': \"sender\",    'cores': 2, 'ram': 4, 'disk': 10, 'image': 'default_ubuntu_22', 'packages': ['iperf3']}, \n",
    " {'name': \"receiver\",  'cores': 2, 'ram': 4, 'disk': 10, 'image': 'default_ubuntu_22', 'packages': ['iperf3']}, \n",
    " {'name': \"router\",    'cores': 2, 'ram': 4, 'disk': 10, 'image': 'default_ubuntu_22', 'packages': []}\n",
    "]\n",
    "net_conf = [\n",
    " {\"name\": \"net0\", \"subnet\": \"10.0.0.0/24\", \"nodes\": [{\"name\": \"sender\",   \"addr\": \"10.0.0.100\"}, {\"name\": \"router\", \"addr\": \"10.0.0.1\"}]},\n",
    " {\"name\": \"net1\", \"subnet\": \"10.0.1.0/24\", \"nodes\": [{\"name\": \"receiver\", \"addr\": \"10.0.1.100\"}, {\"name\": \"router\", \"addr\": \"10.0.1.1\"}]},\n",
    "]\n",
    "route_conf = [\n",
    " {\"addr\": \"10.0.1.0/24\", \"gw\": \"10.0.0.1\", \"nodes\": [\"sender\"]}, \n",
    " {\"addr\": \"10.0.0.0/24\", \"gw\": \"10.0.1.1\", \"nodes\": [\"receiver\"]}\n",
    "]\n",
    "exp_conf = {'cores': sum([ n['cores'] for n in node_conf]), 'nic': sum([len(n['nodes']) for n in net_conf]) }"
   ]
  },
  {
   "cell_type": "markdown",
   "id": "becddaea-c410-4e09-9cfa-9504032d8738",
   "metadata": {},
   "source": [
    "### Reserve resources\n",
    "\n",
    "Now, we are ready to reserve resources!"
   ]
  },
  {
   "cell_type": "markdown",
   "id": "a878eaf6-5b30-4d76-b6a1-54d88451a7b0",
   "metadata": {},
   "source": [
    "First, make sure you don’t already have a slice with this name:"
   ]
  },
  {
   "cell_type": "code",
   "execution_count": 5,
   "id": "f1e897fb-64ae-474c-819f-0081dabe3893",
   "metadata": {},
   "outputs": [
    {
     "name": "stdout",
     "output_type": "stream",
     "text": [
      "You already have a slice by this name!\n",
      "If you previously reserved resources, skip to the 'log in to resources' section.\n"
     ]
    }
   ],
   "source": [
    "try:\n",
    "    slice = fablib.get_slice(slice_name)\n",
    "    print(\"You already have a slice by this name!\")\n",
    "    print(\"If you previously reserved resources, skip to the 'log in to resources' section.\")\n",
    "except:\n",
    "    print(\"You don't have a slice named %s yet.\" % slice_name)\n",
    "    print(\"Continue to the next step to make one.\")\n",
    "    slice = fablib.new_slice(name=slice_name)"
   ]
  },
  {
   "cell_type": "markdown",
   "id": "1cb7466d-f545-4b9d-9eed-23e0b0eb05e7",
   "metadata": {},
   "source": [
    "We will select a random site that has sufficient resources for our experiment:"
   ]
  },
  {
   "cell_type": "code",
   "execution_count": 6,
   "id": "1b45dc0e-277a-4b94-949b-00256fd1e15b",
   "metadata": {},
   "outputs": [
    {
     "data": {
      "text/html": [
       "<style type=\"text/css\">\n",
       "#T_b8bea tr:nth-child(even) {\n",
       "  background: #dbf3ff;\n",
       "  color: #231f20;\n",
       "}\n",
       "#T_b8bea tr:nth-child(odd) {\n",
       "  background: #ffffff;\n",
       "  color: #231f20;\n",
       "}\n",
       "#T_b8bea caption {\n",
       "  text-align: center;\n",
       "  font-size: 150%;\n",
       "}\n",
       "#T_b8bea_row0_col0, #T_b8bea_row0_col1, #T_b8bea_row1_col0, #T_b8bea_row1_col1, #T_b8bea_row2_col0, #T_b8bea_row2_col1, #T_b8bea_row3_col0, #T_b8bea_row3_col1, #T_b8bea_row4_col0, #T_b8bea_row4_col1, #T_b8bea_row5_col0, #T_b8bea_row5_col1, #T_b8bea_row6_col0, #T_b8bea_row6_col1, #T_b8bea_row7_col0, #T_b8bea_row7_col1, #T_b8bea_row8_col0, #T_b8bea_row8_col1, #T_b8bea_row9_col0, #T_b8bea_row9_col1, #T_b8bea_row10_col0, #T_b8bea_row10_col1, #T_b8bea_row11_col0, #T_b8bea_row11_col1, #T_b8bea_row12_col0, #T_b8bea_row12_col1, #T_b8bea_row13_col0, #T_b8bea_row13_col1, #T_b8bea_row14_col0, #T_b8bea_row14_col1, #T_b8bea_row15_col0, #T_b8bea_row15_col1, #T_b8bea_row16_col0, #T_b8bea_row16_col1, #T_b8bea_row17_col0, #T_b8bea_row17_col1, #T_b8bea_row18_col0, #T_b8bea_row18_col1, #T_b8bea_row19_col0, #T_b8bea_row19_col1, #T_b8bea_row20_col0, #T_b8bea_row20_col1, #T_b8bea_row21_col0, #T_b8bea_row21_col1, #T_b8bea_row22_col0, #T_b8bea_row22_col1, #T_b8bea_row23_col0, #T_b8bea_row23_col1, #T_b8bea_row24_col0, #T_b8bea_row24_col1, #T_b8bea_row25_col0, #T_b8bea_row25_col1, #T_b8bea_row26_col0, #T_b8bea_row26_col1, #T_b8bea_row27_col0, #T_b8bea_row27_col1, #T_b8bea_row28_col0, #T_b8bea_row28_col1, #T_b8bea_row29_col0, #T_b8bea_row29_col1, #T_b8bea_row30_col0, #T_b8bea_row30_col1, #T_b8bea_row31_col0, #T_b8bea_row31_col1, #T_b8bea_row32_col0, #T_b8bea_row32_col1, #T_b8bea_row33_col0, #T_b8bea_row33_col1, #T_b8bea_row34_col0, #T_b8bea_row34_col1, #T_b8bea_row35_col0, #T_b8bea_row35_col1, #T_b8bea_row36_col0, #T_b8bea_row36_col1, #T_b8bea_row37_col0, #T_b8bea_row37_col1, #T_b8bea_row38_col0, #T_b8bea_row38_col1, #T_b8bea_row39_col0, #T_b8bea_row39_col1, #T_b8bea_row40_col0, #T_b8bea_row40_col1, #T_b8bea_row41_col0, #T_b8bea_row41_col1, #T_b8bea_row42_col0, #T_b8bea_row42_col1 {\n",
       "  text-align: left;\n",
       "  border: 1px #231f20 solid !important;\n",
       "  overwrite: False;\n",
       "}\n",
       "</style>\n",
       "<table id=\"T_b8bea\">\n",
       "  <caption>Site</caption>\n",
       "  <thead>\n",
       "  </thead>\n",
       "  <tbody>\n",
       "    <tr>\n",
       "      <td id=\"T_b8bea_row0_col0\" class=\"data row0 col0\" >Name</td>\n",
       "      <td id=\"T_b8bea_row0_col1\" class=\"data row0 col1\" >DALL</td>\n",
       "    </tr>\n",
       "    <tr>\n",
       "      <td id=\"T_b8bea_row1_col0\" class=\"data row1 col0\" >State</td>\n",
       "      <td id=\"T_b8bea_row1_col1\" class=\"data row1 col1\" >Active</td>\n",
       "    </tr>\n",
       "    <tr>\n",
       "      <td id=\"T_b8bea_row2_col0\" class=\"data row2 col0\" >Address</td>\n",
       "      <td id=\"T_b8bea_row2_col1\" class=\"data row2 col1\" >1950 N Stemmons Fwy,Dallas TX 75207</td>\n",
       "    </tr>\n",
       "    <tr>\n",
       "      <td id=\"T_b8bea_row3_col0\" class=\"data row3 col0\" >Location</td>\n",
       "      <td id=\"T_b8bea_row3_col1\" class=\"data row3 col1\" >(32.79908160563668, -96.82069027727609)</td>\n",
       "    </tr>\n",
       "    <tr>\n",
       "      <td id=\"T_b8bea_row4_col0\" class=\"data row4 col0\" >PTP Capable</td>\n",
       "      <td id=\"T_b8bea_row4_col1\" class=\"data row4 col1\" >False</td>\n",
       "    </tr>\n",
       "    <tr>\n",
       "      <td id=\"T_b8bea_row5_col0\" class=\"data row5 col0\" >Hosts</td>\n",
       "      <td id=\"T_b8bea_row5_col1\" class=\"data row5 col1\" >3</td>\n",
       "    </tr>\n",
       "    <tr>\n",
       "      <td id=\"T_b8bea_row6_col0\" class=\"data row6 col0\" >CPUs</td>\n",
       "      <td id=\"T_b8bea_row6_col1\" class=\"data row6 col1\" >6</td>\n",
       "    </tr>\n",
       "    <tr>\n",
       "      <td id=\"T_b8bea_row7_col0\" class=\"data row7 col0\" >Cores Available</td>\n",
       "      <td id=\"T_b8bea_row7_col1\" class=\"data row7 col1\" >154</td>\n",
       "    </tr>\n",
       "    <tr>\n",
       "      <td id=\"T_b8bea_row8_col0\" class=\"data row8 col0\" >Cores Capacity</td>\n",
       "      <td id=\"T_b8bea_row8_col1\" class=\"data row8 col1\" >384</td>\n",
       "    </tr>\n",
       "    <tr>\n",
       "      <td id=\"T_b8bea_row9_col0\" class=\"data row9 col0\" >Cores Allocated</td>\n",
       "      <td id=\"T_b8bea_row9_col1\" class=\"data row9 col1\" >230</td>\n",
       "    </tr>\n",
       "    <tr>\n",
       "      <td id=\"T_b8bea_row10_col0\" class=\"data row10 col0\" >RAM Available</td>\n",
       "      <td id=\"T_b8bea_row10_col1\" class=\"data row10 col1\" >952</td>\n",
       "    </tr>\n",
       "    <tr>\n",
       "      <td id=\"T_b8bea_row11_col0\" class=\"data row11 col0\" >RAM Capacity</td>\n",
       "      <td id=\"T_b8bea_row11_col1\" class=\"data row11 col1\" >1506</td>\n",
       "    </tr>\n",
       "    <tr>\n",
       "      <td id=\"T_b8bea_row12_col0\" class=\"data row12 col0\" >RAM Allocated</td>\n",
       "      <td id=\"T_b8bea_row12_col1\" class=\"data row12 col1\" >554</td>\n",
       "    </tr>\n",
       "    <tr>\n",
       "      <td id=\"T_b8bea_row13_col0\" class=\"data row13 col0\" >Disk Available</td>\n",
       "      <td id=\"T_b8bea_row13_col1\" class=\"data row13 col1\" >61311</td>\n",
       "    </tr>\n",
       "    <tr>\n",
       "      <td id=\"T_b8bea_row14_col0\" class=\"data row14 col0\" >Disk Capacity</td>\n",
       "      <td id=\"T_b8bea_row14_col1\" class=\"data row14 col1\" >64161</td>\n",
       "    </tr>\n",
       "    <tr>\n",
       "      <td id=\"T_b8bea_row15_col0\" class=\"data row15 col0\" >Disk Allocated</td>\n",
       "      <td id=\"T_b8bea_row15_col1\" class=\"data row15 col1\" >2850</td>\n",
       "    </tr>\n",
       "    <tr>\n",
       "      <td id=\"T_b8bea_row16_col0\" class=\"data row16 col0\" >Basic NIC Available</td>\n",
       "      <td id=\"T_b8bea_row16_col1\" class=\"data row16 col1\" >295</td>\n",
       "    </tr>\n",
       "    <tr>\n",
       "      <td id=\"T_b8bea_row17_col0\" class=\"data row17 col0\" >Basic NIC Capacity</td>\n",
       "      <td id=\"T_b8bea_row17_col1\" class=\"data row17 col1\" >381</td>\n",
       "    </tr>\n",
       "    <tr>\n",
       "      <td id=\"T_b8bea_row18_col0\" class=\"data row18 col0\" >Basic NIC Allocated</td>\n",
       "      <td id=\"T_b8bea_row18_col1\" class=\"data row18 col1\" >86</td>\n",
       "    </tr>\n",
       "    <tr>\n",
       "      <td id=\"T_b8bea_row19_col0\" class=\"data row19 col0\" >ConnectX-6 Available</td>\n",
       "      <td id=\"T_b8bea_row19_col1\" class=\"data row19 col1\" >2</td>\n",
       "    </tr>\n",
       "    <tr>\n",
       "      <td id=\"T_b8bea_row20_col0\" class=\"data row20 col0\" >ConnectX-6 Capacity</td>\n",
       "      <td id=\"T_b8bea_row20_col1\" class=\"data row20 col1\" >2</td>\n",
       "    </tr>\n",
       "    <tr>\n",
       "      <td id=\"T_b8bea_row21_col0\" class=\"data row21 col0\" >ConnectX-6 Allocated</td>\n",
       "      <td id=\"T_b8bea_row21_col1\" class=\"data row21 col1\" >0</td>\n",
       "    </tr>\n",
       "    <tr>\n",
       "      <td id=\"T_b8bea_row22_col0\" class=\"data row22 col0\" >ConnectX-5 Available</td>\n",
       "      <td id=\"T_b8bea_row22_col1\" class=\"data row22 col1\" >2</td>\n",
       "    </tr>\n",
       "    <tr>\n",
       "      <td id=\"T_b8bea_row23_col0\" class=\"data row23 col0\" >ConnectX-5 Capacity</td>\n",
       "      <td id=\"T_b8bea_row23_col1\" class=\"data row23 col1\" >2</td>\n",
       "    </tr>\n",
       "    <tr>\n",
       "      <td id=\"T_b8bea_row24_col0\" class=\"data row24 col0\" >ConnectX-5 Allocated</td>\n",
       "      <td id=\"T_b8bea_row24_col1\" class=\"data row24 col1\" >0</td>\n",
       "    </tr>\n",
       "    <tr>\n",
       "      <td id=\"T_b8bea_row25_col0\" class=\"data row25 col0\" >NVMe Available</td>\n",
       "      <td id=\"T_b8bea_row25_col1\" class=\"data row25 col1\" >10</td>\n",
       "    </tr>\n",
       "    <tr>\n",
       "      <td id=\"T_b8bea_row26_col0\" class=\"data row26 col0\" >NVMe Capacity</td>\n",
       "      <td id=\"T_b8bea_row26_col1\" class=\"data row26 col1\" >10</td>\n",
       "    </tr>\n",
       "    <tr>\n",
       "      <td id=\"T_b8bea_row27_col0\" class=\"data row27 col0\" >NVMe Allocated</td>\n",
       "      <td id=\"T_b8bea_row27_col1\" class=\"data row27 col1\" >0</td>\n",
       "    </tr>\n",
       "    <tr>\n",
       "      <td id=\"T_b8bea_row28_col0\" class=\"data row28 col0\" >Tesla T4 Available</td>\n",
       "      <td id=\"T_b8bea_row28_col1\" class=\"data row28 col1\" >2</td>\n",
       "    </tr>\n",
       "    <tr>\n",
       "      <td id=\"T_b8bea_row29_col0\" class=\"data row29 col0\" >Tesla T4 Capacity</td>\n",
       "      <td id=\"T_b8bea_row29_col1\" class=\"data row29 col1\" >2</td>\n",
       "    </tr>\n",
       "    <tr>\n",
       "      <td id=\"T_b8bea_row30_col0\" class=\"data row30 col0\" >Tesla T4 Allocated</td>\n",
       "      <td id=\"T_b8bea_row30_col1\" class=\"data row30 col1\" >0</td>\n",
       "    </tr>\n",
       "    <tr>\n",
       "      <td id=\"T_b8bea_row31_col0\" class=\"data row31 col0\" >RTX6000 Available</td>\n",
       "      <td id=\"T_b8bea_row31_col1\" class=\"data row31 col1\" >3</td>\n",
       "    </tr>\n",
       "    <tr>\n",
       "      <td id=\"T_b8bea_row32_col0\" class=\"data row32 col0\" >RTX6000 Capacity</td>\n",
       "      <td id=\"T_b8bea_row32_col1\" class=\"data row32 col1\" >3</td>\n",
       "    </tr>\n",
       "    <tr>\n",
       "      <td id=\"T_b8bea_row33_col0\" class=\"data row33 col0\" >RTX6000 Allocated</td>\n",
       "      <td id=\"T_b8bea_row33_col1\" class=\"data row33 col1\" >0</td>\n",
       "    </tr>\n",
       "    <tr>\n",
       "      <td id=\"T_b8bea_row34_col0\" class=\"data row34 col0\" >A30 Available</td>\n",
       "      <td id=\"T_b8bea_row34_col1\" class=\"data row34 col1\" >0</td>\n",
       "    </tr>\n",
       "    <tr>\n",
       "      <td id=\"T_b8bea_row35_col0\" class=\"data row35 col0\" >A30 Capacity</td>\n",
       "      <td id=\"T_b8bea_row35_col1\" class=\"data row35 col1\" >0</td>\n",
       "    </tr>\n",
       "    <tr>\n",
       "      <td id=\"T_b8bea_row36_col0\" class=\"data row36 col0\" >A30 Allocated</td>\n",
       "      <td id=\"T_b8bea_row36_col1\" class=\"data row36 col1\" >0</td>\n",
       "    </tr>\n",
       "    <tr>\n",
       "      <td id=\"T_b8bea_row37_col0\" class=\"data row37 col0\" >A40 Available</td>\n",
       "      <td id=\"T_b8bea_row37_col1\" class=\"data row37 col1\" >0</td>\n",
       "    </tr>\n",
       "    <tr>\n",
       "      <td id=\"T_b8bea_row38_col0\" class=\"data row38 col0\" >A40 Capacity</td>\n",
       "      <td id=\"T_b8bea_row38_col1\" class=\"data row38 col1\" >0</td>\n",
       "    </tr>\n",
       "    <tr>\n",
       "      <td id=\"T_b8bea_row39_col0\" class=\"data row39 col0\" >A40 Allocated</td>\n",
       "      <td id=\"T_b8bea_row39_col1\" class=\"data row39 col1\" >0</td>\n",
       "    </tr>\n",
       "    <tr>\n",
       "      <td id=\"T_b8bea_row40_col0\" class=\"data row40 col0\" >U280 Available</td>\n",
       "      <td id=\"T_b8bea_row40_col1\" class=\"data row40 col1\" >0</td>\n",
       "    </tr>\n",
       "    <tr>\n",
       "      <td id=\"T_b8bea_row41_col0\" class=\"data row41 col0\" >U280 Capacity</td>\n",
       "      <td id=\"T_b8bea_row41_col1\" class=\"data row41 col1\" >1</td>\n",
       "    </tr>\n",
       "    <tr>\n",
       "      <td id=\"T_b8bea_row42_col0\" class=\"data row42 col0\" >U280 Allocated</td>\n",
       "      <td id=\"T_b8bea_row42_col1\" class=\"data row42 col1\" >1</td>\n",
       "    </tr>\n",
       "  </tbody>\n",
       "</table>\n"
      ],
      "text/plain": [
       "<pandas.io.formats.style.Styler at 0x7fa006164820>"
      ]
     },
     "metadata": {},
     "output_type": "display_data"
    },
    {
     "data": {
      "text/plain": [
       "'<pandas.io.formats.style.Styler object at 0x7fa006164820>'"
      ]
     },
     "execution_count": 6,
     "metadata": {},
     "output_type": "execute_result"
    }
   ],
   "source": [
    "while True:\n",
    "    site_name = fablib.get_random_site()\n",
    "    if ( (fablib.resources.get_core_available(site_name) > 1.2*exp_conf['cores']) and\n",
    "        (fablib.resources.get_component_available(site_name, 'SharedNIC-ConnectX-6') > 1.2**exp_conf['nic']) ):\n",
    "        break\n",
    "\n",
    "fablib.show_site(site_name)"
   ]
  },
  {
   "cell_type": "markdown",
   "id": "8beb1d7f-5f61-47a6-9fd1-68e00de3940f",
   "metadata": {},
   "source": [
    "Then we will add hosts and network segments:"
   ]
  },
  {
   "cell_type": "code",
   "execution_count": 7,
   "id": "0df45406-0765-4d24-8a2d-b98230997f6b",
   "metadata": {},
   "outputs": [],
   "source": [
    "# this cell sets up the nodes\n",
    "for n in node_conf:\n",
    "    slice.add_node(name=n['name'], site=site_name, \n",
    "                   cores=n['cores'], \n",
    "                   ram=n['ram'], \n",
    "                   disk=n['disk'], \n",
    "                   image=n['image'])"
   ]
  },
  {
   "cell_type": "code",
   "execution_count": 8,
   "id": "9c5b7f16-7faa-48d4-87a3-b7451bc6ce9c",
   "metadata": {},
   "outputs": [],
   "source": [
    "# this cell sets up the network segments\n",
    "for n in net_conf:\n",
    "    ifaces = [slice.get_node(node[\"name\"]).add_component(model=\"NIC_Basic\", \n",
    "                                                 name=n[\"name\"]).get_interfaces()[0] for node in n['nodes'] ]\n",
    "    slice.add_l2network(name=n[\"name\"], type='L2Bridge', interfaces=ifaces)"
   ]
  },
  {
   "cell_type": "markdown",
   "id": "4dd5c7b6-6f98-4ce9-aa15-bd9c97506677",
   "metadata": {},
   "source": [
    "The following cell submits our request to the FABRIC site. The output of this cell will update automatically as the status of our request changes.\n",
    "\n",
    "-   While it is being prepared, the “State” of the slice will appear as “Configuring”.\n",
    "-   When it is ready, the “State” of the slice will change to “StableOK”.\n",
    "\n",
    "You may prefer to walk away and come back in a few minutes (for simple slices) or a few tens of minutes (for more complicated slices with many resources)."
   ]
  },
  {
   "cell_type": "code",
   "execution_count": 9,
   "id": "d43731b1-176c-4cfa-845f-da40ee65a43a",
   "metadata": {},
   "outputs": [
    {
     "name": "stdout",
     "output_type": "stream",
     "text": [
      "\n",
      "Retry: 10, Time: 313 sec\n"
     ]
    },
    {
     "data": {
      "text/html": [
       "<style type=\"text/css\">\n",
       "#T_b12ab tr:nth-child(even) {\n",
       "  background: #dbf3ff;\n",
       "  color: #231f20;\n",
       "}\n",
       "#T_b12ab tr:nth-child(odd) {\n",
       "  background: #ffffff;\n",
       "  color: #231f20;\n",
       "}\n",
       "#T_b12ab caption {\n",
       "  text-align: center;\n",
       "  font-size: 150%;\n",
       "}\n",
       "#T_b12ab_row0_col0, #T_b12ab_row0_col1, #T_b12ab_row1_col0, #T_b12ab_row1_col1, #T_b12ab_row2_col0, #T_b12ab_row2_col1, #T_b12ab_row3_col0, #T_b12ab_row3_col1, #T_b12ab_row4_col0, #T_b12ab_row4_col1, #T_b12ab_row5_col0 {\n",
       "  text-align: left;\n",
       "  border: 1px #231f20 solid !important;\n",
       "  overwrite: False;\n",
       "  background-color: ;\n",
       "}\n",
       "#T_b12ab_row5_col1 {\n",
       "  text-align: left;\n",
       "  border: 1px #231f20 solid !important;\n",
       "  overwrite: False;\n",
       "  background-color: #c3ffc4;\n",
       "}\n",
       "</style>\n",
       "<table id=\"T_b12ab\">\n",
       "  <caption>Slice</caption>\n",
       "  <thead>\n",
       "  </thead>\n",
       "  <tbody>\n",
       "    <tr>\n",
       "      <td id=\"T_b12ab_row0_col0\" class=\"data row0 col0\" >ID</td>\n",
       "      <td id=\"T_b12ab_row0_col1\" class=\"data row0 col1\" >d31c01ca-2db3-4eb0-9e80-7a29d4f391c8</td>\n",
       "    </tr>\n",
       "    <tr>\n",
       "      <td id=\"T_b12ab_row1_col0\" class=\"data row1 col0\" >Name</td>\n",
       "      <td id=\"T_b12ab_row1_col1\" class=\"data row1 col1\" >ware-fbs6417_0000066146</td>\n",
       "    </tr>\n",
       "    <tr>\n",
       "      <td id=\"T_b12ab_row2_col0\" class=\"data row2 col0\" >Lease Expiration (UTC)</td>\n",
       "      <td id=\"T_b12ab_row2_col1\" class=\"data row2 col1\" >2024-04-26 22:27:15 +0000</td>\n",
       "    </tr>\n",
       "    <tr>\n",
       "      <td id=\"T_b12ab_row3_col0\" class=\"data row3 col0\" >Lease Start (UTC)</td>\n",
       "      <td id=\"T_b12ab_row3_col1\" class=\"data row3 col1\" >2024-04-25 22:27:16 +0000</td>\n",
       "    </tr>\n",
       "    <tr>\n",
       "      <td id=\"T_b12ab_row4_col0\" class=\"data row4 col0\" >Project ID</td>\n",
       "      <td id=\"T_b12ab_row4_col1\" class=\"data row4 col1\" >073ee843-2310-45bd-a01f-a15d808827dc</td>\n",
       "    </tr>\n",
       "    <tr>\n",
       "      <td id=\"T_b12ab_row5_col0\" class=\"data row5 col0\" >State</td>\n",
       "      <td id=\"T_b12ab_row5_col1\" class=\"data row5 col1\" >StableOK</td>\n",
       "    </tr>\n",
       "  </tbody>\n",
       "</table>\n"
      ],
      "text/plain": [
       "<pandas.io.formats.style.Styler at 0x7fa003e0b1c0>"
      ]
     },
     "metadata": {},
     "output_type": "display_data"
    },
    {
     "data": {
      "text/html": [
       "<style type=\"text/css\">\n",
       "#T_2d7c5 caption {\n",
       "  text-align: center;\n",
       "  font-size: 150%;\n",
       "  caption-side: top;\n",
       "}\n",
       "#T_2d7c5 th {\n",
       "  text-align: left;\n",
       "}\n",
       "#T_2d7c5 tr:nth-child(even) {\n",
       "  background: #ffffff;\n",
       "  color: #231f20;\n",
       "}\n",
       "#T_2d7c5 tr:nth-child(odd) {\n",
       "  background: #dbf3ff;\n",
       "  color: #231f20;\n",
       "}\n",
       "#T_2d7c5 .level0 {\n",
       "  border: 1px black solid !important;\n",
       "  background: #ffffff;\n",
       "  color: #231f20;\n",
       "}\n",
       "#T_2d7c5_row0_col0, #T_2d7c5_row0_col1, #T_2d7c5_row0_col2, #T_2d7c5_row0_col3, #T_2d7c5_row0_col4, #T_2d7c5_row0_col5, #T_2d7c5_row0_col6, #T_2d7c5_row0_col7, #T_2d7c5_row0_col8, #T_2d7c5_row0_col9, #T_2d7c5_row0_col10, #T_2d7c5_row0_col13, #T_2d7c5_row0_col14, #T_2d7c5_row0_col15, #T_2d7c5_row1_col0, #T_2d7c5_row1_col1, #T_2d7c5_row1_col2, #T_2d7c5_row1_col3, #T_2d7c5_row1_col4, #T_2d7c5_row1_col5, #T_2d7c5_row1_col6, #T_2d7c5_row1_col7, #T_2d7c5_row1_col8, #T_2d7c5_row1_col9, #T_2d7c5_row1_col10, #T_2d7c5_row1_col13, #T_2d7c5_row1_col14, #T_2d7c5_row1_col15, #T_2d7c5_row2_col0, #T_2d7c5_row2_col1, #T_2d7c5_row2_col2, #T_2d7c5_row2_col3, #T_2d7c5_row2_col4, #T_2d7c5_row2_col5, #T_2d7c5_row2_col6, #T_2d7c5_row2_col7, #T_2d7c5_row2_col8, #T_2d7c5_row2_col9, #T_2d7c5_row2_col10, #T_2d7c5_row2_col13, #T_2d7c5_row2_col14, #T_2d7c5_row2_col15 {\n",
       "  text-align: left;\n",
       "  border: 1px #231f20 solid !important;\n",
       "  overwrite: False;\n",
       "}\n",
       "#T_2d7c5_row0_col11, #T_2d7c5_row1_col11, #T_2d7c5_row2_col11 {\n",
       "  text-align: left;\n",
       "  border: 1px #231f20 solid !important;\n",
       "  overwrite: False;\n",
       "  background-color: #c3ffc4;\n",
       "}\n",
       "#T_2d7c5_row0_col12, #T_2d7c5_row1_col12, #T_2d7c5_row2_col12 {\n",
       "  text-align: left;\n",
       "  border: 1px #231f20 solid !important;\n",
       "  overwrite: False;\n",
       "  background-color: ;\n",
       "}\n",
       "</style>\n",
       "<table id=\"T_2d7c5\">\n",
       "  <caption>Nodes</caption>\n",
       "  <thead>\n",
       "    <tr>\n",
       "      <th id=\"T_2d7c5_level0_col0\" class=\"col_heading level0 col0\" >ID</th>\n",
       "      <th id=\"T_2d7c5_level0_col1\" class=\"col_heading level0 col1\" >Name</th>\n",
       "      <th id=\"T_2d7c5_level0_col2\" class=\"col_heading level0 col2\" >Cores</th>\n",
       "      <th id=\"T_2d7c5_level0_col3\" class=\"col_heading level0 col3\" >RAM</th>\n",
       "      <th id=\"T_2d7c5_level0_col4\" class=\"col_heading level0 col4\" >Disk</th>\n",
       "      <th id=\"T_2d7c5_level0_col5\" class=\"col_heading level0 col5\" >Image</th>\n",
       "      <th id=\"T_2d7c5_level0_col6\" class=\"col_heading level0 col6\" >Image Type</th>\n",
       "      <th id=\"T_2d7c5_level0_col7\" class=\"col_heading level0 col7\" >Host</th>\n",
       "      <th id=\"T_2d7c5_level0_col8\" class=\"col_heading level0 col8\" >Site</th>\n",
       "      <th id=\"T_2d7c5_level0_col9\" class=\"col_heading level0 col9\" >Username</th>\n",
       "      <th id=\"T_2d7c5_level0_col10\" class=\"col_heading level0 col10\" >Management IP</th>\n",
       "      <th id=\"T_2d7c5_level0_col11\" class=\"col_heading level0 col11\" >State</th>\n",
       "      <th id=\"T_2d7c5_level0_col12\" class=\"col_heading level0 col12\" >Error</th>\n",
       "      <th id=\"T_2d7c5_level0_col13\" class=\"col_heading level0 col13\" >SSH Command</th>\n",
       "      <th id=\"T_2d7c5_level0_col14\" class=\"col_heading level0 col14\" >Public SSH Key File</th>\n",
       "      <th id=\"T_2d7c5_level0_col15\" class=\"col_heading level0 col15\" >Private SSH Key File</th>\n",
       "    </tr>\n",
       "  </thead>\n",
       "  <tbody>\n",
       "    <tr>\n",
       "      <td id=\"T_2d7c5_row0_col0\" class=\"data row0 col0\" >5d34da6e-d0d5-4ec9-964d-168ce087eaab</td>\n",
       "      <td id=\"T_2d7c5_row0_col1\" class=\"data row0 col1\" >receiver</td>\n",
       "      <td id=\"T_2d7c5_row0_col2\" class=\"data row0 col2\" >2</td>\n",
       "      <td id=\"T_2d7c5_row0_col3\" class=\"data row0 col3\" >4</td>\n",
       "      <td id=\"T_2d7c5_row0_col4\" class=\"data row0 col4\" >10</td>\n",
       "      <td id=\"T_2d7c5_row0_col5\" class=\"data row0 col5\" >default_ubuntu_22</td>\n",
       "      <td id=\"T_2d7c5_row0_col6\" class=\"data row0 col6\" >qcow2</td>\n",
       "      <td id=\"T_2d7c5_row0_col7\" class=\"data row0 col7\" >dall-w1.fabric-testbed.net</td>\n",
       "      <td id=\"T_2d7c5_row0_col8\" class=\"data row0 col8\" >DALL</td>\n",
       "      <td id=\"T_2d7c5_row0_col9\" class=\"data row0 col9\" >ubuntu</td>\n",
       "      <td id=\"T_2d7c5_row0_col10\" class=\"data row0 col10\" >2001:400:a100:3000:f816:3eff:fe13:f42a</td>\n",
       "      <td id=\"T_2d7c5_row0_col11\" class=\"data row0 col11\" >Active</td>\n",
       "      <td id=\"T_2d7c5_row0_col12\" class=\"data row0 col12\" ></td>\n",
       "      <td id=\"T_2d7c5_row0_col13\" class=\"data row0 col13\" >ssh -i /home/fabric/work/fabric_config/slice_key -F /home/fabric/work/fabric_config/ssh_config ubuntu@2001:400:a100:3000:f816:3eff:fe13:f42a</td>\n",
       "      <td id=\"T_2d7c5_row0_col14\" class=\"data row0 col14\" >/home/fabric/work/fabric_config/slice_key.pub</td>\n",
       "      <td id=\"T_2d7c5_row0_col15\" class=\"data row0 col15\" >/home/fabric/work/fabric_config/slice_key</td>\n",
       "    </tr>\n",
       "    <tr>\n",
       "      <td id=\"T_2d7c5_row1_col0\" class=\"data row1 col0\" >0847124e-3356-40a2-adcf-7d608cb1a8e2</td>\n",
       "      <td id=\"T_2d7c5_row1_col1\" class=\"data row1 col1\" >router</td>\n",
       "      <td id=\"T_2d7c5_row1_col2\" class=\"data row1 col2\" >2</td>\n",
       "      <td id=\"T_2d7c5_row1_col3\" class=\"data row1 col3\" >4</td>\n",
       "      <td id=\"T_2d7c5_row1_col4\" class=\"data row1 col4\" >10</td>\n",
       "      <td id=\"T_2d7c5_row1_col5\" class=\"data row1 col5\" >default_ubuntu_22</td>\n",
       "      <td id=\"T_2d7c5_row1_col6\" class=\"data row1 col6\" >qcow2</td>\n",
       "      <td id=\"T_2d7c5_row1_col7\" class=\"data row1 col7\" >dall-w1.fabric-testbed.net</td>\n",
       "      <td id=\"T_2d7c5_row1_col8\" class=\"data row1 col8\" >DALL</td>\n",
       "      <td id=\"T_2d7c5_row1_col9\" class=\"data row1 col9\" >ubuntu</td>\n",
       "      <td id=\"T_2d7c5_row1_col10\" class=\"data row1 col10\" >2001:400:a100:3000:f816:3eff:fe0d:4735</td>\n",
       "      <td id=\"T_2d7c5_row1_col11\" class=\"data row1 col11\" >Active</td>\n",
       "      <td id=\"T_2d7c5_row1_col12\" class=\"data row1 col12\" ></td>\n",
       "      <td id=\"T_2d7c5_row1_col13\" class=\"data row1 col13\" >ssh -i /home/fabric/work/fabric_config/slice_key -F /home/fabric/work/fabric_config/ssh_config ubuntu@2001:400:a100:3000:f816:3eff:fe0d:4735</td>\n",
       "      <td id=\"T_2d7c5_row1_col14\" class=\"data row1 col14\" >/home/fabric/work/fabric_config/slice_key.pub</td>\n",
       "      <td id=\"T_2d7c5_row1_col15\" class=\"data row1 col15\" >/home/fabric/work/fabric_config/slice_key</td>\n",
       "    </tr>\n",
       "    <tr>\n",
       "      <td id=\"T_2d7c5_row2_col0\" class=\"data row2 col0\" >a47f184e-c88c-4354-adea-cfb03cdccf27</td>\n",
       "      <td id=\"T_2d7c5_row2_col1\" class=\"data row2 col1\" >sender</td>\n",
       "      <td id=\"T_2d7c5_row2_col2\" class=\"data row2 col2\" >2</td>\n",
       "      <td id=\"T_2d7c5_row2_col3\" class=\"data row2 col3\" >4</td>\n",
       "      <td id=\"T_2d7c5_row2_col4\" class=\"data row2 col4\" >10</td>\n",
       "      <td id=\"T_2d7c5_row2_col5\" class=\"data row2 col5\" >default_ubuntu_22</td>\n",
       "      <td id=\"T_2d7c5_row2_col6\" class=\"data row2 col6\" >qcow2</td>\n",
       "      <td id=\"T_2d7c5_row2_col7\" class=\"data row2 col7\" >dall-w1.fabric-testbed.net</td>\n",
       "      <td id=\"T_2d7c5_row2_col8\" class=\"data row2 col8\" >DALL</td>\n",
       "      <td id=\"T_2d7c5_row2_col9\" class=\"data row2 col9\" >ubuntu</td>\n",
       "      <td id=\"T_2d7c5_row2_col10\" class=\"data row2 col10\" >2001:400:a100:3000:f816:3eff:fedd:9bf</td>\n",
       "      <td id=\"T_2d7c5_row2_col11\" class=\"data row2 col11\" >Active</td>\n",
       "      <td id=\"T_2d7c5_row2_col12\" class=\"data row2 col12\" ></td>\n",
       "      <td id=\"T_2d7c5_row2_col13\" class=\"data row2 col13\" >ssh -i /home/fabric/work/fabric_config/slice_key -F /home/fabric/work/fabric_config/ssh_config ubuntu@2001:400:a100:3000:f816:3eff:fedd:9bf</td>\n",
       "      <td id=\"T_2d7c5_row2_col14\" class=\"data row2 col14\" >/home/fabric/work/fabric_config/slice_key.pub</td>\n",
       "      <td id=\"T_2d7c5_row2_col15\" class=\"data row2 col15\" >/home/fabric/work/fabric_config/slice_key</td>\n",
       "    </tr>\n",
       "  </tbody>\n",
       "</table>\n"
      ],
      "text/plain": [
       "<pandas.io.formats.style.Styler at 0x7fa00045c100>"
      ]
     },
     "metadata": {},
     "output_type": "display_data"
    },
    {
     "data": {
      "text/html": [
       "<style type=\"text/css\">\n",
       "#T_3b1c2 caption {\n",
       "  text-align: center;\n",
       "  font-size: 150%;\n",
       "  caption-side: top;\n",
       "}\n",
       "#T_3b1c2 th {\n",
       "  text-align: left;\n",
       "}\n",
       "#T_3b1c2 tr:nth-child(even) {\n",
       "  background: #ffffff;\n",
       "  color: #231f20;\n",
       "}\n",
       "#T_3b1c2 tr:nth-child(odd) {\n",
       "  background: #dbf3ff;\n",
       "  color: #231f20;\n",
       "}\n",
       "#T_3b1c2 .level0 {\n",
       "  border: 1px black solid !important;\n",
       "  background: #ffffff;\n",
       "  color: #231f20;\n",
       "}\n",
       "#T_3b1c2_row0_col0, #T_3b1c2_row0_col1, #T_3b1c2_row0_col2, #T_3b1c2_row0_col3, #T_3b1c2_row0_col4, #T_3b1c2_row0_col5, #T_3b1c2_row0_col6, #T_3b1c2_row1_col0, #T_3b1c2_row1_col1, #T_3b1c2_row1_col2, #T_3b1c2_row1_col3, #T_3b1c2_row1_col4, #T_3b1c2_row1_col5, #T_3b1c2_row1_col6 {\n",
       "  text-align: left;\n",
       "  border: 1px #231f20 solid !important;\n",
       "  overwrite: False;\n",
       "}\n",
       "#T_3b1c2_row0_col7, #T_3b1c2_row1_col7 {\n",
       "  text-align: left;\n",
       "  border: 1px #231f20 solid !important;\n",
       "  overwrite: False;\n",
       "  background-color: #c3ffc4;\n",
       "}\n",
       "#T_3b1c2_row0_col8, #T_3b1c2_row1_col8 {\n",
       "  text-align: left;\n",
       "  border: 1px #231f20 solid !important;\n",
       "  overwrite: False;\n",
       "  background-color: ;\n",
       "}\n",
       "</style>\n",
       "<table id=\"T_3b1c2\">\n",
       "  <caption>Networks</caption>\n",
       "  <thead>\n",
       "    <tr>\n",
       "      <th id=\"T_3b1c2_level0_col0\" class=\"col_heading level0 col0\" >ID</th>\n",
       "      <th id=\"T_3b1c2_level0_col1\" class=\"col_heading level0 col1\" >Name</th>\n",
       "      <th id=\"T_3b1c2_level0_col2\" class=\"col_heading level0 col2\" >Layer</th>\n",
       "      <th id=\"T_3b1c2_level0_col3\" class=\"col_heading level0 col3\" >Type</th>\n",
       "      <th id=\"T_3b1c2_level0_col4\" class=\"col_heading level0 col4\" >Site</th>\n",
       "      <th id=\"T_3b1c2_level0_col5\" class=\"col_heading level0 col5\" >Subnet</th>\n",
       "      <th id=\"T_3b1c2_level0_col6\" class=\"col_heading level0 col6\" >Gateway</th>\n",
       "      <th id=\"T_3b1c2_level0_col7\" class=\"col_heading level0 col7\" >State</th>\n",
       "      <th id=\"T_3b1c2_level0_col8\" class=\"col_heading level0 col8\" >Error</th>\n",
       "    </tr>\n",
       "  </thead>\n",
       "  <tbody>\n",
       "    <tr>\n",
       "      <td id=\"T_3b1c2_row0_col0\" class=\"data row0 col0\" >99ca6328-1d86-483e-8575-016701dc9a8a</td>\n",
       "      <td id=\"T_3b1c2_row0_col1\" class=\"data row0 col1\" >net0</td>\n",
       "      <td id=\"T_3b1c2_row0_col2\" class=\"data row0 col2\" >L2</td>\n",
       "      <td id=\"T_3b1c2_row0_col3\" class=\"data row0 col3\" >L2Bridge</td>\n",
       "      <td id=\"T_3b1c2_row0_col4\" class=\"data row0 col4\" >DALL</td>\n",
       "      <td id=\"T_3b1c2_row0_col5\" class=\"data row0 col5\" >None</td>\n",
       "      <td id=\"T_3b1c2_row0_col6\" class=\"data row0 col6\" >None</td>\n",
       "      <td id=\"T_3b1c2_row0_col7\" class=\"data row0 col7\" >Active</td>\n",
       "      <td id=\"T_3b1c2_row0_col8\" class=\"data row0 col8\" ></td>\n",
       "    </tr>\n",
       "    <tr>\n",
       "      <td id=\"T_3b1c2_row1_col0\" class=\"data row1 col0\" >0a116aeb-49fb-4c10-870f-98ce2c867af5</td>\n",
       "      <td id=\"T_3b1c2_row1_col1\" class=\"data row1 col1\" >net1</td>\n",
       "      <td id=\"T_3b1c2_row1_col2\" class=\"data row1 col2\" >L2</td>\n",
       "      <td id=\"T_3b1c2_row1_col3\" class=\"data row1 col3\" >L2Bridge</td>\n",
       "      <td id=\"T_3b1c2_row1_col4\" class=\"data row1 col4\" >DALL</td>\n",
       "      <td id=\"T_3b1c2_row1_col5\" class=\"data row1 col5\" >None</td>\n",
       "      <td id=\"T_3b1c2_row1_col6\" class=\"data row1 col6\" >None</td>\n",
       "      <td id=\"T_3b1c2_row1_col7\" class=\"data row1 col7\" >Active</td>\n",
       "      <td id=\"T_3b1c2_row1_col8\" class=\"data row1 col8\" ></td>\n",
       "    </tr>\n",
       "  </tbody>\n",
       "</table>\n"
      ],
      "text/plain": [
       "<pandas.io.formats.style.Styler at 0x7f9fe018dd50>"
      ]
     },
     "metadata": {},
     "output_type": "display_data"
    },
    {
     "data": {
      "text/html": [
       "<style type=\"text/css\">\n",
       "#T_960d9 caption {\n",
       "  text-align: center;\n",
       "  font-size: 150%;\n",
       "  caption-side: top;\n",
       "}\n",
       "#T_960d9 th {\n",
       "  text-align: left;\n",
       "}\n",
       "#T_960d9 tr:nth-child(even) {\n",
       "  background: #ffffff;\n",
       "  color: #231f20;\n",
       "}\n",
       "#T_960d9 tr:nth-child(odd) {\n",
       "  background: #dbf3ff;\n",
       "  color: #231f20;\n",
       "}\n",
       "#T_960d9 .level0 {\n",
       "  border: 1px black solid !important;\n",
       "  background: #ffffff;\n",
       "  color: #231f20;\n",
       "}\n",
       "#T_960d9_row0_col0, #T_960d9_row0_col1, #T_960d9_row0_col2, #T_960d9_row0_col3, #T_960d9_row0_col4, #T_960d9_row0_col5, #T_960d9_row0_col6, #T_960d9_row0_col7, #T_960d9_row0_col8, #T_960d9_row0_col9, #T_960d9_row0_col10, #T_960d9_row0_col11, #T_960d9_row1_col0, #T_960d9_row1_col1, #T_960d9_row1_col2, #T_960d9_row1_col3, #T_960d9_row1_col4, #T_960d9_row1_col5, #T_960d9_row1_col6, #T_960d9_row1_col7, #T_960d9_row1_col8, #T_960d9_row1_col9, #T_960d9_row1_col10, #T_960d9_row1_col11, #T_960d9_row2_col0, #T_960d9_row2_col1, #T_960d9_row2_col2, #T_960d9_row2_col3, #T_960d9_row2_col4, #T_960d9_row2_col5, #T_960d9_row2_col6, #T_960d9_row2_col7, #T_960d9_row2_col8, #T_960d9_row2_col9, #T_960d9_row2_col10, #T_960d9_row2_col11, #T_960d9_row3_col0, #T_960d9_row3_col1, #T_960d9_row3_col2, #T_960d9_row3_col3, #T_960d9_row3_col4, #T_960d9_row3_col5, #T_960d9_row3_col6, #T_960d9_row3_col7, #T_960d9_row3_col8, #T_960d9_row3_col9, #T_960d9_row3_col10, #T_960d9_row3_col11 {\n",
       "  text-align: left;\n",
       "  border: 1px #231f20 solid !important;\n",
       "  overwrite: False;\n",
       "}\n",
       "</style>\n",
       "<table id=\"T_960d9\">\n",
       "  <caption>Interfaces</caption>\n",
       "  <thead>\n",
       "    <tr>\n",
       "      <th id=\"T_960d9_level0_col0\" class=\"col_heading level0 col0\" >Name</th>\n",
       "      <th id=\"T_960d9_level0_col1\" class=\"col_heading level0 col1\" >Short Name</th>\n",
       "      <th id=\"T_960d9_level0_col2\" class=\"col_heading level0 col2\" >Node</th>\n",
       "      <th id=\"T_960d9_level0_col3\" class=\"col_heading level0 col3\" >Network</th>\n",
       "      <th id=\"T_960d9_level0_col4\" class=\"col_heading level0 col4\" >Bandwidth</th>\n",
       "      <th id=\"T_960d9_level0_col5\" class=\"col_heading level0 col5\" >Mode</th>\n",
       "      <th id=\"T_960d9_level0_col6\" class=\"col_heading level0 col6\" >VLAN</th>\n",
       "      <th id=\"T_960d9_level0_col7\" class=\"col_heading level0 col7\" >MAC</th>\n",
       "      <th id=\"T_960d9_level0_col8\" class=\"col_heading level0 col8\" >Physical Device</th>\n",
       "      <th id=\"T_960d9_level0_col9\" class=\"col_heading level0 col9\" >Device</th>\n",
       "      <th id=\"T_960d9_level0_col10\" class=\"col_heading level0 col10\" >IP Address</th>\n",
       "      <th id=\"T_960d9_level0_col11\" class=\"col_heading level0 col11\" >Numa Node</th>\n",
       "    </tr>\n",
       "  </thead>\n",
       "  <tbody>\n",
       "    <tr>\n",
       "      <td id=\"T_960d9_row0_col0\" class=\"data row0 col0\" >sender-net0-p1</td>\n",
       "      <td id=\"T_960d9_row0_col1\" class=\"data row0 col1\" >p1</td>\n",
       "      <td id=\"T_960d9_row0_col2\" class=\"data row0 col2\" >sender</td>\n",
       "      <td id=\"T_960d9_row0_col3\" class=\"data row0 col3\" >net0</td>\n",
       "      <td id=\"T_960d9_row0_col4\" class=\"data row0 col4\" >100</td>\n",
       "      <td id=\"T_960d9_row0_col5\" class=\"data row0 col5\" >config</td>\n",
       "      <td id=\"T_960d9_row0_col6\" class=\"data row0 col6\" ></td>\n",
       "      <td id=\"T_960d9_row0_col7\" class=\"data row0 col7\" >3E:5B:19:47:15:63</td>\n",
       "      <td id=\"T_960d9_row0_col8\" class=\"data row0 col8\" >enp7s0</td>\n",
       "      <td id=\"T_960d9_row0_col9\" class=\"data row0 col9\" >enp7s0</td>\n",
       "      <td id=\"T_960d9_row0_col10\" class=\"data row0 col10\" >None</td>\n",
       "      <td id=\"T_960d9_row0_col11\" class=\"data row0 col11\" >6</td>\n",
       "    </tr>\n",
       "    <tr>\n",
       "      <td id=\"T_960d9_row1_col0\" class=\"data row1 col0\" >receiver-net1-p1</td>\n",
       "      <td id=\"T_960d9_row1_col1\" class=\"data row1 col1\" >p1</td>\n",
       "      <td id=\"T_960d9_row1_col2\" class=\"data row1 col2\" >receiver</td>\n",
       "      <td id=\"T_960d9_row1_col3\" class=\"data row1 col3\" >net1</td>\n",
       "      <td id=\"T_960d9_row1_col4\" class=\"data row1 col4\" >100</td>\n",
       "      <td id=\"T_960d9_row1_col5\" class=\"data row1 col5\" >config</td>\n",
       "      <td id=\"T_960d9_row1_col6\" class=\"data row1 col6\" ></td>\n",
       "      <td id=\"T_960d9_row1_col7\" class=\"data row1 col7\" >3A:66:3D:AE:2B:BF</td>\n",
       "      <td id=\"T_960d9_row1_col8\" class=\"data row1 col8\" >enp7s0</td>\n",
       "      <td id=\"T_960d9_row1_col9\" class=\"data row1 col9\" >enp7s0</td>\n",
       "      <td id=\"T_960d9_row1_col10\" class=\"data row1 col10\" >None</td>\n",
       "      <td id=\"T_960d9_row1_col11\" class=\"data row1 col11\" >6</td>\n",
       "    </tr>\n",
       "    <tr>\n",
       "      <td id=\"T_960d9_row2_col0\" class=\"data row2 col0\" >router-net0-p1</td>\n",
       "      <td id=\"T_960d9_row2_col1\" class=\"data row2 col1\" >p1</td>\n",
       "      <td id=\"T_960d9_row2_col2\" class=\"data row2 col2\" >router</td>\n",
       "      <td id=\"T_960d9_row2_col3\" class=\"data row2 col3\" >net0</td>\n",
       "      <td id=\"T_960d9_row2_col4\" class=\"data row2 col4\" >100</td>\n",
       "      <td id=\"T_960d9_row2_col5\" class=\"data row2 col5\" >config</td>\n",
       "      <td id=\"T_960d9_row2_col6\" class=\"data row2 col6\" ></td>\n",
       "      <td id=\"T_960d9_row2_col7\" class=\"data row2 col7\" >4A:BB:14:67:C6:EF</td>\n",
       "      <td id=\"T_960d9_row2_col8\" class=\"data row2 col8\" >enp8s0</td>\n",
       "      <td id=\"T_960d9_row2_col9\" class=\"data row2 col9\" >enp8s0</td>\n",
       "      <td id=\"T_960d9_row2_col10\" class=\"data row2 col10\" >None</td>\n",
       "      <td id=\"T_960d9_row2_col11\" class=\"data row2 col11\" >6</td>\n",
       "    </tr>\n",
       "    <tr>\n",
       "      <td id=\"T_960d9_row3_col0\" class=\"data row3 col0\" >router-net1-p1</td>\n",
       "      <td id=\"T_960d9_row3_col1\" class=\"data row3 col1\" >p1</td>\n",
       "      <td id=\"T_960d9_row3_col2\" class=\"data row3 col2\" >router</td>\n",
       "      <td id=\"T_960d9_row3_col3\" class=\"data row3 col3\" >net1</td>\n",
       "      <td id=\"T_960d9_row3_col4\" class=\"data row3 col4\" >100</td>\n",
       "      <td id=\"T_960d9_row3_col5\" class=\"data row3 col5\" >config</td>\n",
       "      <td id=\"T_960d9_row3_col6\" class=\"data row3 col6\" ></td>\n",
       "      <td id=\"T_960d9_row3_col7\" class=\"data row3 col7\" >3E:8C:63:2C:CE:7E</td>\n",
       "      <td id=\"T_960d9_row3_col8\" class=\"data row3 col8\" >enp7s0</td>\n",
       "      <td id=\"T_960d9_row3_col9\" class=\"data row3 col9\" >enp7s0</td>\n",
       "      <td id=\"T_960d9_row3_col10\" class=\"data row3 col10\" >None</td>\n",
       "      <td id=\"T_960d9_row3_col11\" class=\"data row3 col11\" >6</td>\n",
       "    </tr>\n",
       "  </tbody>\n",
       "</table>\n"
      ],
      "text/plain": [
       "<pandas.io.formats.style.Styler at 0x7f9fe0190e20>"
      ]
     },
     "metadata": {},
     "output_type": "display_data"
    },
    {
     "name": "stdout",
     "output_type": "stream",
     "text": [
      "\n",
      "Time to print interfaces 319 seconds\n"
     ]
    },
    {
     "data": {
      "text/plain": [
       "'d31c01ca-2db3-4eb0-9e80-7a29d4f391c8'"
      ]
     },
     "execution_count": 9,
     "metadata": {},
     "output_type": "execute_result"
    }
   ],
   "source": [
    "slice.submit()"
   ]
  },
  {
   "cell_type": "code",
   "execution_count": 10,
   "id": "f61c635b-7bbd-46f5-97a4-3c8ef0d69ba0",
   "metadata": {},
   "outputs": [
    {
     "name": "stdout",
     "output_type": "stream",
     "text": [
      "Waiting for slice . Slice state: StableOK\n",
      "Waiting for ssh in slice . ssh successful\n"
     ]
    },
    {
     "data": {
      "text/plain": [
       "True"
      ]
     },
     "execution_count": 10,
     "metadata": {},
     "output_type": "execute_result"
    }
   ],
   "source": [
    "slice.get_state()\n",
    "slice.wait_ssh(progress=True)"
   ]
  },
  {
   "cell_type": "markdown",
   "id": "f1cca427-c64d-4feb-8860-229de727dee0",
   "metadata": {},
   "source": [
    "### Extend your slice\n",
    "\n",
    "If you don’t plan to finish an experiment in one day, you can extend your slice. The following cell extends your reservation for 7 days."
   ]
  },
  {
   "cell_type": "code",
   "execution_count": 6,
   "id": "6d51feef-886a-4543-9cb3-1669417be683",
   "metadata": {},
   "outputs": [],
   "source": [
    "from datetime import datetime\n",
    "from datetime import timezone\n",
    "from datetime import timedelta\n",
    "\n",
    "# Set end date to 7 days from now\n",
    "end_date = (datetime.now(timezone.utc) + timedelta(days=7)).strftime(\"%Y-%m-%d %H:%M:%S %z\")\n",
    "slice.renew(end_date)"
   ]
  },
  {
   "cell_type": "markdown",
   "id": "f1459cd3-3ca1-4f9b-807c-a3d51bd5f90e",
   "metadata": {},
   "source": [
    "### Configure resources\n",
    "\n",
    "Next, we will configure the resources so they are ready to use."
   ]
  },
  {
   "cell_type": "code",
   "execution_count": 12,
   "id": "3337778e-6aa2-44a5-a4d8-7cb071951092",
   "metadata": {},
   "outputs": [],
   "source": [
    "slice = fablib.get_slice(name=slice_name)"
   ]
  },
  {
   "cell_type": "code",
   "execution_count": 13,
   "id": "63e102a8-3471-4bb4-8a8f-5de7dde38785",
   "metadata": {},
   "outputs": [],
   "source": [
    "# install packages\n",
    "# this will take a while and will run in background while you do other steps\n",
    "for n in node_conf:\n",
    "    if len(n['packages']):\n",
    "        node = slice.get_node(n['name'])\n",
    "        pkg = \" \".join(n['packages'])\n",
    "        node.execute_thread(\"sudo apt update; sudo DEBIAN_FRONTEND=noninteractive apt -y install %s\" % pkg)"
   ]
  },
  {
   "cell_type": "code",
   "execution_count": 14,
   "id": "2ec7cc05-a03b-422e-a969-868ffef33268",
   "metadata": {},
   "outputs": [],
   "source": [
    "# bring interfaces up and either assign an address (if there is one) or flush address\n",
    "from ipaddress import ip_address, IPv4Address, IPv4Network\n",
    "\n",
    "for net in net_conf:\n",
    "    for n in net['nodes']:\n",
    "        if_name = n['name'] + '-' + net['name'] + '-p1'\n",
    "        iface = slice.get_interface(if_name)\n",
    "        iface.ip_link_up()\n",
    "        if n['addr']:\n",
    "            iface.ip_addr_add(addr=n['addr'], subnet=IPv4Network(net['subnet']))\n",
    "        else:\n",
    "            iface.get_node().execute(\"sudo ip addr flush dev %s\"  % iface.get_device_name())"
   ]
  },
  {
   "cell_type": "code",
   "execution_count": 15,
   "id": "fadfc33d-df2d-42e5-b759-ddd716751d9b",
   "metadata": {},
   "outputs": [],
   "source": [
    "# make sure all interfaces are brought up\n",
    "for iface in slice.get_interfaces():\n",
    "    iface.ip_link_up()"
   ]
  },
  {
   "cell_type": "code",
   "execution_count": 16,
   "id": "75daad8e-fbc3-4805-96f9-ffd9336f7758",
   "metadata": {},
   "outputs": [
    {
     "name": "stdout",
     "output_type": "stream",
     "text": [
      "10.0.0.100 sender\n",
      "10.0.0.1 router\n",
      "10.0.1.100 receiver\n",
      "10.0.1.1 router\n",
      "10.0.0.100 sender\n",
      "10.0.0.1 router\n",
      "10.0.1.100 receiver\n",
      "10.0.1.1 router\n",
      "10.0.0.100 sender\n",
      "10.0.0.1 router\n",
      "10.0.1.100 receiver\n",
      "10.0.1.1 router\n"
     ]
    }
   ],
   "source": [
    "# prepare a \"hosts\" file that has names and addresses of every node\n",
    "hosts_txt = [ \"%s\\t%s\" % ( n['addr'], n['name'] ) for net in net_conf  for n in net['nodes'] if type(n) is dict and n['addr']]\n",
    "for n in slice.get_nodes():\n",
    "    for h in hosts_txt:\n",
    "        n.execute(\"echo %s | sudo tee -a /etc/hosts\" % h)"
   ]
  },
  {
   "cell_type": "code",
   "execution_count": 17,
   "id": "8d9e84aa-7580-416d-bdaf-9b54535ae9e0",
   "metadata": {},
   "outputs": [
    {
     "name": "stdout",
     "output_type": "stream",
     "text": [
      "net.ipv4.ip_forward = 1\n",
      "net.ipv4.ip_forward = 1\n",
      "net.ipv4.ip_forward = 1\n"
     ]
    }
   ],
   "source": [
    "# enable IPv4 forwarding on all nodes\n",
    "for n in slice.get_nodes():\n",
    "    n.execute(\"sudo sysctl -w net.ipv4.ip_forward=1\")"
   ]
  },
  {
   "cell_type": "code",
   "execution_count": 18,
   "id": "cf1e6405-c126-4203-ad78-b8b0d108cbda",
   "metadata": {},
   "outputs": [],
   "source": [
    "# set up static routes\n",
    "for rt in route_conf:\n",
    "    for n in rt['nodes']:\n",
    "        slice.get_node(name=n).ip_route_add(subnet=IPv4Network(rt['addr']), gateway=rt['gw'])"
   ]
  },
  {
   "cell_type": "code",
   "execution_count": 19,
   "id": "091e3ef0-665c-48f6-a23a-caf94430ca23",
   "metadata": {},
   "outputs": [],
   "source": [
    "# turn off segmentation offload on interfaces\n",
    "for iface in slice.get_interfaces():\n",
    "    iface_name = iface.get_device_name()\n",
    "    n = iface.get_node()\n",
    "    offloads = [\"gro\", \"lro\", \"gso\", \"tso\"]\n",
    "    for offload in offloads:\n",
    "        n.execute(\"sudo ethtool -K %s %s off\" % (iface_name, offload))"
   ]
  },
  {
   "cell_type": "markdown",
   "id": "3f399d71-2cf7-4c66-8107-cfea41b626d2",
   "metadata": {},
   "source": [
    "### Validate base network\n",
    "\n",
    "Before we run any experiment, we should check the “base” network - before adding any emulated delay or rate limiting - and make sure that it will not be a limiting factor in the experiment."
   ]
  },
  {
   "cell_type": "code",
   "execution_count": 20,
   "id": "2bff55b4-370e-4a24-81b1-87994fc3115c",
   "metadata": {},
   "outputs": [
    {
     "name": "stdout",
     "output_type": "stream",
     "text": [
      "PING receiver (10.0.1.100) 56(84) bytes of data.\n",
      "64 bytes from receiver (10.0.1.100): icmp_seq=1 ttl=63 time=0.561 ms\n",
      "64 bytes from receiver (10.0.1.100): icmp_seq=2 ttl=63 time=0.103 ms\n",
      "64 bytes from receiver (10.0.1.100): icmp_seq=3 ttl=63 time=0.098 ms\n",
      "64 bytes from receiver (10.0.1.100): icmp_seq=4 ttl=63 time=0.114 ms\n",
      "64 bytes from receiver (10.0.1.100): icmp_seq=5 ttl=63 time=0.099 ms\n",
      "\n",
      "--- receiver ping statistics ---\n",
      "5 packets transmitted, 5 received, 0% packet loss, time 4088ms\n",
      "rtt min/avg/max/mdev = 0.098/0.195/0.561/0.183 ms\n"
     ]
    }
   ],
   "source": [
    "# check base delay\n",
    "_ = slice.get_node(\"sender\").execute(\"ping -c 5 receiver\")"
   ]
  },
  {
   "cell_type": "code",
   "execution_count": 21,
   "id": "27a7e1b2-193b-4f70-92de-5ead31dd15d1",
   "metadata": {},
   "outputs": [
    {
     "name": "stdout",
     "output_type": "stream",
     "text": [
      "Connecting to host receiver, port 5201\n",
      "[  5] local 10.0.0.100 port 48424 connected to 10.0.1.100 port 5201\n",
      "[  7] local 10.0.0.100 port 48426 connected to 10.0.1.100 port 5201\n",
      "[  9] local 10.0.0.100 port 48436 connected to 10.0.1.100 port 5201\n",
      "[ 11] local 10.0.0.100 port 48446 connected to 10.0.1.100 port 5201\n",
      "[ 13] local 10.0.0.100 port 48456 connected to 10.0.1.100 port 5201\n",
      "[ 15] local 10.0.0.100 port 48468 connected to 10.0.1.100 port 5201\n",
      "[ 17] local 10.0.0.100 port 48480 connected to 10.0.1.100 port 5201\n",
      "[ 19] local 10.0.0.100 port 48492 connected to 10.0.1.100 port 5201\n",
      "[ 21] local 10.0.0.100 port 48504 connected to 10.0.1.100 port 5201\n",
      "[ 23] local 10.0.0.100 port 48514 connected to 10.0.1.100 port 5201\n",
      "[ ID] Interval           Transfer     Bitrate         Retr  Cwnd\n",
      "[  5]   0.00-10.00  sec  1001 MBytes   840 Mbits/sec  247    168 KBytes       \n",
      "[  7]   0.00-10.00  sec   914 MBytes   767 Mbits/sec  374    167 KBytes       \n",
      "[  9]   0.00-10.00  sec  1.04 GBytes   897 Mbits/sec  234    247 KBytes       \n",
      "[ 11]   0.00-10.00  sec   973 MBytes   816 Mbits/sec  471    269 KBytes       \n",
      "[ 13]   0.00-10.00  sec  1.15 GBytes   991 Mbits/sec  301    379 KBytes       \n",
      "[ 15]   0.00-10.00  sec  1.28 GBytes  1.10 Gbits/sec  293    411 KBytes       \n",
      "[ 17]   0.00-10.00  sec  1.06 GBytes   911 Mbits/sec  261    225 KBytes       \n",
      "[ 19]   0.00-10.00  sec  1.44 GBytes  1.24 Gbits/sec  171    249 KBytes       \n",
      "[ 21]   0.00-10.00  sec  1.22 GBytes  1.05 Gbits/sec  177    378 KBytes       \n",
      "[ 23]   0.00-10.00  sec   972 MBytes   816 Mbits/sec  285    257 KBytes       \n",
      "[SUM]   0.00-10.00  sec  11.0 GBytes  9.42 Gbits/sec  2814             \n",
      "- - - - - - - - - - - - - - - - - - - - - - - - -\n",
      "[  5]  10.00-20.00  sec   896 MBytes   752 Mbits/sec  329    242 KBytes       \n",
      "[  7]  10.00-20.00  sec   925 MBytes   776 Mbits/sec  302    198 KBytes       \n",
      "[  9]  10.00-20.00  sec   974 MBytes   817 Mbits/sec  333    290 KBytes       \n",
      "[ 11]  10.00-20.00  sec   803 MBytes   673 Mbits/sec  469    189 KBytes       \n",
      "[ 13]  10.00-20.00  sec  1.15 GBytes   988 Mbits/sec  326    303 KBytes       \n",
      "[ 15]  10.00-20.00  sec  1.05 GBytes   905 Mbits/sec  325    277 KBytes       \n",
      "[ 17]  10.00-20.00  sec   912 MBytes   765 Mbits/sec  360    303 KBytes       \n",
      "[ 19]  10.00-20.00  sec  1.41 GBytes  1.21 Gbits/sec  202    366 KBytes       \n",
      "[ 21]  10.00-20.00  sec  1.71 GBytes  1.47 Gbits/sec  171    437 KBytes       \n",
      "[ 23]  10.00-20.00  sec   949 MBytes   796 Mbits/sec  499    215 KBytes       \n",
      "[SUM]  10.00-20.00  sec  10.7 GBytes  9.16 Gbits/sec  3316             \n",
      "- - - - - - - - - - - - - - - - - - - - - - - - -\n",
      "[  5]  20.00-30.00  sec   866 MBytes   726 Mbits/sec  318    293 KBytes       \n",
      "[  7]  20.00-30.00  sec   873 MBytes   732 Mbits/sec  397    315 KBytes       \n",
      "[  9]  20.00-30.00  sec   883 MBytes   741 Mbits/sec  336    233 KBytes       \n",
      "[ 11]  20.00-30.00  sec   857 MBytes   719 Mbits/sec  364    233 KBytes       \n",
      "[ 13]  20.00-30.00  sec  1.13 GBytes   967 Mbits/sec  286    259 KBytes       \n",
      "[ 15]  20.00-30.00  sec  1.13 GBytes   973 Mbits/sec  327    175 KBytes       \n",
      "[ 17]  20.00-30.00  sec   938 MBytes   787 Mbits/sec  311    214 KBytes       \n",
      "[ 19]  20.00-30.00  sec  1.33 GBytes  1.14 Gbits/sec  245    427 KBytes       \n",
      "[ 21]  20.00-30.00  sec  1.62 GBytes  1.39 Gbits/sec  237    590 KBytes       \n",
      "[ 23]  20.00-30.00  sec   916 MBytes   768 Mbits/sec  229    240 KBytes       \n",
      "[SUM]  20.00-30.00  sec  10.4 GBytes  8.95 Gbits/sec  3050             \n",
      "- - - - - - - - - - - - - - - - - - - - - - - - -\n",
      "[ ID] Interval           Transfer     Bitrate         Retr\n",
      "[  5]   0.00-30.00  sec  2.70 GBytes   773 Mbits/sec  894             sender\n",
      "[  5]   0.00-30.04  sec  2.70 GBytes   771 Mbits/sec                  receiver\n",
      "[  7]   0.00-30.00  sec  2.65 GBytes   758 Mbits/sec  1073             sender\n",
      "[  7]   0.00-30.04  sec  2.65 GBytes   757 Mbits/sec                  receiver\n",
      "[  9]   0.00-30.00  sec  2.86 GBytes   818 Mbits/sec  903             sender\n",
      "[  9]   0.00-30.04  sec  2.86 GBytes   816 Mbits/sec                  receiver\n",
      "[ 11]   0.00-30.00  sec  2.57 GBytes   736 Mbits/sec  1304             sender\n",
      "[ 11]   0.00-30.04  sec  2.57 GBytes   735 Mbits/sec                  receiver\n",
      "[ 13]   0.00-30.00  sec  3.43 GBytes   982 Mbits/sec  913             sender\n",
      "[ 13]   0.00-30.04  sec  3.43 GBytes   980 Mbits/sec                  receiver\n",
      "[ 15]   0.00-30.00  sec  3.47 GBytes   993 Mbits/sec  945             sender\n",
      "[ 15]   0.00-30.04  sec  3.46 GBytes   990 Mbits/sec                  receiver\n",
      "[ 17]   0.00-30.00  sec  2.87 GBytes   821 Mbits/sec  932             sender\n",
      "[ 17]   0.00-30.04  sec  2.86 GBytes   819 Mbits/sec                  receiver\n",
      "[ 19]   0.00-30.00  sec  4.18 GBytes  1.20 Gbits/sec  618             sender\n",
      "[ 19]   0.00-30.04  sec  4.18 GBytes  1.20 Gbits/sec                  receiver\n",
      "[ 21]   0.00-30.00  sec  4.55 GBytes  1.30 Gbits/sec  585             sender\n",
      "[ 21]   0.00-30.04  sec  4.55 GBytes  1.30 Gbits/sec                  receiver\n",
      "[ 23]   0.00-30.00  sec  2.77 GBytes   793 Mbits/sec  1013             sender\n",
      "[ 23]   0.00-30.04  sec  2.77 GBytes   792 Mbits/sec                  receiver\n",
      "[SUM]   0.00-30.00  sec  32.0 GBytes  9.17 Gbits/sec  9180             sender\n",
      "[SUM]   0.00-30.04  sec  32.0 GBytes  9.16 Gbits/sec                  receiver\n",
      "\n",
      "iperf Done.\n"
     ]
    }
   ],
   "source": [
    "# check base capacity (by sending 10 parallel flows, look at their sum throughput)\n",
    "import time\n",
    "_ = slice.get_node(\"receiver\").execute(\"iperf3 -s -1 -D\")\n",
    "time.sleep(5)\n",
    "_ = slice.get_node(\"sender\").execute(\"iperf3 -t 30 -i 10 -P 10 -c receiver\")"
   ]
  },
  {
   "cell_type": "code",
   "execution_count": 22,
   "id": "e1101fbe-8d3c-4963-9da0-ef0ba01b4ac8",
   "metadata": {},
   "outputs": [
    {
     "name": "stdout",
     "output_type": "stream",
     "text": [
      "Linux sender 5.15.0-91-generic #101-Ubuntu SMP Tue Nov 14 13:30:08 UTC 2023 x86_64 x86_64 x86_64 GNU/Linux\n"
     ]
    }
   ],
   "source": [
    "# also check Linux kernel version on sender\n",
    "_ = slice.get_node(\"sender\").execute(\"uname -a\")"
   ]
  },
  {
   "cell_type": "markdown",
   "id": "a6ab1ca7-4871-42fa-8f76-9a4f0341fb68",
   "metadata": {},
   "source": [
    "### Draw the network topology"
   ]
  },
  {
   "cell_type": "markdown",
   "id": "c5843fe6-762c-48eb-a5b3-df1c60be9510",
   "metadata": {},
   "source": [
    "The following cell will draw the network topology, for your reference. The interface name and addresses of each experiment interface will be shown on the drawing."
   ]
  },
  {
   "cell_type": "code",
   "execution_count": 23,
   "id": "a397f553-a2b0-40ea-955b-1141995a3a83",
   "metadata": {},
   "outputs": [],
   "source": [
    "l2_nets = [(n.get_name(), {'color': 'lavender'}) for n in slice.get_l2networks() ]\n",
    "l3_nets = [(n.get_name(), {'color': 'pink'}) for n in slice.get_l3networks() ]\n",
    "hosts   =   [(n.get_name(), {'color': 'lightblue'}) for n in slice.get_nodes()]\n",
    "nodes = l2_nets + l3_nets + hosts\n",
    "ifaces = [iface.toDict() for iface in slice.get_interfaces()]\n",
    "edges = [(iface['network'], iface['node'], \n",
    "          {'label': iface['physical_dev'] + '\\n' + iface['ip_addr'] + '\\n' + iface['mac']}) for iface in ifaces]"
   ]
  },
  {
   "cell_type": "code",
   "execution_count": 24,
   "id": "4d06cbf5-c583-4a28-af09-5f47ec38c059",
   "metadata": {},
   "outputs": [
    {
     "data": {
      "image/png": "[encoded data removed]",
      "text/plain": [
       "<Figure size 500x500 with 1 Axes>"
      ]
     },
     "metadata": {},
     "output_type": "display_data"
    }
   ],
   "source": [
    "import networkx as nx\n",
    "import matplotlib.pyplot as plt\n",
    "plt.figure(figsize=(len(nodes),len(nodes)))\n",
    "G = nx.Graph()\n",
    "G.add_nodes_from(nodes)\n",
    "G.add_edges_from(edges)\n",
    "pos = nx.spring_layout(G)\n",
    "nx.draw(G, pos, node_shape='s',  \n",
    "        node_color=[n[1]['color'] for n in nodes], \n",
    "        node_size=[len(n[0])*400 for n in nodes],  \n",
    "        with_labels=True);\n",
    "nx.draw_networkx_edge_labels(G,pos,\n",
    "                             edge_labels=nx.get_edge_attributes(G,'label'),\n",
    "                             font_color='gray',  font_size=8, rotate=False);"
   ]
  },
  {
   "cell_type": "markdown",
   "id": "82f93f29-296e-487d-84f3-9574769df1d1",
   "metadata": {},
   "source": [
    "### Log into resources"
   ]
  },
  {
   "cell_type": "markdown",
   "id": "3964cc59-b1b9-45e0-8f21-3a715ad9a0e6",
   "metadata": {},
   "source": [
    "Now, we are finally ready to log in to our resources over SSH! Run the following cells, and observe the table output - you will see an SSH command for each of the resources in your topology."
   ]
  },
  {
   "cell_type": "code",
   "execution_count": 25,
   "id": "838c7e28-ab43-405c-ab66-d9460139f0ae",
   "metadata": {},
   "outputs": [
    {
     "data": {
      "text/html": [
       "<div>\n",
       "<style scoped>\n",
       "    .dataframe tbody tr th:only-of-type {\n",
       "        vertical-align: middle;\n",
       "    }\n",
       "\n",
       "    .dataframe tbody tr th {\n",
       "        vertical-align: top;\n",
       "    }\n",
       "\n",
       "    .dataframe thead th {\n",
       "        text-align: right;\n",
       "    }\n",
       "</style>\n",
       "<table border=\"1\" class=\"dataframe\">\n",
       "  <thead>\n",
       "    <tr style=\"text-align: right;\">\n",
       "      <th></th>\n",
       "      <th>SSH command</th>\n",
       "    </tr>\n",
       "    <tr>\n",
       "      <th>Name</th>\n",
       "      <th></th>\n",
       "    </tr>\n",
       "  </thead>\n",
       "  <tbody>\n",
       "    <tr>\n",
       "      <th>sender</th>\n",
       "      <td>ssh -i /home/fabric/work/fabric_config/slice_key -F /home/fabric/work/fabric_config/ssh_config ubuntu@2001:400:a100:3000:f816:3eff:fedd:9bf</td>\n",
       "    </tr>\n",
       "    <tr>\n",
       "      <th>receiver</th>\n",
       "      <td>ssh -i /home/fabric/work/fabric_config/slice_key -F /home/fabric/work/fabric_config/ssh_config ubuntu@2001:400:a100:3000:f816:3eff:fe13:f42a</td>\n",
       "    </tr>\n",
       "    <tr>\n",
       "      <th>router</th>\n",
       "      <td>ssh -i /home/fabric/work/fabric_config/slice_key -F /home/fabric/work/fabric_config/ssh_config ubuntu@2001:400:a100:3000:f816:3eff:fe0d:4735</td>\n",
       "    </tr>\n",
       "  </tbody>\n",
       "</table>\n",
       "</div>"
      ],
      "text/plain": [
       "                                                                                                                                           SSH command\n",
       "Name                                                                                                                                                  \n",
       "sender     ssh -i /home/fabric/work/fabric_config/slice_key -F /home/fabric/work/fabric_config/ssh_config ubuntu@2001:400:a100:3000:f816:3eff:fedd:9bf\n",
       "receiver  ssh -i /home/fabric/work/fabric_config/slice_key -F /home/fabric/work/fabric_config/ssh_config ubuntu@2001:400:a100:3000:f816:3eff:fe13:f42a\n",
       "router    ssh -i /home/fabric/work/fabric_config/slice_key -F /home/fabric/work/fabric_config/ssh_config ubuntu@2001:400:a100:3000:f816:3eff:fe0d:4735"
      ]
     },
     "execution_count": 25,
     "metadata": {},
     "output_type": "execute_result"
    }
   ],
   "source": [
    "import pandas as pd\n",
    "pd.set_option('display.max_colwidth', None)\n",
    "slice_info = [{'Name': n.get_name(), 'SSH command': n.get_ssh_command()} for n in slice.get_nodes()]\n",
    "pd.DataFrame(slice_info).set_index('Name')"
   ]
  },
  {
   "cell_type": "markdown",
   "id": "cdce8e11-fcf1-449c-9b5f-68064c41b6d9",
   "metadata": {},
   "source": [
    "Now, you can open an SSH session on any of the resources as follows:\n",
    "\n",
    "-   in Jupyter, from the menu bar, use File \\> New \\> Terminal to open a new terminal.\n",
    "-   copy an SSH command from the table, and paste it into the terminal. (Note that each SSH command is a single line, even if the display wraps the text to a second line! When you copy and paste it, paste it all together.)\n",
    "\n",
    "You can repeat this process (open several terminals) to start a session on each resource. Each terminal session will have a tab in the Jupyter environment, so that you can easily switch between them."
   ]
  },
  {
   "cell_type": "markdown",
   "id": "c9a09eaf-5a63-42fd-a679-b90f99bc7c90",
   "metadata": {},
   "source": [
    "### Configure the network capacity and delay\n",
    "\n",
    "In this section, we configure the bottleneck link to have a 40Mbps capacity and 10ms delay. We will initialize the queue size to 32 BDP (although we will change this later)."
   ]
  },
  {
   "cell_type": "code",
   "execution_count": 47,
   "id": "5ce1b105-374a-4959-b7fd-d0b6e85fe3e6",
   "metadata": {},
   "outputs": [
    {
     "data": {
      "text/plain": [
       "('', '')"
      ]
     },
     "execution_count": 47,
     "metadata": {},
     "output_type": "execute_result"
    }
   ],
   "source": [
    "exp = {'rtt': 40, 'bandwidth': 10 }\n",
    "bdp_kbyte = exp['rtt']*exp['bandwidth']/8\n",
    "\n",
    "router_node = slice.get_node(\"router\")\n",
    "router_ingress_iface = router_node.get_interface(network_name = \"net0\")\n",
    "router_ingress_name = router_ingress_iface.get_device_name()\n",
    "router_egress_iface  = router_node.get_interface(network_name = \"net1\")\n",
    "router_egress_name = router_egress_iface.get_device_name()\n",
    "\n",
    "router_node.execute(\"sudo tc qdisc del dev \" + router_ingress_name + \" root\")\n",
    "router_node.execute(\"sudo tc qdisc del dev \" + router_egress_name + \" root\")\n",
    "\n",
    "# set up RTT\n",
    "router_node.execute(\"sudo tc qdisc replace dev \" + router_ingress_name + \" root netem delay \" + str(exp['rtt']) + \"ms limit 10000\")\n",
    "# set up rate limit, buffer limit\n",
    "router_node.execute(\"sudo tc qdisc replace dev \" + router_egress_name + \" root handle 1: htb default 3\")\n",
    "router_node.execute(\"sudo tc class add dev \" + router_egress_name + \" parent 1: classid 1:3 htb rate \" + str(exp['bandwidth']) + \"Mbit\")\n",
    "router_node.execute(\"sudo tc qdisc add dev \" + router_egress_name + \" parent 1:3 bfifo limit \" + str(bdp_kbyte*32) + \"kb\")\n"
   ]
  },
  {
   "cell_type": "markdown",
   "id": "fe9fabd5-1df0-4c95-8e82-0d5ef455c47f",
   "metadata": {},
   "source": [
    "Then, we validate the new network setting."
   ]
  },
  {
   "cell_type": "code",
   "execution_count": 48,
   "id": "cd9e49d3-78e5-4404-98ed-14dd31c653b4",
   "metadata": {},
   "outputs": [
    {
     "name": "stdout",
     "output_type": "stream",
     "text": [
      "PING receiver (10.0.1.100) 56(84) bytes of data.\n",
      "64 bytes from receiver (10.0.1.100): icmp_seq=1 ttl=63 time=40.4 ms\n",
      "64 bytes from receiver (10.0.1.100): icmp_seq=2 ttl=63 time=40.2 ms\n",
      "64 bytes from receiver (10.0.1.100): icmp_seq=3 ttl=63 time=40.1 ms\n",
      "64 bytes from receiver (10.0.1.100): icmp_seq=4 ttl=63 time=40.1 ms\n",
      "64 bytes from receiver (10.0.1.100): icmp_seq=5 ttl=63 time=40.1 ms\n",
      "\n",
      "--- receiver ping statistics ---\n",
      "5 packets transmitted, 5 received, 0% packet loss, time 4005ms\n",
      "rtt min/avg/max/mdev = 40.124/40.181/40.360/0.089 ms\n"
     ]
    }
   ],
   "source": [
    "# check base delay\n",
    "_ = slice.get_node(\"sender\").execute(\"ping -c 5 receiver\")"
   ]
  },
  {
   "cell_type": "code",
   "execution_count": 27,
   "id": "7c14723d-c4d4-48d0-8cd7-8f547283c9ea",
   "metadata": {},
   "outputs": [
    {
     "name": "stdout",
     "output_type": "stream",
     "text": [
      "Connecting to host receiver, port 5201\n",
      "[  5] local 10.0.0.100 port 51788 connected to 10.0.1.100 port 5201\n",
      "[  7] local 10.0.0.100 port 51796 connected to 10.0.1.100 port 5201\n",
      "[  9] local 10.0.0.100 port 51802 connected to 10.0.1.100 port 5201\n",
      "[ 11] local 10.0.0.100 port 51814 connected to 10.0.1.100 port 5201\n",
      "[ 13] local 10.0.0.100 port 51826 connected to 10.0.1.100 port 5201\n",
      "[ 15] local 10.0.0.100 port 51840 connected to 10.0.1.100 port 5201\n",
      "[ 17] local 10.0.0.100 port 51844 connected to 10.0.1.100 port 5201\n",
      "[ 19] local 10.0.0.100 port 51854 connected to 10.0.1.100 port 5201\n",
      "[ 21] local 10.0.0.100 port 51862 connected to 10.0.1.100 port 5201\n",
      "[ 23] local 10.0.0.100 port 51866 connected to 10.0.1.100 port 5201\n",
      "[ ID] Interval           Transfer     Bitrate         Retr  Cwnd\n",
      "[  5]   0.00-10.00  sec  2.08 MBytes  1.74 Mbits/sec   62    178 KBytes       \n",
      "[  7]   0.00-10.00  sec  2.01 MBytes  1.69 Mbits/sec   58    177 KBytes       \n",
      "[  9]   0.00-10.00  sec  2.27 MBytes  1.90 Mbits/sec   53    173 KBytes       \n",
      "[ 11]   0.00-10.00  sec  2.27 MBytes  1.90 Mbits/sec   60    170 KBytes       \n",
      "[ 13]   0.00-10.00  sec  1.90 MBytes  1.59 Mbits/sec   44    148 KBytes       \n",
      "[ 15]   0.00-10.00  sec  1.96 MBytes  1.64 Mbits/sec   53    154 KBytes       \n",
      "[ 17]   0.00-10.00  sec  1.90 MBytes  1.60 Mbits/sec   53    127 KBytes       \n",
      "[ 19]   0.00-10.00  sec  1.97 MBytes  1.65 Mbits/sec   48    134 KBytes       \n",
      "[ 21]   0.00-10.00  sec  2.00 MBytes  1.67 Mbits/sec   52    160 KBytes       \n",
      "[ 23]   0.00-10.00  sec  2.05 MBytes  1.72 Mbits/sec   56    161 KBytes       \n",
      "[SUM]   0.00-10.00  sec  20.4 MBytes  17.1 Mbits/sec  539             \n",
      "- - - - - - - - - - - - - - - - - - - - - - - - -\n",
      "[  5]  10.00-20.00  sec  1.49 MBytes  1.25 Mbits/sec    7    171 KBytes       \n",
      "[  7]  10.00-20.00  sec  1.55 MBytes  1.30 Mbits/sec    6    171 KBytes       \n",
      "[  9]  10.00-20.00  sec  1.49 MBytes  1.25 Mbits/sec    6    167 KBytes       \n",
      "[ 11]  10.00-20.00  sec  1018 KBytes   834 Kbits/sec    8    165 KBytes       \n",
      "[ 13]  10.00-20.00  sec  1.12 MBytes   938 Kbits/sec    6    143 KBytes       \n",
      "[ 15]  10.00-20.00  sec  1.30 MBytes  1.09 Mbits/sec    1    150 KBytes       \n",
      "[ 17]  10.00-20.00  sec  1.12 MBytes   938 Kbits/sec   27    143 KBytes       \n",
      "[ 19]  10.00-20.00  sec  1018 KBytes   834 Kbits/sec   23    144 KBytes       \n",
      "[ 21]  10.00-20.00  sec  1018 KBytes   834 Kbits/sec    3    140 KBytes       \n",
      "[ 23]  10.00-20.00  sec  1018 KBytes   834 Kbits/sec    2    151 KBytes       \n",
      "[SUM]  10.00-20.00  sec  12.1 MBytes  10.1 Mbits/sec   89             \n",
      "- - - - - - - - - - - - - - - - - - - - - - - - -\n",
      "[  5]  20.00-30.00  sec  1018 KBytes   834 Kbits/sec   12    122 KBytes       \n",
      "[  7]  20.00-30.00  sec  1018 KBytes   834 Kbits/sec   19    122 KBytes       \n",
      "[  9]  20.00-30.00  sec  1018 KBytes   834 Kbits/sec   19    119 KBytes       \n",
      "[ 11]  20.00-30.00  sec  1.49 MBytes  1.25 Mbits/sec   16    119 KBytes       \n",
      "[ 13]  20.00-30.00  sec   764 KBytes   626 Kbits/sec   17    109 KBytes       \n",
      "[ 15]  20.00-30.00  sec   954 KBytes   782 Kbits/sec   17    116 KBytes       \n",
      "[ 17]  20.00-30.00  sec   827 KBytes   678 Kbits/sec   11    109 KBytes       \n",
      "[ 19]  20.00-30.00  sec  1018 KBytes   834 Kbits/sec   35    130 KBytes       \n",
      "[ 21]  20.00-30.00  sec  1018 KBytes   834 Kbits/sec   16    115 KBytes       \n",
      "[ 23]  20.00-30.00  sec  1018 KBytes   834 Kbits/sec   32    129 KBytes       \n",
      "[SUM]  20.00-30.00  sec  9.94 MBytes  8.34 Mbits/sec  194             \n",
      "- - - - - - - - - - - - - - - - - - - - - - - - -\n",
      "[ ID] Interval           Transfer     Bitrate         Retr\n",
      "[  5]   0.00-30.00  sec  4.56 MBytes  1.28 Mbits/sec   81             sender\n",
      "[  5]   0.00-31.02  sec  3.80 MBytes  1.03 Mbits/sec                  receiver\n",
      "[  7]   0.00-30.00  sec  4.56 MBytes  1.27 Mbits/sec   83             sender\n",
      "[  7]   0.00-31.02  sec  3.79 MBytes  1.02 Mbits/sec                  receiver\n",
      "[  9]   0.00-30.00  sec  4.76 MBytes  1.33 Mbits/sec   78             sender\n",
      "[  9]   0.00-31.02  sec  3.71 MBytes  1.00 Mbits/sec                  receiver\n",
      "[ 11]   0.00-30.00  sec  4.76 MBytes  1.33 Mbits/sec   84             sender\n",
      "[ 11]   0.00-31.02  sec  3.66 MBytes   990 Kbits/sec                  receiver\n",
      "[ 13]   0.00-30.00  sec  3.76 MBytes  1.05 Mbits/sec   67             sender\n",
      "[ 13]   0.00-31.02  sec  3.33 MBytes   901 Kbits/sec                  receiver\n",
      "[ 15]   0.00-30.00  sec  4.20 MBytes  1.17 Mbits/sec   71             sender\n",
      "[ 15]   0.00-31.02  sec  3.47 MBytes   939 Kbits/sec                  receiver\n",
      "[ 17]   0.00-30.00  sec  3.83 MBytes  1.07 Mbits/sec   91             sender\n",
      "[ 17]   0.00-31.02  sec  3.29 MBytes   890 Kbits/sec                  receiver\n",
      "[ 19]   0.00-30.00  sec  3.95 MBytes  1.11 Mbits/sec  106             sender\n",
      "[ 19]   0.00-31.02  sec  3.42 MBytes   925 Kbits/sec                  receiver\n",
      "[ 21]   0.00-30.00  sec  3.98 MBytes  1.11 Mbits/sec   71             sender\n",
      "[ 21]   0.00-31.02  sec  3.33 MBytes   900 Kbits/sec                  receiver\n",
      "[ 23]   0.00-30.00  sec  4.04 MBytes  1.13 Mbits/sec   90             sender\n",
      "[ 23]   0.00-31.02  sec  3.49 MBytes   943 Kbits/sec                  receiver\n",
      "[SUM]   0.00-30.00  sec  42.4 MBytes  11.9 Mbits/sec  822             sender\n",
      "[SUM]   0.00-31.02  sec  35.3 MBytes  9.54 Mbits/sec                  receiver\n",
      "\n",
      "iperf Done.\n"
     ]
    }
   ],
   "source": [
    "# check base capacity (by sending 10 parallel flows, look at their sum throughput)\n",
    "import time\n",
    "_ = slice.get_node(\"receiver\").execute(\"iperf3 -s -1 -D\")\n",
    "time.sleep(5)\n",
    "_ = slice.get_node(\"sender\").execute(\"iperf3 -t 30 -i 10 -P 10 -c receiver\")"
   ]
  },
  {
   "cell_type": "markdown",
   "id": "4234ab2f-d25b-4314-8e9c-ec502be5ca0d",
   "metadata": {},
   "source": [
    "### Reproduce Figure 1b"
   ]
  },
  {
   "cell_type": "code",
   "execution_count": 6,
   "id": "0fefc62c-bd25-4fe3-a8c9-865fdafb06f8",
   "metadata": {},
   "outputs": [],
   "source": [
    "router_node = slice.get_node(\"router\")\n",
    "sender_node = slice.get_node(\"sender\")\n",
    "receiver_node = slice.get_node(\"receiver\")"
   ]
  },
  {
   "cell_type": "code",
   "execution_count": 7,
   "id": "0af37deb-a095-4268-916e-31902f096fd7",
   "metadata": {},
   "outputs": [],
   "source": [
    "import itertools\n",
    "exp_factors = { \n",
    "    'bufcap': [0.25, 0.5] + [2**n for n in range(8)],\n",
    "    #'bufcap': [0.25],\n",
    "    'duration': [240],\n",
    "    'loss_cc': ['cubic', 'reno'],\n",
    "    #'loss_cc': ['cubic'],\n",
    "    'trial': [1]\n",
    "}\n",
    "factor_names = [k for k in exp_factors]\n",
    "factor_lists = list(itertools.product(*exp_factors.values()))\n",
    "exp_lists = [dict(zip(factor_names, factor_l)) for factor_l in factor_lists]"
   ]
  },
  {
   "cell_type": "code",
   "execution_count": 8,
   "id": "968ea33e-6bec-4451-9bd4-487ae14ea706",
   "metadata": {},
   "outputs": [
    {
     "data": {
      "text/plain": [
       "[{'bufcap': 0.25, 'duration': 240, 'loss_cc': 'cubic', 'trial': 1},\n",
       " {'bufcap': 0.25, 'duration': 240, 'loss_cc': 'reno', 'trial': 1},\n",
       " {'bufcap': 0.5, 'duration': 240, 'loss_cc': 'cubic', 'trial': 1},\n",
       " {'bufcap': 0.5, 'duration': 240, 'loss_cc': 'reno', 'trial': 1},\n",
       " {'bufcap': 1, 'duration': 240, 'loss_cc': 'cubic', 'trial': 1},\n",
       " {'bufcap': 1, 'duration': 240, 'loss_cc': 'reno', 'trial': 1},\n",
       " {'bufcap': 2, 'duration': 240, 'loss_cc': 'cubic', 'trial': 1},\n",
       " {'bufcap': 2, 'duration': 240, 'loss_cc': 'reno', 'trial': 1},\n",
       " {'bufcap': 4, 'duration': 240, 'loss_cc': 'cubic', 'trial': 1},\n",
       " {'bufcap': 4, 'duration': 240, 'loss_cc': 'reno', 'trial': 1},\n",
       " {'bufcap': 8, 'duration': 240, 'loss_cc': 'cubic', 'trial': 1},\n",
       " {'bufcap': 8, 'duration': 240, 'loss_cc': 'reno', 'trial': 1},\n",
       " {'bufcap': 16, 'duration': 240, 'loss_cc': 'cubic', 'trial': 1},\n",
       " {'bufcap': 16, 'duration': 240, 'loss_cc': 'reno', 'trial': 1},\n",
       " {'bufcap': 32, 'duration': 240, 'loss_cc': 'cubic', 'trial': 1},\n",
       " {'bufcap': 32, 'duration': 240, 'loss_cc': 'reno', 'trial': 1},\n",
       " {'bufcap': 64, 'duration': 240, 'loss_cc': 'cubic', 'trial': 1},\n",
       " {'bufcap': 64, 'duration': 240, 'loss_cc': 'reno', 'trial': 1},\n",
       " {'bufcap': 128, 'duration': 240, 'loss_cc': 'cubic', 'trial': 1},\n",
       " {'bufcap': 128, 'duration': 240, 'loss_cc': 'reno', 'trial': 1}]"
      ]
     },
     "execution_count": 8,
     "metadata": {},
     "output_type": "execute_result"
    }
   ],
   "source": [
    "exp_lists"
   ]
  },
  {
   "cell_type": "code",
   "execution_count": 67,
   "id": "69609c82-554c-443c-b414-9068d01be83c",
   "metadata": {},
   "outputs": [
    {
     "name": "stdout",
     "output_type": "stream",
     "text": [
      "Running: {'bufcap': 0.25, 'duration': 240, 'loss_cc': 'cubic', 'trial': 1}\n",
      "\u001b[31m iperf3: no process found\n",
      " \u001b[0m\u001b[31m iperf3: no process found\n",
      " \u001b[0mRunning: {'bufcap': 0.25, 'duration': 240, 'loss_cc': 'reno', 'trial': 1}\n",
      "\u001b[31m iperf3: no process found\n",
      " \u001b[0m\u001b[31m iperf3: no process found\n",
      " \u001b[0mRunning: {'bufcap': 0.5, 'duration': 240, 'loss_cc': 'cubic', 'trial': 1}\n",
      "\u001b[31m iperf3: no process found\n",
      " \u001b[0m\u001b[31m iperf3: no process found\n",
      " \u001b[0mRunning: {'bufcap': 0.5, 'duration': 240, 'loss_cc': 'reno', 'trial': 1}\n",
      "\u001b[31m iperf3: no process found\n",
      " \u001b[0m\u001b[31m iperf3: no process found\n",
      " \u001b[0mRunning: {'bufcap': 1, 'duration': 240, 'loss_cc': 'cubic', 'trial': 1}\n",
      "\u001b[31m iperf3: no process found\n",
      " \u001b[0m\u001b[31m iperf3: no process found\n",
      " \u001b[0mRunning: {'bufcap': 1, 'duration': 240, 'loss_cc': 'reno', 'trial': 1}\n",
      "\u001b[31m iperf3: no process found\n",
      " \u001b[0m\u001b[31m iperf3: no process found\n",
      " \u001b[0mRunning: {'bufcap': 2, 'duration': 240, 'loss_cc': 'cubic', 'trial': 1}\n",
      "\u001b[31m iperf3: no process found\n",
      " \u001b[0m\u001b[31m iperf3: no process found\n",
      " \u001b[0mRunning: {'bufcap': 2, 'duration': 240, 'loss_cc': 'reno', 'trial': 1}\n",
      "\u001b[31m iperf3: no process found\n",
      " \u001b[0m\u001b[31m iperf3: no process found\n",
      " \u001b[0mRunning: {'bufcap': 4, 'duration': 240, 'loss_cc': 'cubic', 'trial': 1}\n",
      "\u001b[31m iperf3: no process found\n",
      " \u001b[0m\u001b[31m iperf3: no process found\n",
      " \u001b[0mRunning: {'bufcap': 4, 'duration': 240, 'loss_cc': 'reno', 'trial': 1}\n",
      "\u001b[31m iperf3: no process found\n",
      " \u001b[0m\u001b[31m iperf3: no process found\n",
      " \u001b[0mRunning: {'bufcap': 8, 'duration': 240, 'loss_cc': 'cubic', 'trial': 1}\n",
      "\u001b[31m iperf3: no process found\n",
      " \u001b[0m\u001b[31m iperf3: no process found\n",
      " \u001b[0mRunning: {'bufcap': 8, 'duration': 240, 'loss_cc': 'reno', 'trial': 1}\n",
      "\u001b[31m iperf3: no process found\n",
      " \u001b[0m\u001b[31m iperf3: no process found\n",
      " \u001b[0mRunning: {'bufcap': 16, 'duration': 240, 'loss_cc': 'cubic', 'trial': 1}\n",
      "\u001b[31m iperf3: no process found\n",
      " \u001b[0m\u001b[31m iperf3: no process found\n",
      " \u001b[0mRunning: {'bufcap': 16, 'duration': 240, 'loss_cc': 'reno', 'trial': 1}\n",
      "\u001b[31m iperf3: no process found\n",
      " \u001b[0m\u001b[31m iperf3: no process found\n",
      " \u001b[0mRunning: {'bufcap': 32, 'duration': 240, 'loss_cc': 'cubic', 'trial': 1}\n",
      "\u001b[31m iperf3: no process found\n",
      " \u001b[0m\u001b[31m iperf3: no process found\n",
      " \u001b[0mRunning: {'bufcap': 32, 'duration': 240, 'loss_cc': 'reno', 'trial': 1}\n",
      "\u001b[31m iperf3: no process found\n",
      " \u001b[0m\u001b[31m iperf3: no process found\n",
      " \u001b[0mRunning: {'bufcap': 64, 'duration': 240, 'loss_cc': 'cubic', 'trial': 1}\n",
      "\u001b[31m iperf3: no process found\n",
      " \u001b[0m\u001b[31m iperf3: no process found\n",
      " \u001b[0mRunning: {'bufcap': 64, 'duration': 240, 'loss_cc': 'reno', 'trial': 1}\n",
      "\u001b[31m iperf3: no process found\n",
      " \u001b[0m\u001b[31m iperf3: no process found\n",
      " \u001b[0mRunning: {'bufcap': 128, 'duration': 240, 'loss_cc': 'cubic', 'trial': 1}\n",
      "\u001b[31m iperf3: no process found\n",
      " \u001b[0m\u001b[31m iperf3: no process found\n",
      " \u001b[0mRunning: {'bufcap': 128, 'duration': 240, 'loss_cc': 'reno', 'trial': 1}\n",
      "\u001b[31m iperf3: no process found\n",
      " \u001b[0m\u001b[31m iperf3: no process found\n",
      " \u001b[0mdone\n"
     ]
    }
   ],
   "source": [
    "import time\n",
    "\n",
    "# make sure BBR is available\n",
    "sender_node.execute(\"sudo modprobe tcp_bbr\")\n",
    "receiver_node.execute(\"sudo modprobe tcp_bbr\")\n",
    "\n",
    "for exp in exp_lists:\n",
    "    print(\"Running:\",exp)\n",
    "    sender_node.execute(\"sudo modprobe tcp_bbr\")\n",
    "    # set router buffer limit \n",
    "    router_node.execute(\"sudo tc qdisc replace dev \" + router_egress_name + \" parent 1:3 bfifo limit \" + str(bdp_kbyte*exp['bufcap']) + \"kb\")\n",
    "\n",
    "    # clean up\n",
    "    receiver_node.execute(\"sudo killall iperf3\")\n",
    "    sender_node.execute(\"sudo killall iperf3\")\n",
    "    \n",
    "    time.sleep(5) \n",
    "    \n",
    "    # start an iperf3 receiver for the BBR flow\n",
    "    receiver_node.execute_thread(\"iperf3 -s -1 -i 1 -fm --logfile fig1b_bbr_\" + str(exp['bufcap']) + \"_bbrV\" + exp['loss_cc'] + \".txt\")\n",
    "    #receiver_node.execute(\"iperf3 -s -D -1 -i 1 -fm --logfile fig1b_bbr_\" + str(exp['bufcap']) + \"_bbrV\" + exp['loss_cc'] + \".txt\")\n",
    "    # start an iperf3 receiver for the loss based CC flows (Cubic & Reno)\n",
    "    receiver_node.execute_thread(\"iperf3 -s -1 -i 1 -fm --logfile fig1b_\" + exp['loss_cc'] + \"_\" + str(exp['bufcap']) + \"_bbrV\" + exp['loss_cc'] + \".txt -p 5301\")\n",
    "    #receiver_node.execute(\"iperf3 -s -D -1 -i 1 -fm --logfile fig1b_\" + exp['loss_cc'] + \"_\" + str(exp['bufcap']) + \"_bbrV\" + exp['loss_cc'] + \".txt -p 5301\")\n",
    "\n",
    "    time.sleep(10) \n",
    "\n",
    "    # start an iperf3 sender for the BBR flow\n",
    "    sender_node.execute_thread(\"iperf3 -c receiver -fm -t \" + str(exp['duration']) + \" -C bbr \")\n",
    "    # start an iperf3 sender for the loss based CC flows (Cubic & Reno)\n",
    "    sender_node.execute_thread(\"iperf3 -c receiver -fm -t \" + str(exp['duration']) + \" -C \" + exp['loss_cc'] + \" -p 5301\")\n",
    "\n",
    "    time.sleep(exp['duration'] + 10)\n",
    "    \n",
    "print(\"done\")"
   ]
  },
  {
   "cell_type": "code",
   "execution_count": 12,
   "id": "3cc7bdca-35dd-427b-b292-44df7682e64a",
   "metadata": {},
   "outputs": [
    {
     "name": "stderr",
     "output_type": "stream",
     "text": [
      "/tmp/ipykernel_153/110088611.py:7: FutureWarning: The behavior of DataFrame concatenation with empty or all-NA entries is deprecated. In a future version, this will no longer exclude empty or all-NA columns when determining the result dtypes. To retain the old behavior, exclude the relevant entries before the concat operation.\n",
      "  df = pd.concat([df, pd.DataFrame(df_dict, index=[0])], ignore_index=True)\n"
     ]
    }
   ],
   "source": [
    "df = pd.DataFrame(columns=['bufcap', 'combo', 'cc', 'goodput'])\n",
    "for exp in exp_lists:\n",
    "\n",
    "    bbr_file = \"fig1b_bbr_\" + str(exp['bufcap']) + \"_bbrV\" + exp['loss_cc'] + \".txt\"\n",
    "    tput_bbr = receiver_node.execute(\"cat /home/ubuntu/figure1b/\" + bbr_file + \" | grep 'receiver' | awk -F '-' '{print $2}' | awk '{print $5}'\", quiet=True)\n",
    "    df_dict = {'bufcap': exp['bufcap'], 'combo': \"BBR-\" + exp['loss_cc'], 'cc': 'BBR', 'goodput': float(tput_bbr[0].strip())}\n",
    "    df = pd.concat([df, pd.DataFrame(df_dict, index=[0])], ignore_index=True)\n",
    "\n",
    "    loss_file = \"fig1b_\" + exp['loss_cc'] + \"_\" + str(exp['bufcap']) + \"_bbrV\" + exp['loss_cc'] + \".txt\"\n",
    "    tput_loss = receiver_node.execute(\"cat /home/ubuntu/figure1b/\" + loss_file + \" | grep 'receiver' | awk -F '-' '{print $2}' | awk '{print $5}'\", quiet=True)\n",
    "    df_dict = {'bufcap': exp['bufcap'], 'combo': \"BBR-\" + exp['loss_cc'], 'cc': exp['loss_cc'], 'goodput': float(tput_loss[0].strip())}\n",
    "    df = pd.concat([df, pd.DataFrame(df_dict, index=[0])], ignore_index=True)"
   ]
  },
  {
   "cell_type": "code",
   "execution_count": 13,
   "id": "2fce3b9d-295a-4a36-8be9-d656e3fdd7ad",
   "metadata": {},
   "outputs": [
    {
     "name": "stderr",
     "output_type": "stream",
     "text": [
      "/opt/conda/lib/python3.10/site-packages/seaborn/axisgrid.py:854: UserWarning: \n",
      "The markers list has fewer values (1) than needed (3) and will cycle, which may produce an uninterpretable plot.\n",
      "  func(*plot_args, **plot_kwargs)\n",
      "/opt/conda/lib/python3.10/site-packages/seaborn/axisgrid.py:854: UserWarning: \n",
      "The markers list has fewer values (1) than needed (3) and will cycle, which may produce an uninterpretable plot.\n",
      "  func(*plot_args, **plot_kwargs)\n"
     ]
    },
    {
     "data": {
      "image/png": "[encoded data removed]",
      "text/plain": [
       "<Figure size 600x600 with 2 Axes>"
      ]
     },
     "metadata": {},
     "output_type": "display_data"
    }
   ],
   "source": [
    "df['buf_str'] = df['bufcap'].astype(str)\n",
    "g = sns.FacetGrid(df, row=\"combo\", legend_out=True, aspect=2);\n",
    "g = g.map(sns.lineplot, \"buf_str\", \"goodput\",  hue=df.cc, style=df.cc, markers=\"o\", markersize=6);\n",
    "g.set_axis_labels(\"Buffer size (BDP)\", \"Goodput (Mbps)\");\n",
    "g.set(ylim=(0, 10))\n",
    "g.axes.flat[0].grid(True)\n",
    "g.axes.flat[1].grid(True)\n",
    "plt.legend();"
   ]
  },
  {
   "cell_type": "markdown",
   "id": "0c1f6f21-ed69-43e5-833a-90cbaec25d70",
   "metadata": {},
   "source": [
    "### Reproduce Figure 1c"
   ]
  },
  {
   "cell_type": "code",
   "execution_count": 108,
   "id": "3fdd922c-f1ea-4aeb-935e-25325cf3eada",
   "metadata": {},
   "outputs": [],
   "source": [
    "router_node = slice.get_node(\"router\")\n",
    "sender_node = slice.get_node(\"sender\")\n",
    "receiver_node = slice.get_node(\"receiver\")"
   ]
  },
  {
   "cell_type": "code",
   "execution_count": 109,
   "id": "0591f081-58af-4317-a8a7-99baf8ad76d0",
   "metadata": {},
   "outputs": [
    {
     "name": "stdout",
     "output_type": "stream",
     "text": [
      "\u001b[31m iperf3: no process found\n",
      " \u001b[0m\u001b[31m rm: cannot remove 'fig1c_bbr.txt': No such file or directory\n",
      " \u001b[0m\u001b[31m rm: cannot remove 'fig1c_cubic.txt': No such file or directory\n",
      " \u001b[0m"
     ]
    }
   ],
   "source": [
    "# set router buffer limit to 32 BDP\n",
    "router_node.execute(\"sudo tc qdisc replace dev \" + router_egress_name + \" parent 1:3 bfifo limit \" + str(bdp_kbyte*32) + \"kb\")\n",
    "\n",
    "# make sure BBR is available\n",
    "sender_node.execute(\"sudo modprobe tcp_bbr\")\n",
    "\n",
    "# clean up\n",
    "receiver_node.execute(\"sudo killall iperf3\")\n",
    "receiver_node.execute(\"rm fig1c_bbr.txt\")\n",
    "receiver_node.execute(\"rm fig1c_cubic.txt\")\n",
    "\n",
    "# start an iperf3 receiver for the BBR flow\n",
    "receiver_node.execute_thread(\"iperf3 -s -1 -i 1 -fm --logfile fig1c_bbr.txt\")\n",
    "# start an iperf3 receiver for the Cubic flows\n",
    "receiver_node.execute_thread(\"iperf3 -s -1 -i 1 -fm --logfile fig1c_cubic.txt -p 5301\")\n",
    "\n",
    "time.sleep(5) \n",
    "\n",
    "# start an iperf3 sender for the BBR flow\n",
    "sender_node.execute_thread(\"iperf3 -c receiver -fm -t 300 -C bbr \")\n",
    "# start an iperf3 receiver for the Cubic flows\n",
    "sender_node.execute_thread(\"iperf3 -c receiver -fm -t 300 -C cubic -P 16 -p 5301\")\n",
    "\n",
    "time.sleep(305)"
   ]
  },
  {
   "cell_type": "code",
   "execution_count": 16,
   "id": "6ea731c3-41a9-4516-b5b9-8e17d457cfa0",
   "metadata": {},
   "outputs": [
    {
     "data": {
      "image/png": "[encoded data removed]",
      "text/plain": [
       "<Figure size 1200x600 with 1 Axes>"
      ]
     },
     "metadata": {},
     "output_type": "display_data"
    }
   ],
   "source": [
    "tput_bbr = receiver_node.execute(\"head --lines=-5 /home/ubuntu/figure1c/fig1c_bbr.txt | grep 'Mbits/sec' | awk -F '-' '{print $2}' | awk '{print $1\\\",\\\"$5}'\", quiet=True)\n",
    "df_bbr = pd.read_csv(StringIO(tput_bbr[0]), names = ['time','goodput'])\n",
    "\n",
    "tput_cubic = receiver_node.execute(\"head --lines=-37 /home/ubuntu/figure1c/fig1c_cubic.txt | grep 'SUM' | awk -F '-' '{print $2}' | awk '{print $1\\\",\\\"$5}'\", quiet=True)\n",
    "df_cubic = pd.read_csv(StringIO(tput_cubic[0]), names = ['time','goodput'])\n",
    "\n",
    "_ = plt.figure(figsize=(12,6))\n",
    "_ = plt.plot(df_bbr.time, df_bbr.goodput, label=\"1 BBR flow\")\n",
    "_ = plt.plot(df_cubic.time, df_cubic.goodput, label=\"Sum of 16 CUBIC flows\")\n",
    "_ = plt.legend(loc=\"upper center\", ncol=2)\n",
    "_ = plt.ylabel(\"Goodput (Mbps)\")\n",
    "_ = plt.xlabel(\"Time (s)\")"
   ]
  },
  {
   "cell_type": "markdown",
   "id": "2a627ac7-d58e-4f18-812e-f9eb02c72247",
   "metadata": {},
   "source": [
    "### Reproduce Figure 2a"
   ]
  },
  {
   "cell_type": "code",
   "execution_count": 55,
   "id": "8f4933fb-3925-4580-bc52-0c10339b0737",
   "metadata": {},
   "outputs": [],
   "source": [
    "router_node = slice.get_node(\"router\")\n",
    "sender_node = slice.get_node(\"sender\")\n",
    "receiver_node = slice.get_node(\"receiver\")"
   ]
  },
  {
   "cell_type": "code",
   "execution_count": 56,
   "id": "9ecbaa8d-d36b-47c0-bf28-28f038c7e918",
   "metadata": {},
   "outputs": [],
   "source": [
    "import itertools\n",
    "exp_factors = { \n",
    "    'bufcap': [2**n for n in range(7)],\n",
    "    'duration': [660],\n",
    "    'loss_cc': ['cubic'],\n",
    "    'trial': [1]\n",
    "}\n",
    "factor_names = [k for k in exp_factors]\n",
    "factor_lists = list(itertools.product(*exp_factors.values()))\n",
    "exp_lists = [dict(zip(factor_names, factor_l)) for factor_l in factor_lists]"
   ]
  },
  {
   "cell_type": "code",
   "execution_count": 57,
   "id": "05bb8aa2-352a-44a7-b1af-858a13bd69bc",
   "metadata": {},
   "outputs": [
    {
     "data": {
      "text/plain": [
       "[{'bufcap': 1, 'duration': 660, 'loss_cc': 'cubic', 'trial': 1},\n",
       " {'bufcap': 2, 'duration': 660, 'loss_cc': 'cubic', 'trial': 1},\n",
       " {'bufcap': 4, 'duration': 660, 'loss_cc': 'cubic', 'trial': 1},\n",
       " {'bufcap': 8, 'duration': 660, 'loss_cc': 'cubic', 'trial': 1},\n",
       " {'bufcap': 16, 'duration': 660, 'loss_cc': 'cubic', 'trial': 1},\n",
       " {'bufcap': 32, 'duration': 660, 'loss_cc': 'cubic', 'trial': 1},\n",
       " {'bufcap': 64, 'duration': 660, 'loss_cc': 'cubic', 'trial': 1}]"
      ]
     },
     "execution_count": 57,
     "metadata": {},
     "output_type": "execute_result"
    }
   ],
   "source": [
    "exp_lists"
   ]
  },
  {
   "cell_type": "code",
   "execution_count": 58,
   "id": "8acd1c96-95f9-44be-9395-3f5223666412",
   "metadata": {},
   "outputs": [
    {
     "name": "stdout",
     "output_type": "stream",
     "text": [
      "Running: {'bufcap': 1, 'duration': 660, 'loss_cc': 'cubic', 'trial': 1}\n",
      "\u001b[31m iperf3: no process found\n",
      " \u001b[0m\u001b[31m iperf3: no process found\n",
      " \u001b[0mRunning: {'bufcap': 2, 'duration': 660, 'loss_cc': 'cubic', 'trial': 1}\n",
      "\u001b[31m iperf3: no process found\n",
      " \u001b[0m\u001b[31m iperf3: no process found\n",
      " \u001b[0mRunning: {'bufcap': 4, 'duration': 660, 'loss_cc': 'cubic', 'trial': 1}\n",
      "\u001b[31m iperf3: no process found\n",
      " \u001b[0m\u001b[31m iperf3: no process found\n",
      " \u001b[0mRunning: {'bufcap': 8, 'duration': 660, 'loss_cc': 'cubic', 'trial': 1}\n",
      "\u001b[31m iperf3: no process found\n",
      " \u001b[0m\u001b[31m iperf3: no process found\n",
      " \u001b[0mRunning: {'bufcap': 16, 'duration': 660, 'loss_cc': 'cubic', 'trial': 1}\n",
      "\u001b[31m iperf3: no process found\n",
      " \u001b[0m\u001b[31m iperf3: no process found\n",
      " \u001b[0mRunning: {'bufcap': 32, 'duration': 660, 'loss_cc': 'cubic', 'trial': 1}\n",
      "\u001b[31m iperf3: no process found\n",
      " \u001b[0m\u001b[31m iperf3: no process found\n",
      " \u001b[0mRunning: {'bufcap': 64, 'duration': 660, 'loss_cc': 'cubic', 'trial': 1}\n",
      "\u001b[31m iperf3: no process found\n",
      " \u001b[0m\u001b[31m iperf3: no process found\n",
      " \u001b[0mdone\n"
     ]
    }
   ],
   "source": [
    "import time\n",
    "\n",
    "# make sure BBR is available\n",
    "sender_node.execute(\"sudo modprobe tcp_bbr\")\n",
    "receiver_node.execute(\"sudo modprobe tcp_bbr\")\n",
    "\n",
    "for exp in exp_lists:\n",
    "    print(\"Running:\",exp)\n",
    "    sender_node.execute(\"sudo modprobe tcp_bbr\")\n",
    "    # set router buffer limit \n",
    "    router_node.execute(\"sudo tc qdisc replace dev \" + router_egress_name + \" parent 1:3 bfifo limit \" + str(bdp_kbyte*exp['bufcap']) + \"kb\")\n",
    "\n",
    "    # clean up\n",
    "    receiver_node.execute(\"sudo killall iperf3\")\n",
    "    sender_node.execute(\"sudo killall iperf3\")\n",
    "    \n",
    "    time.sleep(5) \n",
    "    \n",
    "    # start an iperf3 receiver for the BBR flow\n",
    "    receiver_node.execute_thread(\"iperf3 -s -1 -i 1 -fm --logfile fig2a_bbr_\" + str(exp['bufcap']) + \"_bbrV\" + exp['loss_cc'] + \".txt\")\n",
    "    # start an iperf3 receiver for the loss based CC flows (Cubic & Reno)\n",
    "    receiver_node.execute_thread(\"iperf3 -s -1 -i 1 -fm --logfile fig2a_\" + exp['loss_cc'] + \"_\" + str(exp['bufcap']) + \"_bbrV\" + exp['loss_cc'] + \".txt -p 5301\")\n",
    "\n",
    "    time.sleep(10) \n",
    "\n",
    "    # start an iperf3 sender for the BBR flow\n",
    "    sender_node.execute_thread(\"iperf3 -c receiver -fm -t \" + str(exp['duration']) + \" -C bbr \")\n",
    "    # start an iperf3 sender for the loss based CC flows (Cubic & Reno)\n",
    "    sender_node.execute_thread(\"iperf3 -c receiver -fm -t \" + str(exp['duration']) + \" -C \" + exp['loss_cc'] + \" -p 5301\")\n",
    "\n",
    "    time.sleep(exp['duration'] + 10)\n",
    "    \n",
    "print(\"done\")"
   ]
  },
  {
   "cell_type": "code",
   "execution_count": 62,
   "id": "d36e1785-2944-4230-b875-ce92c131fe45",
   "metadata": {},
   "outputs": [],
   "source": [
    "experiment_dfs = {}\n",
    "\n",
    "for exp in exp_lists:\n",
    "\n",
    "    bbr_file = \"fig2a_bbr_\" + str(exp['bufcap']) + \"_bbrV\" + exp['loss_cc'] + \".txt\"\n",
    "    tput_bbr =  receiver_node.execute(\"head --lines=-5 /home/ubuntu/figure2a/\"+bbr_file+\" | grep 'Mbits/sec' | awk -F '-' '{print $2}' | awk '{print $1\\\",\\\"$5}'\", quiet=True)\n",
    "    df_bbr = pd.read_csv(StringIO(tput_bbr[0]), names = ['time','goodput'])\n",
    "    experiment_key = f\"bbr_{exp['bufcap']}_{exp['loss_cc']}\"\n",
    "    experiment_dfs[experiment_key] = df_bbr\n",
    "\n",
    "\n",
    "    loss_file = \"fig2a_\" + exp['loss_cc'] + \"_\" + str(exp['bufcap']) + \"_bbrV\" + exp['loss_cc'] + \".txt\"\n",
    "    tput_loss = receiver_node.execute(\"head --lines=-5 /home/ubuntu/figure2a/\"+loss_file+\" | grep 'Mbits/sec' | awk -F '-' '{print $2}' | awk '{print $1\\\",\\\"$5}'\", quiet=True)\n",
    "    df_loss = pd.read_csv(StringIO(tput_loss[0]), names = ['time','goodput'])\n",
    "    experiment_key = f\"loss_{exp['bufcap']}_{exp['loss_cc']}\"\n",
    "    experiment_dfs[experiment_key] = df_loss"
   ]
  },
  {
   "cell_type": "code",
   "execution_count": 170,
   "id": "54f05419-e528-4e35-9a6c-9c497d8262c2",
   "metadata": {},
   "outputs": [],
   "source": [
    "def find_convergence(df, percentage_change, time_period):\n",
    "    \"\"\"\n",
    "    Find the first time instance when the throughput (goodput) does not change\n",
    "    by more than X% for T seconds.\n",
    "\n",
    "    :param df: DataFrame with 'time' and 'goodput' columns\n",
    "    :param percentage_change: The maximum allowed relative change in goodput (as a percentage)\n",
    "    :param time_period: The period of time for which we require stability (in seconds)\n",
    "    :return: The time of convergence, or None if convergence was not found\n",
    "    \"\"\"\n",
    "    # Convert percentage to a proportion\n",
    "    max_change = percentage_change / 100.0\n",
    "    \n",
    "    # Initialize variables\n",
    "    start_time = df['time'].iloc[0]\n",
    "    previous_goodput = df['goodput'].iloc[0]\n",
    "    \n",
    "    # Iterate over the DataFrame to check for periods of stability\n",
    "    for i in range(1, len(df)):\n",
    "        current_time = df['time'].iloc[i]\n",
    "        current_goodput = df['goodput'].iloc[i]\n",
    "        \n",
    "        # Calculate the relative change in goodput\n",
    "        if previous_goodput != 0:  # To avoid division by zero\n",
    "            change = abs((current_goodput - previous_goodput) / previous_goodput)\n",
    "        else:\n",
    "            change = 0\n",
    "        \n",
    "        # If the change is more than the allowed max change, reset the start time\n",
    "        if change > max_change:\n",
    "            start_time = current_time\n",
    "            previous_goodput = current_goodput\n",
    "        elif (current_time - start_time) >= time_period:\n",
    "            # If the period of stability is greater than or equal to T seconds, return the start time\n",
    "            return start_time\n",
    "    \n",
    "    # If the loop completes without returning, convergence was not found\n",
    "    return None"
   ]
  },
  {
   "cell_type": "code",
   "execution_count": 64,
   "id": "983a1f60-5506-4a34-921e-574925c9db87",
   "metadata": {},
   "outputs": [],
   "source": [
    "def find_convergence(df, percentage_change, time_period):\n",
    "    \"\"\"\n",
    "    Find the first time instance when the average throughput (goodput) does not change\n",
    "    by more than X% for at least T seconds.\n",
    "\n",
    "    :param df: DataFrame with 'time' and 'goodput' columns\n",
    "    :param percentage_change: The maximum allowed relative change in goodput (as a percentage)\n",
    "    :param time_period: The period of time for which we require stability (in seconds)\n",
    "    :return: The time of convergence, or None if convergence was not found\n",
    "    \"\"\"\n",
    "    # Convert percentage to a proportion\n",
    "    max_change = percentage_change / 100.0\n",
    "\n",
    "    # Get the initial rolling average\n",
    "    rolling_avg = df['goodput'].rolling(window=time_period, min_periods=1).mean()\n",
    "\n",
    "    for i in range(time_period, len(df)):\n",
    "        # Calculate the percentage change between the current rolling average and the previous period's rolling average\n",
    "        if rolling_avg[i - time_period] != 0:  # To avoid division by zero\n",
    "            change = abs((rolling_avg[i] - rolling_avg[i - time_period]) / rolling_avg[i - time_period])\n",
    "        else:\n",
    "            change = 0\n",
    "\n",
    "        # Check if the percentage change is within the threshold\n",
    "        if change <= max_change:\n",
    "            # Return the start time of the window where convergence criteria is met\n",
    "            return df['time'].iloc[i - time_period + 1]\n",
    "\n",
    "    # If the loop completes without returning, convergence was not found\n",
    "    return None"
   ]
  },
  {
   "cell_type": "code",
   "execution_count": 171,
   "id": "d1eb8b06-92ea-4a6a-bde0-d1606f160a95",
   "metadata": {},
   "outputs": [],
   "source": [
    "X = 0.1\n",
    "T = 120\n",
    "\n",
    "\n",
    "convergence_times = {}\n",
    "\n",
    "for key, df in experiment_dfs.items():\n",
    "    # Check if the key starts with 'bbr_'\n",
    "    if key.startswith('bbr_'):\n",
    "        # Call the find_convergence function with the DataFrame\n",
    "        convergence_time = find_convergence(df, X, T)\n",
    "        \n",
    "        # Store the convergence time in the results dictionary\n",
    "        convergence_times[key] = convergence_time"
   ]
  },
  {
   "cell_type": "code",
   "execution_count": 168,
   "id": "33d958b9-35bd-417a-8b04-f669f725bf4d",
   "metadata": {},
   "outputs": [
    {
     "data": {
      "text/plain": [
       "{'bbr_1_cubic': 23.0,\n",
       " 'bbr_2_cubic': 48.0,\n",
       " 'bbr_4_cubic': 134.0,\n",
       " 'bbr_8_cubic': 169.0,\n",
       " 'bbr_16_cubic': 237.0,\n",
       " 'bbr_32_cubic': 488.0,\n",
       " 'bbr_64_cubic': 462.0}"
      ]
     },
     "execution_count": 168,
     "metadata": {},
     "output_type": "execute_result"
    }
   ],
   "source": [
    "convergence_times"
   ]
  },
  {
   "cell_type": "code",
   "execution_count": 169,
   "id": "496f2819-8eaa-43d0-903a-a8bfcd41ee6f",
   "metadata": {},
   "outputs": [
    {
     "data": {
      "image/png": "[encoded data removed]",
      "text/plain": [
       "<Figure size 1000x500 with 1 Axes>"
      ]
     },
     "metadata": {},
     "output_type": "display_data"
    }
   ],
   "source": [
    "import numpy as np\n",
    "\n",
    "# Given queue sizes\n",
    "queue_sizes = [2**n for n in range(7)]\n",
    "\n",
    "# Extract the convergence times into a list, in the same order as queue_sizes\n",
    "times = [convergence_times.get(f'bbr_{q}_cubic', 0) for q in queue_sizes]\n",
    "\n",
    "plt.figure(figsize=(10, 5))\n",
    "plt.bar(np.log2(queue_sizes), times, color=(0.1, 0.3, 0.9), width=0.6)  # Adjust width for a more compact look\n",
    "plt.xlabel('Queue Size (BDP)', fontsize=14, labelpad=10)\n",
    "plt.ylabel('Convergence Time (s)', fontsize=14, labelpad=10)\n",
    "plt.title('Convergence Time vs Queue Size', fontsize=16, pad=20)\n",
    "plt.xticks(np.log2(queue_sizes), [str(q) for q in queue_sizes], fontsize=12)  # Ensuring proper tick label formatting\n",
    "plt.yticks(fontsize=12)\n",
    "plt.grid(True, linestyle='--', linewidth=0.5)  # Adjust grid style\n",
    "plt.tight_layout()  # Adjust layout to make sure everything fits without overlap\n",
    "plt.show()"
   ]
  },
  {
   "cell_type": "markdown",
   "id": "a8b600e2-d6f5-485c-a3d2-732c6c102767",
   "metadata": {},
   "source": [
    "### Delete your slice"
   ]
  },
  {
   "cell_type": "markdown",
   "id": "aa1500ba-523c-451c-8d30-1326eeccc686",
   "metadata": {},
   "source": [
    "When you finish your experiment, you should delete your slice! The following cells deletes all the resources in your slice, freeing them for other experimenters."
   ]
  },
  {
   "cell_type": "code",
   "execution_count": null,
   "id": "0c0ab4ca-6c1c-4753-b015-dacd41cc7fc7",
   "metadata": {},
   "outputs": [],
   "source": [
    "slice = fablib.get_slice(name=slice_name)\n",
    "fablib.delete_slice(slice_name)"
   ]
  },
  {
   "cell_type": "code",
   "execution_count": null,
   "id": "e7625e7a-6d09-47c3-bca3-810e27745d6c",
   "metadata": {},
   "outputs": [],
   "source": [
    "# slice should end up in \"Dead\" state\n",
    "# re-run this cell until you see it in \"Dead\" state\n",
    "slice.update()\n",
    "_ = slice.show()"
   ]
  }
 ],
 "metadata": {
  "kernelspec": {
   "display_name": "Python 3 (ipykernel)",
   "language": "python",
   "name": "python3"
  },
  "language_info": {
   "codemirror_mode": {
    "name": "ipython",
    "version": 3
   },
   "file_extension": ".py",
   "mimetype": "text/x-python",
   "name": "python",
   "nbconvert_exporter": "python",
   "pygments_lexer": "ipython3",
   "version": "3.10.6"
  }
 },
 "nbformat": 4,
 "nbformat_minor": 5
}
