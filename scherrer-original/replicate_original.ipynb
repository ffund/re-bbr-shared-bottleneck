{
 "cells": [
  {
   "cell_type": "markdown",
   "id": "41d6f452-b188-463c-82eb-9d97a2b51979",
   "metadata": {},
   "source": [
    " **Configure environment**"
   ]
  },
  {
   "cell_type": "code",
   "execution_count": null,
   "id": "ad072c2c-5ba5-4511-bbcc-7aa0b74a9f2e",
   "metadata": {},
   "outputs": [],
   "source": [
    "from fabrictestbed_extensions.fablib.fablib import FablibManager as fablib_manager\n",
    "fablib = fablib_manager() \n",
    "conf = fablib.show_config()"
   ]
  },
  {
   "cell_type": "markdown",
   "id": "227ab0fc-6552-48dd-8cf2-1f5c44268514",
   "metadata": {},
   "source": [
    "**Node configuration**"
   ]
  },
  {
   "cell_type": "code",
   "execution_count": null,
   "id": "b5b32406-6df0-459a-b106-35e7e62b6c55",
   "metadata": {},
   "outputs": [],
   "source": [
    "slice_name=\"scherrer-original-\" + fablib.get_bastion_username()\n",
    "\n",
    "node_conf = [\n",
    " {'name': \"mininet_node\",   'cores': 4, 'ram': 16, 'disk': 100, 'image': 'default_ubuntu_22', 'packages': []}\n",
    "]\n",
    "\n",
    "exp_conf = {'cores': sum([ n['cores'] for n in node_conf]) }"
   ]
  },
  {
   "cell_type": "markdown",
   "id": "8f914591-aa9d-4e34-9146-d027166bdfd6",
   "metadata": {},
   "source": [
    "**Reserve resources**"
   ]
  },
  {
   "cell_type": "code",
   "execution_count": null,
   "id": "76426ac5-7302-45f5-9fad-9ba430a34a64",
   "metadata": {},
   "outputs": [],
   "source": [
    "try:\n",
    "    slice = fablib.get_slice(slice_name)\n",
    "    print(\"You already have a slice by this name!\")\n",
    "    print(\"If you previously reserved resources, skip to the 'log in to resources' section.\")\n",
    "except:\n",
    "    print(\"You don't have a slice named %s yet.\" % slice_name)\n",
    "    print(\"Continue to the next step to make one.\")\n",
    "    slice = fablib.new_slice(name=slice_name)"
   ]
  },
  {
   "cell_type": "markdown",
   "id": "59840f51-42bc-459e-a891-f11bb0d2100a",
   "metadata": {},
   "source": [
    "We will select a random site that has sufficient resources for our experiment:"
   ]
  },
  {
   "cell_type": "code",
   "execution_count": null,
   "id": "6d1905ed-301d-4378-ae32-54c0fcac9ca9",
   "metadata": {},
   "outputs": [],
   "source": [
    "while True:\n",
    "    site_name = fablib.get_random_site()\n",
    "    if ( (fablib.resources.get_core_available(site_name) > 1.2*exp_conf['cores']) ):\n",
    "        break\n",
    "\n",
    "fablib.show_site(site_name)"
   ]
  },
  {
   "cell_type": "markdown",
   "id": "e9a1e1da-c5fc-4e8b-a9a2-fc0d6b9368e6",
   "metadata": {},
   "source": [
    "Then we will add the host"
   ]
  },
  {
   "cell_type": "code",
   "execution_count": null,
   "id": "c8947588-bb98-4caa-bed7-2106b5f2b9f8",
   "metadata": {},
   "outputs": [],
   "source": [
    "# this cell sets up the nodes\n",
    "for n in node_conf:\n",
    "    slice.add_node(name=n['name'], site=site_name, \n",
    "                   cores=n['cores'], \n",
    "                   ram=n['ram'], \n",
    "                   disk=n['disk'], \n",
    "                   image=n['image'])"
   ]
  },
  {
   "cell_type": "markdown",
   "id": "8b813254-b26e-4ed0-80d3-cf6f341235b8",
   "metadata": {},
   "source": [
    "The following cell submits our request to the FABRIC site. The output of this cell will update automatically as the status of our request changes.\n",
    "\n",
    "* While it is being prepared, the “State” of the slice will appear as “Configuring”.\n",
    "* When it is ready, the “State” of the slice will change to “StableOK”.\n",
    "\n",
    "You may prefer to walk away and come back in a few minutes (for simple slices) or a few tens of minutes (for more complicated slices with many resources)."
   ]
  },
  {
   "cell_type": "code",
   "execution_count": null,
   "id": "1e738854-1061-48ba-9217-28395032ce10",
   "metadata": {},
   "outputs": [],
   "source": [
    "slice.submit()\n"
   ]
  },
  {
   "cell_type": "code",
   "execution_count": null,
   "id": "22746fa8-9ef1-44d2-ae92-b3cd68bbde4e",
   "metadata": {},
   "outputs": [],
   "source": [
    "slice.get_state()\n",
    "slice.wait_ssh(progress=True)"
   ]
  },
  {
   "cell_type": "markdown",
   "id": "2ef7cfb7-99a6-40c1-94c9-cfa5ea871a2d",
   "metadata": {},
   "source": [
    "**Log into resources**"
   ]
  },
  {
   "cell_type": "code",
   "execution_count": null,
   "id": "1f2220fd-04df-42f5-8752-9747a24c91af",
   "metadata": {},
   "outputs": [],
   "source": [
    "import pandas as pd\n",
    "pd.set_option('display.max_colwidth', None)\n",
    "slice_info = [{'Name': n.get_name(), 'SSH command': n.get_ssh_command()} for n in slice.get_nodes()]\n",
    "pd.DataFrame(slice_info).set_index('Name')"
   ]
  },
  {
   "cell_type": "markdown",
   "id": "77c2844e-63f0-40d1-9d93-0f466ff06a6f",
   "metadata": {},
   "source": [
    "**Install Mininet**"
   ]
  },
  {
   "cell_type": "code",
   "execution_count": null,
   "id": "b95096b1-bd30-4ec5-8aff-0db90df7f392",
   "metadata": {
    "collapsed": true,
    "jupyter": {
     "outputs_hidden": true
    },
    "tags": []
   },
   "outputs": [],
   "source": [
    "slice.get_node(name=\"mininet_node\").execute('git clone https://github.com/mininet/mininet')\n",
    "slice.get_node(name=\"mininet_node\").execute('mininet/util/install.sh -a')\n",
    "slice.get_node(name=\"mininet_node\").execute('sudo mn --switch ovsbr --test pingall')"
   ]
  },
  {
   "cell_type": "markdown",
   "id": "07039ac4-b062-4518-9cfd-575514c4ea58",
   "metadata": {},
   "source": [
    "**Clone original repo and install dependencies**"
   ]
  },
  {
   "cell_type": "code",
   "execution_count": null,
   "id": "5a2b07ed-2d22-4991-8899-43dec3610fcc",
   "metadata": {
    "collapsed": true,
    "jupyter": {
     "outputs_hidden": true
    },
    "tags": []
   },
   "outputs": [],
   "source": [
    "slice.get_node(name=\"mininet_node\").execute('git clone https://github.com/ANONYMIZED/imc22-bbr-fluid-model.git')\n",
    "slice.get_node(name=\"mininet_node\").execute('cd imc22-bbr-fluid-model; sudo bash ./install_dependencies.sh')\n",
    "slice.get_node(name=\"mininet_node\").execute('sudo apt-get -y install texlive-latex-extra')"
   ]
  },
  {
   "cell_type": "markdown",
   "id": "430fb723-2661-4049-813a-4e06b3c99511",
   "metadata": {},
   "source": [
    "**Run BBR model checking experiment**"
   ]
  },
  {
   "cell_type": "code",
   "execution_count": null,
   "id": "93083d5a-8966-45a7-a0ec-6cf514ed45e6",
   "metadata": {
    "tags": []
   },
   "outputs": [],
   "source": [
    "slice.get_node(name=\"mininet_node\").execute('cd imc22-bbr-fluid-model;./run_model.py -c configs/bbr_model_checking.yaml')"
   ]
  },
  {
   "cell_type": "code",
   "execution_count": null,
   "id": "e4c61591-f8dc-4342-861a-a91d638561c5",
   "metadata": {},
   "outputs": [],
   "source": [
    "cmds_run_bbr_model_checking = '''\n",
    "            cd imc22-bbr-fluid-model\n",
    "            ./run_model.py -c configs/bbr_model_checking.yaml\n",
    "            sudo ./run_experiments.py configs/bbr_model_checking.yaml\n",
    "            ./plot_trace.py configs/bbr_model_checking.yaml\n",
    "            ./plot.py configs/bbr_model_checking.yaml\n",
    "            '''\n",
    "\n",
    "slice.get_node(name=\"mininet_node\").execute(cmds_run_bbr_model_checking)"
   ]
  },
  {
   "cell_type": "code",
   "execution_count": null,
   "id": "f8870261-bd42-43de-ab46-3109898133ae",
   "metadata": {},
   "outputs": [],
   "source": [
    "slice.get_node(name=\"mininet_node\").download_file(\"/home/fabric/work/trace_original.png\",\"/imc22-bbr-fluid-model/results/bbr_model_checking/mininet_experiments/results/12/1/100/0.5/BBR-1/2024-03-31--19-56-38/throughput_dist.png\")\n",
    "\n",
    "\n",
    "\n"
   ]
  },
  {
   "cell_type": "markdown",
   "id": "ae1950c3-5dc8-40ed-873b-e87adb70d71a",
   "metadata": {},
   "source": [
    "**Run 100 Mbps, 10 ms experiments**"
   ]
  },
  {
   "cell_type": "code",
   "execution_count": null,
   "id": "1edbb7d2-3ca6-43bd-926c-15b325f455ec",
   "metadata": {
    "collapsed": true,
    "jupyter": {
     "outputs_hidden": true
    },
    "tags": []
   },
   "outputs": [],
   "source": [
    "cmds_run_scenario = '''\n",
    "            cd imc22-bbr-fluid-model\n",
    "            ./run_model.py -c configs/model_validation_100Mbps_5ms.yaml\n",
    "            sudo ./run_experiments.py configs/model_validation_100Mbps_5ms.yaml\n",
    "            ./plot_trace.py configs/model_validation_100Mbps_5ms.yaml\n",
    "            ./plot.py configs/model_validation_100Mbps_5ms.yaml\n",
    "            '''\n",
    "\n",
    "slice.get_node(name=\"mininet_node\").execute(cmds_run_scenario)"
   ]
  }
 ],
 "metadata": {
  "kernelspec": {
   "display_name": "Python 3",
   "language": "python",
   "name": "python3"
  },
  "language_info": {
   "codemirror_mode": {
    "name": "ipython",
    "version": 3
   },
   "file_extension": ".py",
   "mimetype": "text/x-python",
   "name": "python",
   "nbconvert_exporter": "python",
   "pygments_lexer": "ipython3",
   "version": "3.10.12 (main, Nov 20 2023, 15:14:05) [GCC 11.4.0]"
  },
  "vscode": {
   "interpreter": {
    "hash": "916dbcbb3f70747c44a77c7bcd40155683ae19c65e1c03b4aa3499c5328201f1"
   }
  }
 },
 "nbformat": 4,
 "nbformat_minor": 5
}
